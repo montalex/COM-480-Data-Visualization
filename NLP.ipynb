{
 "cells": [
  {
   "cell_type": "markdown",
   "metadata": {},
   "source": [
    "# NLP on reviews"
   ]
  },
  {
   "cell_type": "code",
   "execution_count": 4,
   "metadata": {
    "collapsed": true
   },
   "outputs": [],
   "source": [
    "#From nltk\n",
    "from nltk.tokenize import word_tokenize\n",
    "from nltk import pos_tag\n",
    "from nltk.stem.porter import PorterStemmer\n",
    "from nltk.stem import WordNetLemmatizer\n",
    "from nltk.corpus import wordnet\n",
    "import stop_words\n",
    "import string\n",
    "from tqdm import tqdm, tqdm_notebook\n",
    "\n",
    "from sklearn.feature_extraction.text import CountVectorizer\n",
    "import pandas as pd\n",
    "from collections import Counter\n"
   ]
  },
  {
   "cell_type": "code",
   "execution_count": 5,
   "metadata": {
    "collapsed": false
   },
   "outputs": [
    {
     "data": {
      "text/html": [
       "<div>\n",
       "<style>\n",
       "    .dataframe thead tr:only-child th {\n",
       "        text-align: right;\n",
       "    }\n",
       "\n",
       "    .dataframe thead th {\n",
       "        text-align: left;\n",
       "    }\n",
       "\n",
       "    .dataframe tbody tr th {\n",
       "        vertical-align: top;\n",
       "    }\n",
       "</style>\n",
       "<table border=\"1\" class=\"dataframe\">\n",
       "  <thead>\n",
       "    <tr style=\"text-align: right;\">\n",
       "      <th></th>\n",
       "      <th>name</th>\n",
       "      <th>score</th>\n",
       "      <th>beer style</th>\n",
       "      <th>abv</th>\n",
       "      <th>cal</th>\n",
       "      <th>city</th>\n",
       "      <th>country</th>\n",
       "      <th>link</th>\n",
       "      <th>id</th>\n",
       "      <th>reviews</th>\n",
       "    </tr>\n",
       "  </thead>\n",
       "  <tbody>\n",
       "    <tr>\n",
       "      <th>0</th>\n",
       "      <td>Ivanych Zhivoe Svetloe</td>\n",
       "      <td>2.84</td>\n",
       "      <td>Zwickel/Keller/Landbier</td>\n",
       "      <td>4.5</td>\n",
       "      <td>135.0</td>\n",
       "      <td>Sukhum</td>\n",
       "      <td>Abkhazia</td>\n",
       "      <td>/beer/ivanych-zhivoe-svetloe/301247/</td>\n",
       "      <td>301247</td>\n",
       "      <td>Bottle. Clear deep golden colour. Moderate whi...</td>\n",
       "    </tr>\n",
       "    <tr>\n",
       "      <th>1</th>\n",
       "      <td>Stara Praha Oldenburg Tiemnoye</td>\n",
       "      <td>2.52</td>\n",
       "      <td>Dunkel/Tmavý</td>\n",
       "      <td>4.7</td>\n",
       "      <td>141.0</td>\n",
       "      <td>Stara Gagra</td>\n",
       "      <td>Abkhazia</td>\n",
       "      <td>/beer/stara-praha-oldenburg-tiemnoye/334787/</td>\n",
       "      <td>334787</td>\n",
       "      <td>Bottle thanks to zwr. Cloudy amber beer with a...</td>\n",
       "    </tr>\n",
       "    <tr>\n",
       "      <th>2</th>\n",
       "      <td>Stara Praha Oldenburg Svetloe</td>\n",
       "      <td>2.51</td>\n",
       "      <td>Pale Lager</td>\n",
       "      <td>4.7</td>\n",
       "      <td>141.0</td>\n",
       "      <td>Stara Gagra</td>\n",
       "      <td>Abkhazia</td>\n",
       "      <td>/beer/stara-praha-oldenburg-svetloe/334785/</td>\n",
       "      <td>334785</td>\n",
       "      <td>Вполне обычный лагер. Пробова&amp; пиво когда заез...</td>\n",
       "    </tr>\n",
       "  </tbody>\n",
       "</table>\n",
       "</div>"
      ],
      "text/plain": [
       "                             name  score               beer style  abv    cal  \\\n",
       "0          Ivanych Zhivoe Svetloe   2.84  Zwickel/Keller/Landbier  4.5  135.0   \n",
       "1  Stara Praha Oldenburg Tiemnoye   2.52             Dunkel/Tmavý  4.7  141.0   \n",
       "2   Stara Praha Oldenburg Svetloe   2.51               Pale Lager  4.7  141.0   \n",
       "\n",
       "          city   country                                          link  \\\n",
       "0       Sukhum  Abkhazia          /beer/ivanych-zhivoe-svetloe/301247/   \n",
       "1  Stara Gagra  Abkhazia  /beer/stara-praha-oldenburg-tiemnoye/334787/   \n",
       "2  Stara Gagra  Abkhazia   /beer/stara-praha-oldenburg-svetloe/334785/   \n",
       "\n",
       "       id                                            reviews  \n",
       "0  301247  Bottle. Clear deep golden colour. Moderate whi...  \n",
       "1  334787  Bottle thanks to zwr. Cloudy amber beer with a...  \n",
       "2  334785  Вполне обычный лагер. Пробова& пиво когда заез...  "
      ]
     },
     "execution_count": 5,
     "metadata": {},
     "output_type": "execute_result"
    }
   ],
   "source": [
    "df_rev = pd.read_csv('./data_ratebeer_withReview.csv')\n",
    "df_rev.head(3)"
   ]
  },
  {
   "cell_type": "code",
   "execution_count": 6,
   "metadata": {
    "collapsed": false
   },
   "outputs": [
    {
     "data": {
      "text/plain": [
       "(4999, 10)"
      ]
     },
     "execution_count": 6,
     "metadata": {},
     "output_type": "execute_result"
    }
   ],
   "source": [
    "df_rev.shape"
   ]
  },
  {
   "cell_type": "code",
   "execution_count": 10,
   "metadata": {
    "collapsed": false
   },
   "outputs": [
    {
     "data": {
      "text/html": [
       "<div>\n",
       "<style>\n",
       "    .dataframe thead tr:only-child th {\n",
       "        text-align: right;\n",
       "    }\n",
       "\n",
       "    .dataframe thead th {\n",
       "        text-align: left;\n",
       "    }\n",
       "\n",
       "    .dataframe tbody tr th {\n",
       "        vertical-align: top;\n",
       "    }\n",
       "</style>\n",
       "<table border=\"1\" class=\"dataframe\">\n",
       "  <thead>\n",
       "    <tr style=\"text-align: right;\">\n",
       "      <th></th>\n",
       "      <th>sens</th>\n",
       "      <th>types</th>\n",
       "      <th>description</th>\n",
       "    </tr>\n",
       "  </thead>\n",
       "  <tbody>\n",
       "    <tr>\n",
       "      <th>0</th>\n",
       "      <td>taste</td>\n",
       "      <td>finish</td>\n",
       "      <td>dry fruity sweet alcoholic warming bitter acid...</td>\n",
       "    </tr>\n",
       "    <tr>\n",
       "      <th>1</th>\n",
       "      <td>taste</td>\n",
       "      <td>intensity</td>\n",
       "      <td>assertive mild bold balanced robust intense me...</td>\n",
       "    </tr>\n",
       "    <tr>\n",
       "      <th>2</th>\n",
       "      <td>taste</td>\n",
       "      <td>notes</td>\n",
       "      <td>roasted bready bitter sweet spicy fruity choco...</td>\n",
       "    </tr>\n",
       "    <tr>\n",
       "      <th>3</th>\n",
       "      <td>sight</td>\n",
       "      <td>clarity</td>\n",
       "      <td>brilliant hazy cloudy turbid opaque clear crys...</td>\n",
       "    </tr>\n",
       "    <tr>\n",
       "      <th>4</th>\n",
       "      <td>sight</td>\n",
       "      <td>color</td>\n",
       "      <td>honey caramel russet red brown amber chestnut ...</td>\n",
       "    </tr>\n",
       "  </tbody>\n",
       "</table>\n",
       "</div>"
      ],
      "text/plain": [
       "    sens      types                                        description\n",
       "0  taste     finish  dry fruity sweet alcoholic warming bitter acid...\n",
       "1  taste  intensity  assertive mild bold balanced robust intense me...\n",
       "2  taste      notes  roasted bready bitter sweet spicy fruity choco...\n",
       "3  sight    clarity  brilliant hazy cloudy turbid opaque clear crys...\n",
       "4  sight      color  honey caramel russet red brown amber chestnut ..."
      ]
     },
     "execution_count": 10,
     "metadata": {},
     "output_type": "execute_result"
    }
   ],
   "source": [
    "df_des = pd.read_csv('./beer_desc_vocab_clean.csv')\n",
    "df_des.head()"
   ]
  },
  {
   "cell_type": "markdown",
   "metadata": {},
   "source": [
    "## Get frequent words in text"
   ]
  },
  {
   "cell_type": "code",
   "execution_count": 11,
   "metadata": {
    "collapsed": false
   },
   "outputs": [],
   "source": [
    "wordlist = \" \".join([txt.lower() for txt in df_des.description]).split(\" \")"
   ]
  },
  {
   "cell_type": "code",
   "execution_count": 12,
   "metadata": {
    "collapsed": true
   },
   "outputs": [],
   "source": [
    "vocab_list = sorted(Counter(wordlist), key=lambda w: w.lower())"
   ]
  },
  {
   "cell_type": "code",
   "execution_count": 13,
   "metadata": {
    "collapsed": true
   },
   "outputs": [],
   "source": [
    "def get_freq_words(txt):\n",
    "    bow = CountVectorizer(vocabulary=vocab_list)\n",
    "    bow_transformer = bow.fit_transform([txt])\n",
    "    vocab_used = list(bow.get_feature_names()) \n",
    "    counts = bow_transformer.sum(axis=0).A1\n",
    "    freq_dist = Counter(dict(zip(vocab_used, counts)))\n",
    "    most_com = freq_dist.most_common(10)\n",
    "    freq = [mc for mc in most_com if mc[1] > 0]\n",
    "    return freq"
   ]
  },
  {
   "cell_type": "code",
   "execution_count": 14,
   "metadata": {
    "collapsed": false
   },
   "outputs": [],
   "source": [
    "fr = get_freq_words(\"this beer is and dry, with a orange color and robust intensity\")"
   ]
  },
  {
   "cell_type": "code",
   "execution_count": 15,
   "metadata": {
    "collapsed": false
   },
   "outputs": [
    {
     "data": {
      "text/plain": [
       "[('robust', 1), ('orange', 1), ('dry', 1)]"
      ]
     },
     "execution_count": 15,
     "metadata": {},
     "output_type": "execute_result"
    }
   ],
   "source": [
    "fr"
   ]
  },
  {
   "cell_type": "markdown",
   "metadata": {},
   "source": [
    "## Text Pre-processing"
   ]
  },
  {
   "cell_type": "code",
   "execution_count": 16,
   "metadata": {
    "collapsed": true
   },
   "outputs": [],
   "source": [
    "stop_words_ = stop_words.get_stop_words(\"en\")\n",
    "punctuation_filter = str.maketrans({key: None for key in string.punctuation})\n",
    "\n",
    "def nlp_pre_process(text):\n",
    "    \"\"\"\n",
    "    Reduces an input text into a list of tokens, \n",
    "    using NLP filterings such as normalization, \n",
    "    stop word filtering.\n",
    "    text: (str)\n",
    "    tokens: list(str)\n",
    "    output: str\n",
    "    \"\"\"\n",
    "    text = text.lower()  # normalize\n",
    "    text = text.translate(punctuation_filter)  # remove punctuation\n",
    "    tokens = word_tokenize(text)  # tokenize\n",
    "    tokens = [t for t in tokens if t not in stop_words_]  # stop words filtering    \n",
    "    return \" \".join(tokens)"
   ]
  },
  {
   "cell_type": "code",
   "execution_count": 17,
   "metadata": {
    "collapsed": false
   },
   "outputs": [
    {
     "name": "stderr",
     "output_type": "stream",
     "text": [
      "100%|██████████| 4999/4999 [00:12<00:00, 406.22it/s]\n"
     ]
    }
   ],
   "source": [
    "tqdm.pandas(tqdm_notebook())\n",
    "df_rev.reviews = df_rev.reviews.progress_apply(nlp_pre_process)"
   ]
  },
  {
   "cell_type": "code",
   "execution_count": 18,
   "metadata": {
    "collapsed": false
   },
   "outputs": [
    {
     "name": "stderr",
     "output_type": "stream",
     "text": [
      "100%|██████████| 4999/4999 [00:03<00:00, 1320.47it/s]\n"
     ]
    }
   ],
   "source": [
    "df_rev['most_freq'] = df_rev.reviews.progress_apply(get_freq_words)"
   ]
  },
  {
   "cell_type": "code",
   "execution_count": 19,
   "metadata": {
    "collapsed": false
   },
   "outputs": [
    {
     "data": {
      "text/html": [
       "<div>\n",
       "<style>\n",
       "    .dataframe thead tr:only-child th {\n",
       "        text-align: right;\n",
       "    }\n",
       "\n",
       "    .dataframe thead th {\n",
       "        text-align: left;\n",
       "    }\n",
       "\n",
       "    .dataframe tbody tr th {\n",
       "        vertical-align: top;\n",
       "    }\n",
       "</style>\n",
       "<table border=\"1\" class=\"dataframe\">\n",
       "  <thead>\n",
       "    <tr style=\"text-align: right;\">\n",
       "      <th></th>\n",
       "      <th>name</th>\n",
       "      <th>score</th>\n",
       "      <th>beer style</th>\n",
       "      <th>abv</th>\n",
       "      <th>cal</th>\n",
       "      <th>city</th>\n",
       "      <th>country</th>\n",
       "      <th>link</th>\n",
       "      <th>id</th>\n",
       "      <th>reviews</th>\n",
       "      <th>most_freq</th>\n",
       "    </tr>\n",
       "  </thead>\n",
       "  <tbody>\n",
       "    <tr>\n",
       "      <th>0</th>\n",
       "      <td>Ivanych Zhivoe Svetloe</td>\n",
       "      <td>2.84</td>\n",
       "      <td>Zwickel/Keller/Landbier</td>\n",
       "      <td>4.5</td>\n",
       "      <td>135.0</td>\n",
       "      <td>Sukhum</td>\n",
       "      <td>Abkhazia</td>\n",
       "      <td>/beer/ivanych-zhivoe-svetloe/301247/</td>\n",
       "      <td>301247</td>\n",
       "      <td>bottle clear deep golden colour moderate white...</td>\n",
       "      <td>[(sweet, 2), (malty, 2), (clear, 2), (medium, ...</td>\n",
       "    </tr>\n",
       "    <tr>\n",
       "      <th>1</th>\n",
       "      <td>Stara Praha Oldenburg Tiemnoye</td>\n",
       "      <td>2.52</td>\n",
       "      <td>Dunkel/Tmavý</td>\n",
       "      <td>4.7</td>\n",
       "      <td>141.0</td>\n",
       "      <td>Stara Gagra</td>\n",
       "      <td>Abkhazia</td>\n",
       "      <td>/beer/stara-praha-oldenburg-tiemnoye/334787/</td>\n",
       "      <td>334787</td>\n",
       "      <td>bottle thanks zwr cloudy amber beer allmost he...</td>\n",
       "      <td>[(fruity, 2), (cloudy, 1), (amber, 1), (spritz...</td>\n",
       "    </tr>\n",
       "    <tr>\n",
       "      <th>2</th>\n",
       "      <td>Stara Praha Oldenburg Svetloe</td>\n",
       "      <td>2.51</td>\n",
       "      <td>Pale Lager</td>\n",
       "      <td>4.7</td>\n",
       "      <td>141.0</td>\n",
       "      <td>Stara Gagra</td>\n",
       "      <td>Abkhazia</td>\n",
       "      <td>/beer/stara-praha-oldenburg-svetloe/334785/</td>\n",
       "      <td>334785</td>\n",
       "      <td>вполне обычный лагер пробова пиво когда заезжа...</td>\n",
       "      <td>[(tart, 2), (hazy, 1), (lemon, 1), (grass, 1)]</td>\n",
       "    </tr>\n",
       "    <tr>\n",
       "      <th>3</th>\n",
       "      <td>Stara Praha Oldenburg Jantarnoye</td>\n",
       "      <td>2.49</td>\n",
       "      <td>Amber Lager/Vienna</td>\n",
       "      <td>4.5</td>\n",
       "      <td>135.0</td>\n",
       "      <td>Stara Gagra</td>\n",
       "      <td>Abkhazia</td>\n",
       "      <td>/beer/stara-praha-oldenburg-jantarnoye/334786/</td>\n",
       "      <td>334786</td>\n",
       "      <td>bottled thanks omhper golden colour mediumsize...</td>\n",
       "      <td>[(white, 1), (clear, 1), (spritzy, 1), (lemon,...</td>\n",
       "    </tr>\n",
       "    <tr>\n",
       "      <th>4</th>\n",
       "      <td>Assir Lager (Svetloe)</td>\n",
       "      <td>2.37</td>\n",
       "      <td>Pale Lager</td>\n",
       "      <td>5.0</td>\n",
       "      <td>150.0</td>\n",
       "      <td>Alakhadzykh Village Gagra Region</td>\n",
       "      <td>Abkhazia</td>\n",
       "      <td>/beer/assir-lager-svetloe/191169/</td>\n",
       "      <td>191169</td>\n",
       "      <td>bottled zappa right tasting clear pale golden ...</td>\n",
       "      <td>[(sweet, 1), (clear, 1)]</td>\n",
       "    </tr>\n",
       "  </tbody>\n",
       "</table>\n",
       "</div>"
      ],
      "text/plain": [
       "                               name  score               beer style  abv  \\\n",
       "0            Ivanych Zhivoe Svetloe   2.84  Zwickel/Keller/Landbier  4.5   \n",
       "1    Stara Praha Oldenburg Tiemnoye   2.52             Dunkel/Tmavý  4.7   \n",
       "2     Stara Praha Oldenburg Svetloe   2.51               Pale Lager  4.7   \n",
       "3  Stara Praha Oldenburg Jantarnoye   2.49       Amber Lager/Vienna  4.5   \n",
       "4             Assir Lager (Svetloe)   2.37               Pale Lager  5.0   \n",
       "\n",
       "     cal                              city   country  \\\n",
       "0  135.0                            Sukhum  Abkhazia   \n",
       "1  141.0                       Stara Gagra  Abkhazia   \n",
       "2  141.0                       Stara Gagra  Abkhazia   \n",
       "3  135.0                       Stara Gagra  Abkhazia   \n",
       "4  150.0  Alakhadzykh Village Gagra Region  Abkhazia   \n",
       "\n",
       "                                             link      id  \\\n",
       "0            /beer/ivanych-zhivoe-svetloe/301247/  301247   \n",
       "1    /beer/stara-praha-oldenburg-tiemnoye/334787/  334787   \n",
       "2     /beer/stara-praha-oldenburg-svetloe/334785/  334785   \n",
       "3  /beer/stara-praha-oldenburg-jantarnoye/334786/  334786   \n",
       "4               /beer/assir-lager-svetloe/191169/  191169   \n",
       "\n",
       "                                             reviews  \\\n",
       "0  bottle clear deep golden colour moderate white...   \n",
       "1  bottle thanks zwr cloudy amber beer allmost he...   \n",
       "2  вполне обычный лагер пробова пиво когда заезжа...   \n",
       "3  bottled thanks omhper golden colour mediumsize...   \n",
       "4  bottled zappa right tasting clear pale golden ...   \n",
       "\n",
       "                                           most_freq  \n",
       "0  [(sweet, 2), (malty, 2), (clear, 2), (medium, ...  \n",
       "1  [(fruity, 2), (cloudy, 1), (amber, 1), (spritz...  \n",
       "2     [(tart, 2), (hazy, 1), (lemon, 1), (grass, 1)]  \n",
       "3  [(white, 1), (clear, 1), (spritzy, 1), (lemon,...  \n",
       "4                           [(sweet, 1), (clear, 1)]  "
      ]
     },
     "execution_count": 19,
     "metadata": {},
     "output_type": "execute_result"
    }
   ],
   "source": [
    "df_rev.head()"
   ]
  },
  {
   "cell_type": "code",
   "execution_count": 20,
   "metadata": {
    "collapsed": false
   },
   "outputs": [],
   "source": [
    "toDrop = list(df_rev[df_rev.most_freq.apply(len) == 0].index)"
   ]
  },
  {
   "cell_type": "code",
   "execution_count": 21,
   "metadata": {
    "collapsed": false
   },
   "outputs": [],
   "source": [
    "df_rev = df_rev.drop(df_rev.index[toDrop])"
   ]
  },
  {
   "cell_type": "code",
   "execution_count": 22,
   "metadata": {
    "collapsed": false
   },
   "outputs": [],
   "source": [
    "df_rev = df_rev.reset_index(drop=True)"
   ]
  },
  {
   "cell_type": "code",
   "execution_count": 23,
   "metadata": {
    "collapsed": false,
    "scrolled": false
   },
   "outputs": [
    {
     "data": {
      "text/plain": [
       "(4857, 11)"
      ]
     },
     "execution_count": 23,
     "metadata": {},
     "output_type": "execute_result"
    }
   ],
   "source": [
    "df_rev.shape"
   ]
  },
  {
   "cell_type": "code",
   "execution_count": 24,
   "metadata": {
    "collapsed": false
   },
   "outputs": [
    {
     "data": {
      "text/plain": [
       "[('sweet', 2),\n",
       " ('malty', 2),\n",
       " ('clear', 2),\n",
       " ('medium', 2),\n",
       " ('bread', 2),\n",
       " ('light', 2),\n",
       " ('white', 1),\n",
       " ('harsh', 1),\n",
       " ('honey', 1),\n",
       " ('gold', 1)]"
      ]
     },
     "execution_count": 24,
     "metadata": {},
     "output_type": "execute_result"
    }
   ],
   "source": [
    "df_rev.most_freq[0]"
   ]
  },
  {
   "cell_type": "code",
   "execution_count": 25,
   "metadata": {
    "collapsed": false
   },
   "outputs": [],
   "source": [
    "df_most_freq = df_rev.drop(['score','beer style','abv','cal','city','country','link','reviews'], axis=1)"
   ]
  },
  {
   "cell_type": "code",
   "execution_count": 26,
   "metadata": {
    "collapsed": false
   },
   "outputs": [],
   "source": [
    "df_most_freq.to_csv('freq_desc_words.csv')"
   ]
  },
  {
   "cell_type": "code",
   "execution_count": null,
   "metadata": {
    "collapsed": true
   },
   "outputs": [],
   "source": []
  }
 ],
 "metadata": {
  "anaconda-cloud": {},
  "kernelspec": {
   "display_name": "Python [conda env:ada]",
   "language": "python",
   "name": "conda-env-ada-py"
  },
  "language_info": {
   "codemirror_mode": {
    "name": "ipython",
    "version": 3
   },
   "file_extension": ".py",
   "mimetype": "text/x-python",
   "name": "python",
   "nbconvert_exporter": "python",
   "pygments_lexer": "ipython3",
   "version": "3.5.2"
  },
  "widgets": {
   "state": {
    "37bbd161c7df4942b267b5657107e45f": {
     "views": [
      {
       "cell_index": 13
      }
     ]
    }
   },
   "version": "1.2.0"
  }
 },
 "nbformat": 4,
 "nbformat_minor": 2
}
