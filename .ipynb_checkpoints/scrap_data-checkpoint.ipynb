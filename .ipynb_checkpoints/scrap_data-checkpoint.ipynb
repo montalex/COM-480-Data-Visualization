{
 "cells": [
  {
   "cell_type": "markdown",
   "metadata": {},
   "source": [
    "<h1 style=\"justify-content: center; text-align:center\"><span class=\"label label-danger\" style=\"font-size:36px;\">DATA VIZ</span></h1><br><br>\n",
    "\n",
    "<ul class=\"list-group\" style=\"width:40%; float:left\">\n",
    "  <li class=\"list-group-item active\"><b>Table of Contents</b></li>\n",
    "  <li class=\"list-group-item\">Part I : Getting ranking per country</li>\n",
    "  <li class=\"list-group-item\">Part II : Getting beer details</li>\n",
    "</ul>\n",
    "\n",
    "\n",
    "<ul class=\"list-group\" style=\"width:40%; float:right\">\n",
    "  <li class=\"list-group-item active\"><b>Team Members</b></li>\n",
    "  <li class=\"list-group-item\">Alexis Montavon</li>\n",
    "  <li class=\"list-group-item\">Boris Flückiger</li>\n",
    "  <li class=\"list-group-item\">Yu Yamashita</li>\n",
    "</ul>"
   ]
  },
  {
   "cell_type": "code",
   "execution_count": 1,
   "metadata": {
    "collapsed": false
   },
   "outputs": [],
   "source": [
    "from bs4 import BeautifulSoup\n",
    "import pandas as pd \n",
    "import requests\n",
    "import time\n",
    "import numpy as np\n",
    "from IPython.core.display import display, HTML\n",
    "%matplotlib inline\n",
    "\n",
    "from os import listdir\n",
    "from os.path import isfile, join\n",
    "from tqdm import tqdm, tqdm_notebook\n"
   ]
  },
  {
   "cell_type": "markdown",
   "metadata": {},
   "source": [
    "# PART I"
   ]
  },
  {
   "cell_type": "code",
   "execution_count": 2,
   "metadata": {
    "collapsed": false
   },
   "outputs": [],
   "source": [
    "with requests.session() as s:\n",
    "    response = s.get(\"https://www.ratebeer.com/beer/country/abkhazia/263/\")\n",
    "    soup = BeautifulSoup(response.text, \"html.parser\")\n",
    "    options = soup.find_all('option')\n",
    "    country_paths = [opt['value'] for opt in options if '/beer/country' in opt['value']]"
   ]
  },
  {
   "cell_type": "code",
   "execution_count": 3,
   "metadata": {
    "collapsed": false
   },
   "outputs": [
    {
     "data": {
      "text/plain": [
       "'/beer/country/abkhazia/263/'"
      ]
     },
     "execution_count": 3,
     "metadata": {},
     "output_type": "execute_result"
    }
   ],
   "source": [
    "#Example\n",
    "country_paths[0]"
   ]
  },
  {
   "cell_type": "code",
   "execution_count": 4,
   "metadata": {
    "collapsed": false
   },
   "outputs": [
    {
     "name": "stdout",
     "output_type": "stream",
     "text": [
      "There are 245 countries\n"
     ]
    }
   ],
   "source": [
    "print(\"There are\",len(country_paths), 'countries')"
   ]
  },
  {
   "cell_type": "code",
   "execution_count": 5,
   "metadata": {
    "collapsed": true
   },
   "outputs": [],
   "source": [
    "def make_url(query_path):\n",
    "    return ('https://www.ratebeer.com{query}').format(query=query_path)"
   ]
  },
  {
   "cell_type": "markdown",
   "metadata": {},
   "source": [
    "## Scraping (no need to run twice)"
   ]
  },
  {
   "cell_type": "code",
   "execution_count": 98,
   "metadata": {
    "collapsed": false
   },
   "outputs": [
    {
     "name": "stdout",
     "output_type": "stream",
     "text": [
      "Scraping for abkhazia...\n",
      "Scraping for afghanistan...\n",
      "Scraping for albania...\n",
      "Scraping for algeria...\n",
      "Scraping for american-samoa...\n",
      "Scraping for andorra...\n",
      "Scraping for angola...\n",
      "Scraping for anguilla...\n",
      "Scraping for antigua-barbuda...\n",
      "Scraping for argentina...\n",
      "Scraping for armenia...\n",
      "Scraping for aruba...\n",
      "Scraping for ascension-island...\n",
      "Scraping for australia...\n",
      "Scraping for austria...\n",
      "Scraping for azerbaijan...\n",
      "Scraping for bahamas...\n",
      "Scraping for bahrain...\n",
      "Scraping for bangladesh...\n",
      "Scraping for barbados...\n",
      "Scraping for belarus...\n",
      "Scraping for belgium...\n",
      "Scraping for belize...\n",
      "Scraping for benin...\n",
      "Scraping for bermuda...\n",
      "Scraping for bhutan...\n",
      "Scraping for bolivia...\n",
      "Scraping for bonaire...\n",
      "Scraping for bosnia-and-herzegovina...\n",
      "Scraping for botswana...\n",
      "Scraping for brazil...\n",
      "Scraping for british-virgin-islands...\n",
      "Scraping for brunei...\n",
      "Scraping for bulgaria...\n",
      "Scraping for burkina-faso...\n",
      "Scraping for burundi...\n",
      "Scraping for cambodia...\n",
      "Scraping for cameroon...\n",
      "Scraping for canada...\n",
      "Scraping for cape-verde-islands...\n",
      "Scraping for cayman-islands...\n",
      "Scraping for central-african-republic...\n",
      "Scraping for chad...\n",
      "Scraping for chile...\n",
      "Scraping for china...\n",
      "Scraping for colombia...\n",
      "Scraping for comoros...\n",
      "Scraping for congo...\n",
      "Scraping for cook-islands...\n",
      "Scraping for costa-rica...\n",
      "Scraping for croatia...\n",
      "Scraping for cuba...\n",
      "Scraping for curacao...\n",
      "Scraping for cyprus...\n",
      "Scraping for czech-republic...\n",
      "Scraping for dem-rep-of-congo...\n",
      "Scraping for denmark...\n",
      "Scraping for djibouti...\n",
      "Scraping for dominica...\n",
      "Scraping for dominican-republic...\n",
      "Scraping for east-timor...\n",
      "Scraping for ecuador...\n",
      "Scraping for egypt...\n",
      "Scraping for el-salvador...\n",
      "Scraping for england...\n",
      "Scraping for equatorial-guinea...\n",
      "Scraping for eritrea...\n",
      "Scraping for estonia...\n",
      "Scraping for ethiopia...\n",
      "Scraping for falkland-islands...\n",
      "Scraping for faroe-islands...\n",
      "Scraping for fiji-islands...\n",
      "Scraping for finland...\n",
      "Scraping for france...\n",
      "Scraping for french-guiana...\n",
      "Scraping for french-polynesia...\n",
      "Scraping for gabon...\n",
      "Scraping for gambia...\n",
      "Scraping for georgia...\n",
      "Scraping for germany...\n",
      "Scraping for ghana...\n",
      "Scraping for gibraltar...\n",
      "Scraping for greece...\n",
      "Scraping for greenland...\n",
      "Scraping for grenada...\n",
      "Scraping for guadeloupe...\n",
      "Scraping for guam...\n",
      "Scraping for guatemala...\n",
      "Scraping for guernsey...\n",
      "Scraping for guinea...\n",
      "Scraping for guinea-bissau...\n",
      "Scraping for guyana...\n",
      "Scraping for haiti...\n",
      "Scraping for honduras...\n",
      "Scraping for hong-kong...\n",
      "Scraping for hungary...\n",
      "Scraping for iceland...\n",
      "Scraping for india...\n",
      "Scraping for indonesia...\n",
      "Scraping for iran...\n",
      "Scraping for iraq...\n",
      "Scraping for ireland...\n",
      "Scraping for isle-of-man...\n",
      "Scraping for israel...\n",
      "Scraping for italy...\n",
      "Scraping for ivory-coast...\n",
      "Scraping for jamaica...\n",
      "Scraping for japan...\n",
      "Scraping for jersey...\n",
      "Scraping for jordan...\n",
      "Scraping for kazakhstan...\n",
      "Scraping for kenya...\n",
      "Scraping for kiribati-republic...\n",
      "Scraping for kosovo...\n",
      "Scraping for kuwait...\n",
      "Scraping for kyrgyz-republic...\n",
      "Scraping for laos...\n",
      "Scraping for latvia...\n",
      "Scraping for lebanon...\n",
      "Scraping for lesotho...\n",
      "Scraping for liberia...\n",
      "Scraping for libya...\n",
      "Scraping for liechtenstein...\n",
      "Scraping for lithuania...\n",
      "Scraping for luxembourg...\n",
      "Scraping for macau...\n",
      "Scraping for macedonia...\n",
      "Scraping for madagascar...\n",
      "Scraping for malawi...\n",
      "Scraping for malaysia...\n",
      "Scraping for maldives...\n",
      "Scraping for mali...\n",
      "Scraping for malta...\n",
      "Scraping for marshall-islands...\n",
      "Scraping for martinique...\n",
      "Scraping for mauritania...\n",
      "Scraping for mauritius...\n",
      "Scraping for mayotte...\n",
      "Scraping for mexico...\n",
      "Scraping for micronesia...\n",
      "Scraping for moldova...\n",
      "Scraping for monaco...\n",
      "Scraping for mongolia...\n",
      "Scraping for montenegro...\n",
      "Scraping for montserrat...\n",
      "Scraping for morocco...\n",
      "Scraping for mozambique...\n",
      "Scraping for myanmar...\n",
      "Scraping for nagorno-karabakh...\n",
      "Scraping for namibia...\n",
      "Scraping for nauru...\n",
      "Scraping for nepal...\n",
      "Scraping for netherlands...\n",
      "Scraping for new-caledonia...\n",
      "Scraping for new-zealand...\n",
      "Scraping for nicaragua...\n",
      "Scraping for niger...\n",
      "Scraping for nigeria...\n",
      "Scraping for niue...\n",
      "Scraping for norfolk-island...\n",
      "Scraping for north-korea...\n",
      "Scraping for northern-ireland...\n",
      "Scraping for northern-marianas...\n",
      "Scraping for norway...\n",
      "Scraping for oman...\n",
      "Scraping for pakistan...\n",
      "Scraping for palau...\n",
      "Scraping for palestine-west-bank...\n",
      "Scraping for panama...\n",
      "Scraping for papua-new-guinea...\n",
      "Scraping for paraguay...\n",
      "Scraping for peru...\n",
      "Scraping for philippines...\n",
      "Scraping for poland...\n",
      "Scraping for portugal...\n",
      "Scraping for puerto-rico...\n",
      "Scraping for qatar...\n",
      "Scraping for reunion...\n",
      "Scraping for romania...\n",
      "Scraping for russia...\n",
      "Scraping for rwanda...\n",
      "Scraping for samoa...\n",
      "Scraping for san-marino...\n",
      "Scraping for sao-tome-principe...\n",
      "Scraping for saudi-arabia...\n",
      "Scraping for scotland...\n",
      "Scraping for senegal-republic...\n",
      "Scraping for serbia...\n",
      "Scraping for seychelles...\n",
      "Scraping for sierra-leone...\n",
      "Scraping for singapore...\n",
      "Scraping for sint-maarten...\n",
      "Scraping for slovak-republic...\n",
      "Scraping for slovenia...\n",
      "Scraping for solomon-islands...\n",
      "Scraping for somalia...\n",
      "Scraping for somaliland...\n",
      "Scraping for south-africa...\n",
      "Scraping for south-korea...\n",
      "Scraping for south-ossetia...\n",
      "Scraping for south-sudan...\n",
      "Scraping for spain...\n",
      "Scraping for sri-lanka...\n",
      "Scraping for st-helena...\n",
      "Scraping for st-kitts...\n",
      "Scraping for st-lucia...\n",
      "Scraping for st-vincent-the-grenadines...\n",
      "Scraping for sudan...\n",
      "Scraping for suriname...\n",
      "Scraping for swaziland...\n",
      "Scraping for sweden...\n",
      "Scraping for switzerland...\n",
      "Scraping for syria...\n",
      "Scraping for taiwan...\n",
      "Scraping for tajikistan...\n",
      "Scraping for tanzania...\n",
      "Scraping for thailand...\n",
      "Scraping for tibet...\n",
      "Scraping for togo...\n",
      "Scraping for tokelau...\n",
      "Scraping for tonga...\n",
      "Scraping for transdniestra...\n",
      "Scraping for trinidad-tobago...\n",
      "Scraping for tunisia...\n",
      "Scraping for turkey...\n",
      "Scraping for turkish-republic-of-cyprus...\n",
      "Scraping for turkmenistan...\n",
      "Scraping for turks-and-caicos-islands...\n",
      "Scraping for tuvalu...\n",
      "Scraping for uganda...\n",
      "Scraping for ukraine...\n",
      "Scraping for united-arab-emirates...\n",
      "Scraping for united-states...\n",
      "Scraping for united-states-virgin-islands...\n",
      "Scraping for uruguay...\n",
      "Scraping for uzbekistan...\n",
      "Scraping for vanuatu...\n",
      "Scraping for vatican-city...\n",
      "Scraping for venezuela...\n",
      "Scraping for vietnam...\n",
      "Scraping for wales...\n",
      "Scraping for western-sahara...\n",
      "Scraping for yemen...\n",
      "Scraping for zambia...\n",
      "Scraping for zimbabwe...\n"
     ]
    }
   ],
   "source": [
    "for country in country_paths:\n",
    "    ctry = country.split('/')[3]\n",
    "    print(\"Scraping for {cty}...\".format(cty=ctry))\n",
    "    lst_beer = []\n",
    "    lst_beer_link = []\n",
    "    lst_score = []\n",
    "    lst_style = []\n",
    "    time.sleep(.3)\n",
    "    with requests.session() as a:\n",
    "        response = s.get(make_url(country))\n",
    "        soup = BeautifulSoup(response.text, \"html.parser\")\n",
    "    length_ =  len(soup.find('table').find_all('tr'))\n",
    "    if length_ > 1:\n",
    "        for i in range(1,length_):\n",
    "            lst_beer.append(soup.find('table').find_all('tr')[i].find('a').text)\n",
    "            lst_beer_link.append(soup.find('table').find_all('tr')[i].find('a')['href'])\n",
    "            lst_score.append(soup.find('table').find_all('tr')[i].find('b').text) \n",
    "            lst_style.append(soup.find('table').find_all('tr')[i].find_all('a')[1].text)\n",
    "    \n",
    "    df = pd.DataFrame({'beer': lst_beer, 'link': lst_beer_link, 'score': lst_score, 'style': lst_style})\n",
    "    file_name = \"./Data/country_{c}_ranking.csv\".format(c=ctry)\n",
    "    df.to_csv(file_name, index=False)     "
   ]
  },
  {
   "cell_type": "markdown",
   "metadata": {},
   "source": [
    "# PART II"
   ]
  },
  {
   "cell_type": "code",
   "execution_count": 6,
   "metadata": {
    "collapsed": false
   },
   "outputs": [
    {
     "data": {
      "text/plain": [
       "'https://www.ratebeer.com/beer/sukhumskoe-svetloe-pivo-klassicheskoe/152260/'"
      ]
     },
     "execution_count": 6,
     "metadata": {},
     "output_type": "execute_result"
    }
   ],
   "source": [
    "# Example\n",
    "abkhazia = pd.read_csv('./Data/country_abkhazia_ranking.csv')\n",
    "url_beer = make_url(abkhazia.link[5])\n",
    "url_beer"
   ]
  },
  {
   "cell_type": "code",
   "execution_count": 7,
   "metadata": {
    "collapsed": true
   },
   "outputs": [],
   "source": [
    "def get_beer_details(link):\n",
    "    '''\n",
    "    This function enables to get beer details from link.\n",
    "    '''\n",
    "    time.sleep(.3)\n",
    "    with requests.session() as a:\n",
    "        response = s.get(link)\n",
    "        soup = BeautifulSoup(response.text, \"html.parser\")\n",
    "    if soup.find('abbr', attrs={'title': \"Estimated calories for a 12 fluid ounce serving\"}) is None:\n",
    "        abv = soup.find_all('big', attrs={'style':'color: #777;'})[-1].text.split('%')[0]\n",
    "        cal = np.NaN\n",
    "    else:\n",
    "        abv = soup.find_all('big', attrs={'style':'color: #777;'})[-1].text.split('%')[0]\n",
    "        cal = soup.find_all('big', attrs={'style':'color: #777;'})[-2].text\n",
    "    \n",
    "    name = soup.find('span', attrs={'itemprop': 'name'}).text.strip() #find the name without encoding bug\n",
    "    beer_style = soup.select(\"a[href*=beerstyles]\")[-1].text #find the beer style without the encoding bug\n",
    "    \n",
    "    loc = soup.find_all('div', attrs={'style':'padding-bottom: 7px; line-height: 1.5;'})[0].find_all('br')[-1].text\n",
    "    city = loc.split(',')[:-1]\n",
    "    country =  loc.split(',')[-1].strip()\n",
    "\n",
    "    return abv,cal,city,country,name,beer_style\n",
    "    "
   ]
  },
  {
   "cell_type": "code",
   "execution_count": 8,
   "metadata": {
    "collapsed": false
   },
   "outputs": [
    {
     "data": {
      "text/plain": [
       "nan"
      ]
     },
     "execution_count": 8,
     "metadata": {},
     "output_type": "execute_result"
    }
   ],
   "source": [
    "# Example\n",
    "a,c,l,co,nam,st = get_beer_details('https://www.ratebeer.com/beer/svejk-dark/220898/')\n",
    "c"
   ]
  },
  {
   "cell_type": "markdown",
   "metadata": {},
   "source": [
    "## Loading paths to CSVs"
   ]
  },
  {
   "cell_type": "code",
   "execution_count": 9,
   "metadata": {
    "collapsed": false
   },
   "outputs": [],
   "source": [
    "ROOT = \"./Data/\"\n",
    "\n",
    "def get_all_files_in(mypath):\n",
    "    return [f for f in listdir(mypath) if isfile(join(mypath, f))]\n",
    "\n",
    "paths_csv = [ROOT + file_path for file_path in get_all_files_in(ROOT)]\n",
    "paths_csv.remove('./Data/.DS_Store')"
   ]
  },
  {
   "cell_type": "markdown",
   "metadata": {},
   "source": [
    "## Scraping beer details (no need to run twice)"
   ]
  },
  {
   "cell_type": "code",
   "execution_count": 10,
   "metadata": {
    "collapsed": false,
    "scrolled": false
   },
   "outputs": [
    {
     "name": "stdout",
     "output_type": "stream",
     "text": [
      "null entry with : https://www.ratebeer.com/beer/balashi-pilsener/296383/\n",
      "null entry with : https://www.ratebeer.com/beer/baki-castel-33-export-azerbaijan/57932/\n",
      "null entry with : https://www.ratebeer.com/beer/guinness-foreign-extra-stout-belize/278682/\n",
      "null entry with : https://www.ratebeer.com/beer/bhutan-premium-lager-beer/111662/\n",
      "null entry with : https://www.ratebeer.com/beer/carling-black-label-beer-botswana/243056/\n",
      "null entry with : https://www.ratebeer.com/beer/kgalagadi-ohlssons/41321/\n",
      "null entry with : https://www.ratebeer.com/beer/guinness-foreign-extra-stout-burkina-faso/423683/\n",
      "null entry with : https://www.ratebeer.com/beer/artisanale-de-ouagadougou-make-beer-not-cars/508602/\n",
      "null entry with : https://www.ratebeer.com/beer/guinness-foreign-extra-stout-cameroon/272062/\n",
      "null entry with : https://www.ratebeer.com/beer/cubanero-fuerte/234507/\n",
      "null entry with : https://www.ratebeer.com/beer/palma-cristal/12457/\n",
      "null entry with : https://www.ratebeer.com/beer/skol-congo-dr/59432/\n",
      "null entry with : https://www.ratebeer.com/beer/guinness-foreign-extra-stout-gambia/447792/\n",
      "null entry with : https://www.ratebeer.com/beer/solo-wuhan-no18-meso?e?o?-tiao-dong-hu-cretan-ipa/505415/\n",
      "null entry with : https://www.ratebeer.com/beer/carib-lager-grenada/387787/\n",
      "null entry with : https://www.ratebeer.com/beer/stag-lager-beer-grenada/281890/\n",
      "null entry with : https://www.ratebeer.com/beer/skol-guinea/69485/\n",
      "null entry with : https://www.ratebeer.com/beer/guinness-foreign-extra-stout-haiti/166065/\n",
      "null entry with : https://www.ratebeer.com/beer/young-master-yat-cheen-??/512888/\n",
      "null entry with : https://www.ratebeer.com/beer/bajika-pomegranate/212388/\n",
      "null entry with : https://www.ratebeer.com/beer/amstel/447941/\n",
      "null entry with : https://www.ratebeer.com/beer/birra-peja-zero-ananas/187688/\n",
      "null entry with : https://www.ratebeer.com/beer/guinness-premium-beer/121756/\n",
      "null entry with : https://www.ratebeer.com/beer/tiger-beer-malaysia/174371/\n",
      "null entry with : https://www.ratebeer.com/beer/tiger-white/386623/\n",
      "null entry with : https://www.ratebeer.com/beer/connors-stout-porter/355093/\n",
      "null entry with : https://www.ratebeer.com/beer/cisk-xs/59620/\n",
      "null entry with : https://www.ratebeer.com/beer/brasserie-de-monaco-biere-aux-fruits-rouges/285903/\n",
      "null entry with : https://www.ratebeer.com/beer/brasserie-de-monaco-blanche-45/107974/\n",
      "null entry with : https://www.ratebeer.com/beer/black-sheep-doma263e-pivo/412246/\n",
      "null entry with : https://www.ratebeer.com/beer/nik-gold/5992/\n",
      "null entry with : https://www.ratebeer.com/beer/heineken-beer/247623/\n",
      "null entry with : https://www.ratebeer.com/beer/mac-mahon/300857/\n",
      "null entry with : https://www.ratebeer.com/beer/abc-extra-stout-myanmar/253783/\n",
      "null entry with : https://www.ratebeer.com/beer/namibia-frostie-beer-shandy/71633/\n",
      "null entry with : https://www.ratebeer.com/beer/namibia-urbock/8247/\n",
      "null entry with : https://www.ratebeer.com/beer/castle-lager-nigeria/251865/\n",
      "null entry with : https://www.ratebeer.com/beer/castle-milk-stout-nigeria/251864/\n",
      "null entry with : https://www.ratebeer.com/beer/pal-nigeria-lager/13893/\n",
      "null entry with : https://www.ratebeer.com/beer/koryo-hotel-heuk-saeng-maekju/96490/\n",
      "null entry with : https://www.ratebeer.com/beer/murree-london-lager/11328/\n",
      "null entry with : https://www.ratebeer.com/beer/soberana-extra-fina/49824/\n",
      "null entry with : https://www.ratebeer.com/beer/skol-rwanda/150749/\n",
      "null entry with : https://www.ratebeer.com/beer/skol-100-malt-rwanda/451175/\n",
      "null entry with : https://www.ratebeer.com/beer/titanbrau-pils/173618/\n",
      "null entry with : https://www.ratebeer.com/beer/titanbrau-ale/173619/\n",
      "null entry with : https://www.ratebeer.com/beer/pelforth-ambree-senegal/150367/\n",
      "null entry with : https://www.ratebeer.com/beer/carlsberg-sri-lanka/195662/\n",
      "null entry with : https://www.ratebeer.com/beer/sinha-lager/65706/\n",
      "null entry with : https://www.ratebeer.com/beer/abc-extra-stout-sri-lanka/167172/\n",
      "null entry with : https://www.ratebeer.com/beer/anchor-smooth-sri-lanka/195659/\n",
      "null entry with : https://www.ratebeer.com/beer/sinha-stout/47241/\n",
      "null entry with : https://www.ratebeer.com/beer/carib-lager-st-kitts/499666/\n",
      "null entry with : https://www.ratebeer.com/beer/skol-lager-st-kitts/31903/\n",
      "null entry with : https://www.ratebeer.com/beer/djogo-chiller-lime/121940/\n",
      "null entry with : https://www.ratebeer.com/beer/taihu-??-smoked-plum-lichtenhainer/515777/\n",
      "null entry with : https://www.ratebeer.com/beer/taihu-momo-?????-peach-weisse/493747/\n",
      "null entry with : https://www.ratebeer.com/beer/taihu-??-kumquat-kolsch/493746/\n",
      "null entry with : https://www.ratebeer.com/beer/guinness-foreign-extra-stout-togo/450024/\n",
      "null entry with : https://www.ratebeer.com/beer/eku-bavaria-togo/141626/\n",
      "null entry with : https://www.ratebeer.com/beer/guinness-foreign-extra-stout-carib/173483/\n",
      "null entry with : https://www.ratebeer.com/beer/zip-5-klassyky/416124/\n",
      "null entry with : https://www.ratebeer.com/beer/fort-christian-blackbeard-ale/41254/\n",
      "null entry with : https://www.ratebeer.com/beer/fort-christian-foxys-lager/41255/\n",
      "null entry with : https://www.ratebeer.com/beer/zambezi-licht/282988/\n",
      "null entry with : https://www.ratebeer.com/beer/castle-lager-delta-breweries/171878/\n",
      "null entry with : https://www.ratebeer.com/beer/lion-lager-zimbabwe/153615/\n",
      "\n"
     ]
    }
   ],
   "source": [
    "lst_df = []\n",
    "for j in tqdm_notebook(range(len(paths_csv))):\n",
    "    path = paths_csv[j]\n",
    "    lst_abv = []\n",
    "    lst_cal = []\n",
    "    lst_city = []\n",
    "    lst_country = []\n",
    "    lst_name = []\n",
    "    lst_style = []\n",
    "    df = pd.read_csv(path)\n",
    "    urls_beer = [make_url(query) for query in df.link]\n",
    "    for url_ in urls_beer:\n",
    "        try:\n",
    "            abv,cal,city,country,name,style = get_beer_details(url_)\n",
    "            lst_abv.append(abv)\n",
    "            lst_cal.append(cal)\n",
    "            lst_city.append(city)\n",
    "            lst_country.append(country)\n",
    "            lst_name.append(name)\n",
    "            lst_style.append(style)\n",
    "        except:\n",
    "            print(\"null entry with :\", url_)\n",
    "            lst_abv.append(np.NaN)\n",
    "            lst_cal.append(np.NaN)\n",
    "            lst_city.append(np.NaN)\n",
    "            lst_country.append(np.NaN)\n",
    "            lst_name.append(np.NaN)\n",
    "            lst_style.append(np.NaN)\n",
    "    df['abv'] = lst_abv\n",
    "    df['cal'] = lst_cal\n",
    "    df['city'] = lst_city\n",
    "    df['country'] = lst_country\n",
    "    df['name'] = lst_name\n",
    "    df['beer style'] = lst_style\n",
    "    lst_df.append(df) "
   ]
  },
  {
   "cell_type": "code",
   "execution_count": 83,
   "metadata": {
    "collapsed": false
   },
   "outputs": [],
   "source": [
    "df_all = pd.concat(lst_df, ignore_index=True)\n",
    "df_all = df_all.drop(['beer', 'style'], axis=1)"
   ]
  },
  {
   "cell_type": "code",
   "execution_count": 84,
   "metadata": {
    "collapsed": false
   },
   "outputs": [
    {
     "data": {
      "text/html": [
       "<div>\n",
       "<style>\n",
       "    .dataframe thead tr:only-child th {\n",
       "        text-align: right;\n",
       "    }\n",
       "\n",
       "    .dataframe thead th {\n",
       "        text-align: left;\n",
       "    }\n",
       "\n",
       "    .dataframe tbody tr th {\n",
       "        vertical-align: top;\n",
       "    }\n",
       "</style>\n",
       "<table border=\"1\" class=\"dataframe\">\n",
       "  <thead>\n",
       "    <tr style=\"text-align: right;\">\n",
       "      <th></th>\n",
       "      <th>name</th>\n",
       "      <th>score</th>\n",
       "      <th>beer style</th>\n",
       "      <th>abv</th>\n",
       "      <th>cal</th>\n",
       "      <th>city</th>\n",
       "      <th>country</th>\n",
       "      <th>link</th>\n",
       "    </tr>\n",
       "  </thead>\n",
       "  <tbody>\n",
       "    <tr>\n",
       "      <th>0</th>\n",
       "      <td>Ivanych Zhivoe Svetloe</td>\n",
       "      <td>2.84</td>\n",
       "      <td>Zwickel/Keller/Landbier</td>\n",
       "      <td>4.5</td>\n",
       "      <td>135</td>\n",
       "      <td>[Sukhum]</td>\n",
       "      <td>Abkhazia</td>\n",
       "      <td>/beer/ivanych-zhivoe-svetloe/301247/</td>\n",
       "    </tr>\n",
       "    <tr>\n",
       "      <th>1</th>\n",
       "      <td>Stara Praha Oldenburg Tiemnoye</td>\n",
       "      <td>2.52</td>\n",
       "      <td>Dunkel/Tmavý</td>\n",
       "      <td>4.7</td>\n",
       "      <td>141</td>\n",
       "      <td>[Stara Gagra]</td>\n",
       "      <td>Abkhazia</td>\n",
       "      <td>/beer/stara-praha-oldenburg-tiemnoye/334787/</td>\n",
       "    </tr>\n",
       "    <tr>\n",
       "      <th>2</th>\n",
       "      <td>Stara Praha Oldenburg Svetloe</td>\n",
       "      <td>2.51</td>\n",
       "      <td>Pale Lager</td>\n",
       "      <td>4.7</td>\n",
       "      <td>141</td>\n",
       "      <td>[Stara Gagra]</td>\n",
       "      <td>Abkhazia</td>\n",
       "      <td>/beer/stara-praha-oldenburg-svetloe/334785/</td>\n",
       "    </tr>\n",
       "    <tr>\n",
       "      <th>3</th>\n",
       "      <td>Stara Praha Oldenburg Jantarnoye</td>\n",
       "      <td>2.49</td>\n",
       "      <td>Amber Lager/Vienna</td>\n",
       "      <td>4.5</td>\n",
       "      <td>135</td>\n",
       "      <td>[Stara Gagra]</td>\n",
       "      <td>Abkhazia</td>\n",
       "      <td>/beer/stara-praha-oldenburg-jantarnoye/334786/</td>\n",
       "    </tr>\n",
       "    <tr>\n",
       "      <th>4</th>\n",
       "      <td>Assir Lager (Svetloe)</td>\n",
       "      <td>2.37</td>\n",
       "      <td>Pale Lager</td>\n",
       "      <td>5</td>\n",
       "      <td>150</td>\n",
       "      <td>[Alakhadzykh Village,  Gagra Region]</td>\n",
       "      <td>Abkhazia</td>\n",
       "      <td>/beer/assir-lager-svetloe/191169/</td>\n",
       "    </tr>\n",
       "  </tbody>\n",
       "</table>\n",
       "</div>"
      ],
      "text/plain": [
       "                               name score               beer style  abv  cal  \\\n",
       "0            Ivanych Zhivoe Svetloe  2.84  Zwickel/Keller/Landbier  4.5  135   \n",
       "1    Stara Praha Oldenburg Tiemnoye  2.52             Dunkel/Tmavý  4.7  141   \n",
       "2     Stara Praha Oldenburg Svetloe  2.51               Pale Lager  4.7  141   \n",
       "3  Stara Praha Oldenburg Jantarnoye  2.49       Amber Lager/Vienna  4.5  135   \n",
       "4             Assir Lager (Svetloe)  2.37               Pale Lager    5  150   \n",
       "\n",
       "                                   city   country  \\\n",
       "0                              [Sukhum]  Abkhazia   \n",
       "1                         [Stara Gagra]  Abkhazia   \n",
       "2                         [Stara Gagra]  Abkhazia   \n",
       "3                         [Stara Gagra]  Abkhazia   \n",
       "4  [Alakhadzykh Village,  Gagra Region]  Abkhazia   \n",
       "\n",
       "                                             link  \n",
       "0            /beer/ivanych-zhivoe-svetloe/301247/  \n",
       "1    /beer/stara-praha-oldenburg-tiemnoye/334787/  \n",
       "2     /beer/stara-praha-oldenburg-svetloe/334785/  \n",
       "3  /beer/stara-praha-oldenburg-jantarnoye/334786/  \n",
       "4               /beer/assir-lager-svetloe/191169/  "
      ]
     },
     "execution_count": 84,
     "metadata": {},
     "output_type": "execute_result"
    }
   ],
   "source": [
    "df_all =  df_all[['name','score','beer style','abv','cal','city','country','link']]\n",
    "df_all.head()"
   ]
  },
  {
   "cell_type": "code",
   "execution_count": 102,
   "metadata": {
    "collapsed": false
   },
   "outputs": [],
   "source": [
    "df_all.city = df_all['city'].str.join('')"
   ]
  },
  {
   "cell_type": "code",
   "execution_count": 114,
   "metadata": {
    "collapsed": false
   },
   "outputs": [],
   "source": [
    "df_all.cal = df_all.cal.astype(float, errors='ignore')\n",
    "df_all.abv = df_all.abv.astype(float,errors='ignore')\n",
    "df_all.score = df_all.score.astype(float,errors='ignore')"
   ]
  },
  {
   "cell_type": "code",
   "execution_count": 115,
   "metadata": {
    "collapsed": false
   },
   "outputs": [
    {
     "data": {
      "text/html": [
       "<div>\n",
       "<style>\n",
       "    .dataframe thead tr:only-child th {\n",
       "        text-align: right;\n",
       "    }\n",
       "\n",
       "    .dataframe thead th {\n",
       "        text-align: left;\n",
       "    }\n",
       "\n",
       "    .dataframe tbody tr th {\n",
       "        vertical-align: top;\n",
       "    }\n",
       "</style>\n",
       "<table border=\"1\" class=\"dataframe\">\n",
       "  <thead>\n",
       "    <tr style=\"text-align: right;\">\n",
       "      <th></th>\n",
       "      <th>name</th>\n",
       "      <th>score</th>\n",
       "      <th>beer style</th>\n",
       "      <th>abv</th>\n",
       "      <th>cal</th>\n",
       "      <th>city</th>\n",
       "      <th>country</th>\n",
       "      <th>link</th>\n",
       "    </tr>\n",
       "  </thead>\n",
       "  <tbody>\n",
       "    <tr>\n",
       "      <th>0</th>\n",
       "      <td>Ivanych Zhivoe Svetloe</td>\n",
       "      <td>2.84</td>\n",
       "      <td>Zwickel/Keller/Landbier</td>\n",
       "      <td>4.5</td>\n",
       "      <td>135.0</td>\n",
       "      <td>Sukhum</td>\n",
       "      <td>Abkhazia</td>\n",
       "      <td>/beer/ivanych-zhivoe-svetloe/301247/</td>\n",
       "    </tr>\n",
       "    <tr>\n",
       "      <th>1</th>\n",
       "      <td>Stara Praha Oldenburg Tiemnoye</td>\n",
       "      <td>2.52</td>\n",
       "      <td>Dunkel/Tmavý</td>\n",
       "      <td>4.7</td>\n",
       "      <td>141.0</td>\n",
       "      <td>Stara Gagra</td>\n",
       "      <td>Abkhazia</td>\n",
       "      <td>/beer/stara-praha-oldenburg-tiemnoye/334787/</td>\n",
       "    </tr>\n",
       "    <tr>\n",
       "      <th>2</th>\n",
       "      <td>Stara Praha Oldenburg Svetloe</td>\n",
       "      <td>2.51</td>\n",
       "      <td>Pale Lager</td>\n",
       "      <td>4.7</td>\n",
       "      <td>141.0</td>\n",
       "      <td>Stara Gagra</td>\n",
       "      <td>Abkhazia</td>\n",
       "      <td>/beer/stara-praha-oldenburg-svetloe/334785/</td>\n",
       "    </tr>\n",
       "    <tr>\n",
       "      <th>3</th>\n",
       "      <td>Stara Praha Oldenburg Jantarnoye</td>\n",
       "      <td>2.49</td>\n",
       "      <td>Amber Lager/Vienna</td>\n",
       "      <td>4.5</td>\n",
       "      <td>135.0</td>\n",
       "      <td>Stara Gagra</td>\n",
       "      <td>Abkhazia</td>\n",
       "      <td>/beer/stara-praha-oldenburg-jantarnoye/334786/</td>\n",
       "    </tr>\n",
       "    <tr>\n",
       "      <th>4</th>\n",
       "      <td>Assir Lager (Svetloe)</td>\n",
       "      <td>2.37</td>\n",
       "      <td>Pale Lager</td>\n",
       "      <td>5</td>\n",
       "      <td>150.0</td>\n",
       "      <td>Alakhadzykh Village Gagra Region</td>\n",
       "      <td>Abkhazia</td>\n",
       "      <td>/beer/assir-lager-svetloe/191169/</td>\n",
       "    </tr>\n",
       "  </tbody>\n",
       "</table>\n",
       "</div>"
      ],
      "text/plain": [
       "                               name score               beer style  abv  \\\n",
       "0            Ivanych Zhivoe Svetloe  2.84  Zwickel/Keller/Landbier  4.5   \n",
       "1    Stara Praha Oldenburg Tiemnoye  2.52             Dunkel/Tmavý  4.7   \n",
       "2     Stara Praha Oldenburg Svetloe  2.51               Pale Lager  4.7   \n",
       "3  Stara Praha Oldenburg Jantarnoye  2.49       Amber Lager/Vienna  4.5   \n",
       "4             Assir Lager (Svetloe)  2.37               Pale Lager    5   \n",
       "\n",
       "     cal                              city   country  \\\n",
       "0  135.0                            Sukhum  Abkhazia   \n",
       "1  141.0                       Stara Gagra  Abkhazia   \n",
       "2  141.0                       Stara Gagra  Abkhazia   \n",
       "3  135.0                       Stara Gagra  Abkhazia   \n",
       "4  150.0  Alakhadzykh Village Gagra Region  Abkhazia   \n",
       "\n",
       "                                             link  \n",
       "0            /beer/ivanych-zhivoe-svetloe/301247/  \n",
       "1    /beer/stara-praha-oldenburg-tiemnoye/334787/  \n",
       "2     /beer/stara-praha-oldenburg-svetloe/334785/  \n",
       "3  /beer/stara-praha-oldenburg-jantarnoye/334786/  \n",
       "4               /beer/assir-lager-svetloe/191169/  "
      ]
     },
     "execution_count": 115,
     "metadata": {},
     "output_type": "execute_result"
    }
   ],
   "source": [
    "df_all.head()"
   ]
  },
  {
   "cell_type": "code",
   "execution_count": 116,
   "metadata": {
    "collapsed": false
   },
   "outputs": [],
   "source": [
    "df_all.to_csv('ratebeer_dataset_all.csv', index=False)"
   ]
  },
  {
   "cell_type": "markdown",
   "metadata": {},
   "source": [
    "## Test / Draft (don't need to run)"
   ]
  },
  {
   "cell_type": "code",
   "execution_count": 51,
   "metadata": {
    "collapsed": false
   },
   "outputs": [],
   "source": [
    "with requests.session() as a:\n",
    "    response = s.get('https://www.ratebeer.com/beer/svejk-dark/220898/')\n",
    "    soup = BeautifulSoup(response.text, \"html.parser\")"
   ]
  },
  {
   "cell_type": "code",
   "execution_count": 52,
   "metadata": {
    "collapsed": false
   },
   "outputs": [
    {
     "data": {
      "text/plain": [
       "'Dunkel/Tmavý'"
      ]
     },
     "execution_count": 52,
     "metadata": {},
     "output_type": "execute_result"
    }
   ],
   "source": [
    "soup.select(\"a[href*=beerstyles]\")[-1].text"
   ]
  },
  {
   "cell_type": "code",
   "execution_count": 54,
   "metadata": {
    "collapsed": false
   },
   "outputs": [
    {
     "data": {
      "text/plain": [
       "True"
      ]
     },
     "execution_count": 54,
     "metadata": {},
     "output_type": "execute_result"
    }
   ],
   "source": [
    "soup.find('abbr', attrs={'title': \"Estimated calories for a 12 fluid ounce serving\"}) is None"
   ]
  },
  {
   "cell_type": "code",
   "execution_count": 371,
   "metadata": {
    "collapsed": false
   },
   "outputs": [
    {
     "data": {
      "text/plain": [
       "<br>Sukhum, Abkhazia                        </br>"
      ]
     },
     "execution_count": 371,
     "metadata": {},
     "output_type": "execute_result"
    }
   ],
   "source": [
    "soup.find_all('div', attrs={'style':'padding-bottom: 7px; line-height: 1.5;'})[0].find_all('br')[-1]"
   ]
  },
  {
   "cell_type": "code",
   "execution_count": 367,
   "metadata": {
    "collapsed": false
   },
   "outputs": [
    {
     "data": {
      "text/plain": [
       "'Andorra La Vella, Andorra                         '"
      ]
     },
     "execution_count": 367,
     "metadata": {},
     "output_type": "execute_result"
    }
   ],
   "source": [
    "soup.find_all('div', attrs={'style':'padding-bottom: 7px; line-height: 1.5;'})[0].find_all('br')[-1].text"
   ]
  },
  {
   "cell_type": "code",
   "execution_count": 291,
   "metadata": {
    "collapsed": false
   },
   "outputs": [
    {
     "data": {
      "text/plain": [
       "<big style=\"color: #777;\">108</big>"
      ]
     },
     "execution_count": 291,
     "metadata": {},
     "output_type": "execute_result"
    }
   ],
   "source": [
    "soup.find_all('big', attrs={'style':'color: #777;'})[-2]"
   ]
  },
  {
   "cell_type": "code",
   "execution_count": null,
   "metadata": {
    "collapsed": true
   },
   "outputs": [],
   "source": [
    "abv = soup.find_all('big')[5].text.split('%')[0]\n",
    "cal = soup.find_all('big')[4].text\n",
    "loc = [l.strip() for l in soup.find('div', attrs={'class':'description-box'}).find('br').find('br').text.strip().split(',')[:-1]]\n",
    "country = soup.find('div', attrs={'class':'description-box'}).find('br').find('br').text.strip().split(',')[-1].strip()"
   ]
  },
  {
   "cell_type": "code",
   "execution_count": 173,
   "metadata": {
    "collapsed": false
   },
   "outputs": [],
   "source": [
    "cal = soup.find_all('big')[4].text #150"
   ]
  },
  {
   "cell_type": "code",
   "execution_count": 186,
   "metadata": {
    "collapsed": false
   },
   "outputs": [
    {
     "data": {
      "text/plain": [
       "['Durrës', ' Albania']"
      ]
     },
     "execution_count": 186,
     "metadata": {},
     "output_type": "execute_result"
    }
   ],
   "source": [
    "soup.find('div', attrs={'class':'description-box'}).find('br').find('br').text.strip().split(',')"
   ]
  },
  {
   "cell_type": "code",
   "execution_count": null,
   "metadata": {
    "collapsed": true
   },
   "outputs": [],
   "source": [
    "loc = soup.find('div', attrs={'class':'description-box'}).find('br').find('br').text.strip().split(',')[0]\n",
    "country = soup.find('div', attrs={'class':'description-box'}).find('br').find('br').text.strip().split(',')[1].strip()"
   ]
  }
 ],
 "metadata": {
  "anaconda-cloud": {},
  "kernelspec": {
   "display_name": "Python [conda env:ada]",
   "language": "python",
   "name": "conda-env-ada-py"
  },
  "language_info": {
   "codemirror_mode": {
    "name": "ipython",
    "version": 3
   },
   "file_extension": ".py",
   "mimetype": "text/x-python",
   "name": "python",
   "nbconvert_exporter": "python",
   "pygments_lexer": "ipython3",
   "version": "3.5.2"
  },
  "widgets": {
   "state": {
    "dbe4b28c93b04119a6b38ef79e777713": {
     "views": [
      {
       "cell_index": 16
      }
     ]
    }
   },
   "version": "1.2.0"
  }
 },
 "nbformat": 4,
 "nbformat_minor": 2
}
