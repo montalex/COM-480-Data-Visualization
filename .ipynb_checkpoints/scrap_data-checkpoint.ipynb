{
 "cells": [
  {
   "cell_type": "markdown",
   "metadata": {},
   "source": [
    "<h1 style=\"justify-content: center; text-align:center\"><span class=\"label label-danger\" style=\"font-size:36px;\">DATA VIZ</span></h1><br><br>\n",
    "\n",
    "<ul class=\"list-group\" style=\"width:40%; float:left\">\n",
    "  <li class=\"list-group-item active\"><b>Table of Contents</b></li>\n",
    "  <li class=\"list-group-item\">Part I : Getting ranking per country</li>\n",
    "  <li class=\"list-group-item\">Part II : Getting beer details</li>\n",
    "</ul>\n",
    "\n",
    "\n",
    "<ul class=\"list-group\" style=\"width:40%; float:right\">\n",
    "  <li class=\"list-group-item active\"><b>Team Members</b></li>\n",
    "  <li class=\"list-group-item\">Alexis Montavon</li>\n",
    "  <li class=\"list-group-item\">Boris Flückiger</li>\n",
    "  <li class=\"list-group-item\">Yu Yamashita</li>\n",
    "</ul>"
   ]
  },
  {
   "cell_type": "code",
   "execution_count": 139,
   "metadata": {
    "collapsed": false
   },
   "outputs": [],
   "source": [
    "from bs4 import BeautifulSoup\n",
    "import pandas as pd \n",
    "import requests\n",
    "import time\n",
    "import numpy as np\n",
    "from IPython.core.display import display, HTML\n",
    "import matplotlib.pyplot as plt\n",
    "%matplotlib inline\n",
    "import seaborn as sns\n",
    "\n",
    "from os import listdir\n",
    "from os.path import isfile, join\n",
    "from tqdm import tqdm, tqdm_notebook\n"
   ]
  },
  {
   "cell_type": "markdown",
   "metadata": {},
   "source": [
    "# PART I"
   ]
  },
  {
   "cell_type": "code",
   "execution_count": 2,
   "metadata": {
    "collapsed": false
   },
   "outputs": [],
   "source": [
    "with requests.session() as s:\n",
    "    response = s.get(\"https://www.ratebeer.com/beer/country/abkhazia/263/\")\n",
    "    soup = BeautifulSoup(response.text, \"html.parser\")\n",
    "    options = soup.find_all('option')\n",
    "    country_paths = [opt['value'] for opt in options if '/beer/country' in opt['value']]"
   ]
  },
  {
   "cell_type": "code",
   "execution_count": 3,
   "metadata": {
    "collapsed": false
   },
   "outputs": [
    {
     "data": {
      "text/plain": [
       "'/beer/country/abkhazia/263/'"
      ]
     },
     "execution_count": 3,
     "metadata": {},
     "output_type": "execute_result"
    }
   ],
   "source": [
    "#Example\n",
    "country_paths[0]"
   ]
  },
  {
   "cell_type": "code",
   "execution_count": 4,
   "metadata": {
    "collapsed": false
   },
   "outputs": [
    {
     "name": "stdout",
     "output_type": "stream",
     "text": [
      "There are 245 countries\n"
     ]
    }
   ],
   "source": [
    "print(\"There are\",len(country_paths), 'countries')"
   ]
  },
  {
   "cell_type": "code",
   "execution_count": 5,
   "metadata": {
    "collapsed": true
   },
   "outputs": [],
   "source": [
    "def make_url(query_path):\n",
    "    return ('https://www.ratebeer.com{query}').format(query=query_path)"
   ]
  },
  {
   "cell_type": "markdown",
   "metadata": {},
   "source": [
    "## Scraping (no need to run twice)"
   ]
  },
  {
   "cell_type": "code",
   "execution_count": 98,
   "metadata": {
    "collapsed": false
   },
   "outputs": [
    {
     "name": "stdout",
     "output_type": "stream",
     "text": [
      "Scraping for abkhazia...\n",
      "Scraping for afghanistan...\n",
      "Scraping for albania...\n",
      "Scraping for algeria...\n",
      "Scraping for american-samoa...\n",
      "Scraping for andorra...\n",
      "Scraping for angola...\n",
      "Scraping for anguilla...\n",
      "Scraping for antigua-barbuda...\n",
      "Scraping for argentina...\n",
      "Scraping for armenia...\n",
      "Scraping for aruba...\n",
      "Scraping for ascension-island...\n",
      "Scraping for australia...\n",
      "Scraping for austria...\n",
      "Scraping for azerbaijan...\n",
      "Scraping for bahamas...\n",
      "Scraping for bahrain...\n",
      "Scraping for bangladesh...\n",
      "Scraping for barbados...\n",
      "Scraping for belarus...\n",
      "Scraping for belgium...\n",
      "Scraping for belize...\n",
      "Scraping for benin...\n",
      "Scraping for bermuda...\n",
      "Scraping for bhutan...\n",
      "Scraping for bolivia...\n",
      "Scraping for bonaire...\n",
      "Scraping for bosnia-and-herzegovina...\n",
      "Scraping for botswana...\n",
      "Scraping for brazil...\n",
      "Scraping for british-virgin-islands...\n",
      "Scraping for brunei...\n",
      "Scraping for bulgaria...\n",
      "Scraping for burkina-faso...\n",
      "Scraping for burundi...\n",
      "Scraping for cambodia...\n",
      "Scraping for cameroon...\n",
      "Scraping for canada...\n",
      "Scraping for cape-verde-islands...\n",
      "Scraping for cayman-islands...\n",
      "Scraping for central-african-republic...\n",
      "Scraping for chad...\n",
      "Scraping for chile...\n",
      "Scraping for china...\n",
      "Scraping for colombia...\n",
      "Scraping for comoros...\n",
      "Scraping for congo...\n",
      "Scraping for cook-islands...\n",
      "Scraping for costa-rica...\n",
      "Scraping for croatia...\n",
      "Scraping for cuba...\n",
      "Scraping for curacao...\n",
      "Scraping for cyprus...\n",
      "Scraping for czech-republic...\n",
      "Scraping for dem-rep-of-congo...\n",
      "Scraping for denmark...\n",
      "Scraping for djibouti...\n",
      "Scraping for dominica...\n",
      "Scraping for dominican-republic...\n",
      "Scraping for east-timor...\n",
      "Scraping for ecuador...\n",
      "Scraping for egypt...\n",
      "Scraping for el-salvador...\n",
      "Scraping for england...\n",
      "Scraping for equatorial-guinea...\n",
      "Scraping for eritrea...\n",
      "Scraping for estonia...\n",
      "Scraping for ethiopia...\n",
      "Scraping for falkland-islands...\n",
      "Scraping for faroe-islands...\n",
      "Scraping for fiji-islands...\n",
      "Scraping for finland...\n",
      "Scraping for france...\n",
      "Scraping for french-guiana...\n",
      "Scraping for french-polynesia...\n",
      "Scraping for gabon...\n",
      "Scraping for gambia...\n",
      "Scraping for georgia...\n",
      "Scraping for germany...\n",
      "Scraping for ghana...\n",
      "Scraping for gibraltar...\n",
      "Scraping for greece...\n",
      "Scraping for greenland...\n",
      "Scraping for grenada...\n",
      "Scraping for guadeloupe...\n",
      "Scraping for guam...\n",
      "Scraping for guatemala...\n",
      "Scraping for guernsey...\n",
      "Scraping for guinea...\n",
      "Scraping for guinea-bissau...\n",
      "Scraping for guyana...\n",
      "Scraping for haiti...\n",
      "Scraping for honduras...\n",
      "Scraping for hong-kong...\n",
      "Scraping for hungary...\n",
      "Scraping for iceland...\n",
      "Scraping for india...\n",
      "Scraping for indonesia...\n",
      "Scraping for iran...\n",
      "Scraping for iraq...\n",
      "Scraping for ireland...\n",
      "Scraping for isle-of-man...\n",
      "Scraping for israel...\n",
      "Scraping for italy...\n",
      "Scraping for ivory-coast...\n",
      "Scraping for jamaica...\n",
      "Scraping for japan...\n",
      "Scraping for jersey...\n",
      "Scraping for jordan...\n",
      "Scraping for kazakhstan...\n",
      "Scraping for kenya...\n",
      "Scraping for kiribati-republic...\n",
      "Scraping for kosovo...\n",
      "Scraping for kuwait...\n",
      "Scraping for kyrgyz-republic...\n",
      "Scraping for laos...\n",
      "Scraping for latvia...\n",
      "Scraping for lebanon...\n",
      "Scraping for lesotho...\n",
      "Scraping for liberia...\n",
      "Scraping for libya...\n",
      "Scraping for liechtenstein...\n",
      "Scraping for lithuania...\n",
      "Scraping for luxembourg...\n",
      "Scraping for macau...\n",
      "Scraping for macedonia...\n",
      "Scraping for madagascar...\n",
      "Scraping for malawi...\n",
      "Scraping for malaysia...\n",
      "Scraping for maldives...\n",
      "Scraping for mali...\n",
      "Scraping for malta...\n",
      "Scraping for marshall-islands...\n",
      "Scraping for martinique...\n",
      "Scraping for mauritania...\n",
      "Scraping for mauritius...\n",
      "Scraping for mayotte...\n",
      "Scraping for mexico...\n",
      "Scraping for micronesia...\n",
      "Scraping for moldova...\n",
      "Scraping for monaco...\n",
      "Scraping for mongolia...\n",
      "Scraping for montenegro...\n",
      "Scraping for montserrat...\n",
      "Scraping for morocco...\n",
      "Scraping for mozambique...\n",
      "Scraping for myanmar...\n",
      "Scraping for nagorno-karabakh...\n",
      "Scraping for namibia...\n",
      "Scraping for nauru...\n",
      "Scraping for nepal...\n",
      "Scraping for netherlands...\n",
      "Scraping for new-caledonia...\n",
      "Scraping for new-zealand...\n",
      "Scraping for nicaragua...\n",
      "Scraping for niger...\n",
      "Scraping for nigeria...\n",
      "Scraping for niue...\n",
      "Scraping for norfolk-island...\n",
      "Scraping for north-korea...\n",
      "Scraping for northern-ireland...\n",
      "Scraping for northern-marianas...\n",
      "Scraping for norway...\n",
      "Scraping for oman...\n",
      "Scraping for pakistan...\n",
      "Scraping for palau...\n",
      "Scraping for palestine-west-bank...\n",
      "Scraping for panama...\n",
      "Scraping for papua-new-guinea...\n",
      "Scraping for paraguay...\n",
      "Scraping for peru...\n",
      "Scraping for philippines...\n",
      "Scraping for poland...\n",
      "Scraping for portugal...\n",
      "Scraping for puerto-rico...\n",
      "Scraping for qatar...\n",
      "Scraping for reunion...\n",
      "Scraping for romania...\n",
      "Scraping for russia...\n",
      "Scraping for rwanda...\n",
      "Scraping for samoa...\n",
      "Scraping for san-marino...\n",
      "Scraping for sao-tome-principe...\n",
      "Scraping for saudi-arabia...\n",
      "Scraping for scotland...\n",
      "Scraping for senegal-republic...\n",
      "Scraping for serbia...\n",
      "Scraping for seychelles...\n",
      "Scraping for sierra-leone...\n",
      "Scraping for singapore...\n",
      "Scraping for sint-maarten...\n",
      "Scraping for slovak-republic...\n",
      "Scraping for slovenia...\n",
      "Scraping for solomon-islands...\n",
      "Scraping for somalia...\n",
      "Scraping for somaliland...\n",
      "Scraping for south-africa...\n",
      "Scraping for south-korea...\n",
      "Scraping for south-ossetia...\n",
      "Scraping for south-sudan...\n",
      "Scraping for spain...\n",
      "Scraping for sri-lanka...\n",
      "Scraping for st-helena...\n",
      "Scraping for st-kitts...\n",
      "Scraping for st-lucia...\n",
      "Scraping for st-vincent-the-grenadines...\n",
      "Scraping for sudan...\n",
      "Scraping for suriname...\n",
      "Scraping for swaziland...\n",
      "Scraping for sweden...\n",
      "Scraping for switzerland...\n",
      "Scraping for syria...\n",
      "Scraping for taiwan...\n",
      "Scraping for tajikistan...\n",
      "Scraping for tanzania...\n",
      "Scraping for thailand...\n",
      "Scraping for tibet...\n",
      "Scraping for togo...\n",
      "Scraping for tokelau...\n",
      "Scraping for tonga...\n",
      "Scraping for transdniestra...\n",
      "Scraping for trinidad-tobago...\n",
      "Scraping for tunisia...\n",
      "Scraping for turkey...\n",
      "Scraping for turkish-republic-of-cyprus...\n",
      "Scraping for turkmenistan...\n",
      "Scraping for turks-and-caicos-islands...\n",
      "Scraping for tuvalu...\n",
      "Scraping for uganda...\n",
      "Scraping for ukraine...\n",
      "Scraping for united-arab-emirates...\n",
      "Scraping for united-states...\n",
      "Scraping for united-states-virgin-islands...\n",
      "Scraping for uruguay...\n",
      "Scraping for uzbekistan...\n",
      "Scraping for vanuatu...\n",
      "Scraping for vatican-city...\n",
      "Scraping for venezuela...\n",
      "Scraping for vietnam...\n",
      "Scraping for wales...\n",
      "Scraping for western-sahara...\n",
      "Scraping for yemen...\n",
      "Scraping for zambia...\n",
      "Scraping for zimbabwe...\n"
     ]
    }
   ],
   "source": [
    "for country in country_paths:\n",
    "    ctry = country.split('/')[3]\n",
    "    print(\"Scraping for {cty}...\".format(cty=ctry))\n",
    "    lst_beer = []\n",
    "    lst_beer_link = []\n",
    "    lst_score = []\n",
    "    lst_style = []\n",
    "    time.sleep(.3)\n",
    "    with requests.session() as a:\n",
    "        response = s.get(make_url(country))\n",
    "        soup = BeautifulSoup(response.text, \"html.parser\")\n",
    "    length_ =  len(soup.find('table').find_all('tr'))\n",
    "    if length_ > 1:\n",
    "        for i in range(1,length_):\n",
    "            lst_beer.append(soup.find('table').find_all('tr')[i].find('a').text)\n",
    "            lst_beer_link.append(soup.find('table').find_all('tr')[i].find('a')['href'])\n",
    "            lst_score.append(soup.find('table').find_all('tr')[i].find('b').text) \n",
    "            lst_style.append(soup.find('table').find_all('tr')[i].find_all('a')[1].text)\n",
    "    \n",
    "    df = pd.DataFrame({'beer': lst_beer, 'link': lst_beer_link, 'score': lst_score, 'style': lst_style})\n",
    "    file_name = \"./Data/country_{c}_ranking.csv\".format(c=ctry)\n",
    "    df.to_csv(file_name, index=False)     "
   ]
  },
  {
   "cell_type": "markdown",
   "metadata": {},
   "source": [
    "# PART II"
   ]
  },
  {
   "cell_type": "code",
   "execution_count": 6,
   "metadata": {
    "collapsed": false
   },
   "outputs": [
    {
     "data": {
      "text/plain": [
       "'https://www.ratebeer.com/beer/sukhumskoe-svetloe-pivo-klassicheskoe/152260/'"
      ]
     },
     "execution_count": 6,
     "metadata": {},
     "output_type": "execute_result"
    }
   ],
   "source": [
    "# Example\n",
    "abkhazia = pd.read_csv('./Data/country_abkhazia_ranking.csv')\n",
    "url_beer = make_url(abkhazia.link[5])\n",
    "url_beer"
   ]
  },
  {
   "cell_type": "code",
   "execution_count": 7,
   "metadata": {
    "collapsed": true
   },
   "outputs": [],
   "source": [
    "def get_beer_details(link):\n",
    "    '''\n",
    "    This function enables to get beer details from link.\n",
    "    '''\n",
    "    time.sleep(.3)\n",
    "    with requests.session() as a:\n",
    "        response = s.get(link)\n",
    "        soup = BeautifulSoup(response.text, \"html.parser\")\n",
    "    if soup.find('abbr', attrs={'title': \"Estimated calories for a 12 fluid ounce serving\"}) is None:\n",
    "        abv = soup.find_all('big', attrs={'style':'color: #777;'})[-1].text.split('%')[0]\n",
    "        cal = np.NaN\n",
    "    else:\n",
    "        abv = soup.find_all('big', attrs={'style':'color: #777;'})[-1].text.split('%')[0]\n",
    "        cal = soup.find_all('big', attrs={'style':'color: #777;'})[-2].text\n",
    "    \n",
    "    name = soup.find('span', attrs={'itemprop': 'name'}).text.strip() #find the name without encoding bug\n",
    "    beer_style = soup.select(\"a[href*=beerstyles]\")[-1].text #find the beer style without the encoding bug\n",
    "    \n",
    "    loc = soup.find_all('div', attrs={'style':'padding-bottom: 7px; line-height: 1.5;'})[0].find_all('br')[-1].text\n",
    "    city = loc.split(',')[:-1]\n",
    "    country =  loc.split(',')[-1].strip()\n",
    "\n",
    "    return abv,cal,city,country,name,beer_style\n",
    "    "
   ]
  },
  {
   "cell_type": "code",
   "execution_count": 8,
   "metadata": {
    "collapsed": false
   },
   "outputs": [
    {
     "data": {
      "text/plain": [
       "nan"
      ]
     },
     "execution_count": 8,
     "metadata": {},
     "output_type": "execute_result"
    }
   ],
   "source": [
    "# Example\n",
    "a,c,l,co,nam,st = get_beer_details('https://www.ratebeer.com/beer/svejk-dark/220898/')\n",
    "c"
   ]
  },
  {
   "cell_type": "markdown",
   "metadata": {},
   "source": [
    "## Loading paths to CSVs"
   ]
  },
  {
   "cell_type": "code",
   "execution_count": 9,
   "metadata": {
    "collapsed": false
   },
   "outputs": [],
   "source": [
    "ROOT = \"./Data/\"\n",
    "\n",
    "def get_all_files_in(mypath):\n",
    "    return [f for f in listdir(mypath) if isfile(join(mypath, f))]\n",
    "\n",
    "paths_csv = [ROOT + file_path for file_path in get_all_files_in(ROOT)]\n",
    "paths_csv.remove('./Data/.DS_Store')"
   ]
  },
  {
   "cell_type": "markdown",
   "metadata": {},
   "source": [
    "## Scraping beer details (no need to run twice)"
   ]
  },
  {
   "cell_type": "code",
   "execution_count": 10,
   "metadata": {
    "collapsed": false,
    "scrolled": false
   },
   "outputs": [
    {
     "name": "stdout",
     "output_type": "stream",
     "text": [
      "null entry with : https://www.ratebeer.com/beer/balashi-pilsener/296383/\n",
      "null entry with : https://www.ratebeer.com/beer/baki-castel-33-export-azerbaijan/57932/\n",
      "null entry with : https://www.ratebeer.com/beer/guinness-foreign-extra-stout-belize/278682/\n",
      "null entry with : https://www.ratebeer.com/beer/bhutan-premium-lager-beer/111662/\n",
      "null entry with : https://www.ratebeer.com/beer/carling-black-label-beer-botswana/243056/\n",
      "null entry with : https://www.ratebeer.com/beer/kgalagadi-ohlssons/41321/\n",
      "null entry with : https://www.ratebeer.com/beer/guinness-foreign-extra-stout-burkina-faso/423683/\n",
      "null entry with : https://www.ratebeer.com/beer/artisanale-de-ouagadougou-make-beer-not-cars/508602/\n",
      "null entry with : https://www.ratebeer.com/beer/guinness-foreign-extra-stout-cameroon/272062/\n",
      "null entry with : https://www.ratebeer.com/beer/cubanero-fuerte/234507/\n",
      "null entry with : https://www.ratebeer.com/beer/palma-cristal/12457/\n",
      "null entry with : https://www.ratebeer.com/beer/skol-congo-dr/59432/\n",
      "null entry with : https://www.ratebeer.com/beer/guinness-foreign-extra-stout-gambia/447792/\n",
      "null entry with : https://www.ratebeer.com/beer/solo-wuhan-no18-meso?e?o?-tiao-dong-hu-cretan-ipa/505415/\n",
      "null entry with : https://www.ratebeer.com/beer/carib-lager-grenada/387787/\n",
      "null entry with : https://www.ratebeer.com/beer/stag-lager-beer-grenada/281890/\n",
      "null entry with : https://www.ratebeer.com/beer/skol-guinea/69485/\n",
      "null entry with : https://www.ratebeer.com/beer/guinness-foreign-extra-stout-haiti/166065/\n",
      "null entry with : https://www.ratebeer.com/beer/young-master-yat-cheen-??/512888/\n",
      "null entry with : https://www.ratebeer.com/beer/bajika-pomegranate/212388/\n",
      "null entry with : https://www.ratebeer.com/beer/amstel/447941/\n",
      "null entry with : https://www.ratebeer.com/beer/birra-peja-zero-ananas/187688/\n",
      "null entry with : https://www.ratebeer.com/beer/guinness-premium-beer/121756/\n",
      "null entry with : https://www.ratebeer.com/beer/tiger-beer-malaysia/174371/\n",
      "null entry with : https://www.ratebeer.com/beer/tiger-white/386623/\n",
      "null entry with : https://www.ratebeer.com/beer/connors-stout-porter/355093/\n",
      "null entry with : https://www.ratebeer.com/beer/cisk-xs/59620/\n",
      "null entry with : https://www.ratebeer.com/beer/brasserie-de-monaco-biere-aux-fruits-rouges/285903/\n",
      "null entry with : https://www.ratebeer.com/beer/brasserie-de-monaco-blanche-45/107974/\n",
      "null entry with : https://www.ratebeer.com/beer/black-sheep-doma263e-pivo/412246/\n",
      "null entry with : https://www.ratebeer.com/beer/nik-gold/5992/\n",
      "null entry with : https://www.ratebeer.com/beer/heineken-beer/247623/\n",
      "null entry with : https://www.ratebeer.com/beer/mac-mahon/300857/\n",
      "null entry with : https://www.ratebeer.com/beer/abc-extra-stout-myanmar/253783/\n",
      "null entry with : https://www.ratebeer.com/beer/namibia-frostie-beer-shandy/71633/\n",
      "null entry with : https://www.ratebeer.com/beer/namibia-urbock/8247/\n",
      "null entry with : https://www.ratebeer.com/beer/castle-lager-nigeria/251865/\n",
      "null entry with : https://www.ratebeer.com/beer/castle-milk-stout-nigeria/251864/\n",
      "null entry with : https://www.ratebeer.com/beer/pal-nigeria-lager/13893/\n",
      "null entry with : https://www.ratebeer.com/beer/koryo-hotel-heuk-saeng-maekju/96490/\n",
      "null entry with : https://www.ratebeer.com/beer/murree-london-lager/11328/\n",
      "null entry with : https://www.ratebeer.com/beer/soberana-extra-fina/49824/\n",
      "null entry with : https://www.ratebeer.com/beer/skol-rwanda/150749/\n",
      "null entry with : https://www.ratebeer.com/beer/skol-100-malt-rwanda/451175/\n",
      "null entry with : https://www.ratebeer.com/beer/titanbrau-pils/173618/\n",
      "null entry with : https://www.ratebeer.com/beer/titanbrau-ale/173619/\n",
      "null entry with : https://www.ratebeer.com/beer/pelforth-ambree-senegal/150367/\n",
      "null entry with : https://www.ratebeer.com/beer/carlsberg-sri-lanka/195662/\n",
      "null entry with : https://www.ratebeer.com/beer/sinha-lager/65706/\n",
      "null entry with : https://www.ratebeer.com/beer/abc-extra-stout-sri-lanka/167172/\n",
      "null entry with : https://www.ratebeer.com/beer/anchor-smooth-sri-lanka/195659/\n",
      "null entry with : https://www.ratebeer.com/beer/sinha-stout/47241/\n",
      "null entry with : https://www.ratebeer.com/beer/carib-lager-st-kitts/499666/\n",
      "null entry with : https://www.ratebeer.com/beer/skol-lager-st-kitts/31903/\n",
      "null entry with : https://www.ratebeer.com/beer/djogo-chiller-lime/121940/\n",
      "null entry with : https://www.ratebeer.com/beer/taihu-??-smoked-plum-lichtenhainer/515777/\n",
      "null entry with : https://www.ratebeer.com/beer/taihu-momo-?????-peach-weisse/493747/\n",
      "null entry with : https://www.ratebeer.com/beer/taihu-??-kumquat-kolsch/493746/\n",
      "null entry with : https://www.ratebeer.com/beer/guinness-foreign-extra-stout-togo/450024/\n",
      "null entry with : https://www.ratebeer.com/beer/eku-bavaria-togo/141626/\n",
      "null entry with : https://www.ratebeer.com/beer/guinness-foreign-extra-stout-carib/173483/\n",
      "null entry with : https://www.ratebeer.com/beer/zip-5-klassyky/416124/\n",
      "null entry with : https://www.ratebeer.com/beer/fort-christian-blackbeard-ale/41254/\n",
      "null entry with : https://www.ratebeer.com/beer/fort-christian-foxys-lager/41255/\n",
      "null entry with : https://www.ratebeer.com/beer/zambezi-licht/282988/\n",
      "null entry with : https://www.ratebeer.com/beer/castle-lager-delta-breweries/171878/\n",
      "null entry with : https://www.ratebeer.com/beer/lion-lager-zimbabwe/153615/\n",
      "\n"
     ]
    }
   ],
   "source": [
    "lst_df = []\n",
    "for j in tqdm_notebook(range(len(paths_csv))):\n",
    "    path = paths_csv[j]\n",
    "    lst_abv = []\n",
    "    lst_cal = []\n",
    "    lst_city = []\n",
    "    lst_country = []\n",
    "    lst_name = []\n",
    "    lst_style = []\n",
    "    df = pd.read_csv(path)\n",
    "    urls_beer = [make_url(query) for query in df.link]\n",
    "    for url_ in urls_beer:\n",
    "        try:\n",
    "            abv,cal,city,country,name,style = get_beer_details(url_)\n",
    "            lst_abv.append(abv)\n",
    "            lst_cal.append(cal)\n",
    "            lst_city.append(city)\n",
    "            lst_country.append(country)\n",
    "            lst_name.append(name)\n",
    "            lst_style.append(style)\n",
    "        except:\n",
    "            print(\"null entry with :\", url_)\n",
    "            lst_abv.append(np.NaN)\n",
    "            lst_cal.append(np.NaN)\n",
    "            lst_city.append(np.NaN)\n",
    "            lst_country.append(np.NaN)\n",
    "            lst_name.append(np.NaN)\n",
    "            lst_style.append(np.NaN)\n",
    "    df['abv'] = lst_abv\n",
    "    df['cal'] = lst_cal\n",
    "    df['city'] = lst_city\n",
    "    df['country'] = lst_country\n",
    "    df['name'] = lst_name\n",
    "    df['beer style'] = lst_style\n",
    "    lst_df.append(df) "
   ]
  },
  {
   "cell_type": "code",
   "execution_count": 190,
   "metadata": {
    "collapsed": false
   },
   "outputs": [],
   "source": [
    "df_all = pd.concat(lst_df, ignore_index=True)\n",
    "df_all = df_all.drop(['beer', 'style'], axis=1)"
   ]
  },
  {
   "cell_type": "code",
   "execution_count": 191,
   "metadata": {
    "collapsed": false
   },
   "outputs": [
    {
     "data": {
      "text/html": [
       "<div>\n",
       "<style>\n",
       "    .dataframe thead tr:only-child th {\n",
       "        text-align: right;\n",
       "    }\n",
       "\n",
       "    .dataframe thead th {\n",
       "        text-align: left;\n",
       "    }\n",
       "\n",
       "    .dataframe tbody tr th {\n",
       "        vertical-align: top;\n",
       "    }\n",
       "</style>\n",
       "<table border=\"1\" class=\"dataframe\">\n",
       "  <thead>\n",
       "    <tr style=\"text-align: right;\">\n",
       "      <th></th>\n",
       "      <th>name</th>\n",
       "      <th>score</th>\n",
       "      <th>beer style</th>\n",
       "      <th>abv</th>\n",
       "      <th>cal</th>\n",
       "      <th>city</th>\n",
       "      <th>country</th>\n",
       "      <th>link</th>\n",
       "    </tr>\n",
       "  </thead>\n",
       "  <tbody>\n",
       "    <tr>\n",
       "      <th>0</th>\n",
       "      <td>Ivanych Zhivoe Svetloe</td>\n",
       "      <td>2.84</td>\n",
       "      <td>Zwickel/Keller/Landbier</td>\n",
       "      <td>4.5</td>\n",
       "      <td>135</td>\n",
       "      <td>[Sukhum]</td>\n",
       "      <td>Abkhazia</td>\n",
       "      <td>/beer/ivanych-zhivoe-svetloe/301247/</td>\n",
       "    </tr>\n",
       "    <tr>\n",
       "      <th>1</th>\n",
       "      <td>Stara Praha Oldenburg Tiemnoye</td>\n",
       "      <td>2.52</td>\n",
       "      <td>Dunkel/Tmavý</td>\n",
       "      <td>4.7</td>\n",
       "      <td>141</td>\n",
       "      <td>[Stara Gagra]</td>\n",
       "      <td>Abkhazia</td>\n",
       "      <td>/beer/stara-praha-oldenburg-tiemnoye/334787/</td>\n",
       "    </tr>\n",
       "    <tr>\n",
       "      <th>2</th>\n",
       "      <td>Stara Praha Oldenburg Svetloe</td>\n",
       "      <td>2.51</td>\n",
       "      <td>Pale Lager</td>\n",
       "      <td>4.7</td>\n",
       "      <td>141</td>\n",
       "      <td>[Stara Gagra]</td>\n",
       "      <td>Abkhazia</td>\n",
       "      <td>/beer/stara-praha-oldenburg-svetloe/334785/</td>\n",
       "    </tr>\n",
       "    <tr>\n",
       "      <th>3</th>\n",
       "      <td>Stara Praha Oldenburg Jantarnoye</td>\n",
       "      <td>2.49</td>\n",
       "      <td>Amber Lager/Vienna</td>\n",
       "      <td>4.5</td>\n",
       "      <td>135</td>\n",
       "      <td>[Stara Gagra]</td>\n",
       "      <td>Abkhazia</td>\n",
       "      <td>/beer/stara-praha-oldenburg-jantarnoye/334786/</td>\n",
       "    </tr>\n",
       "    <tr>\n",
       "      <th>4</th>\n",
       "      <td>Assir Lager (Svetloe)</td>\n",
       "      <td>2.37</td>\n",
       "      <td>Pale Lager</td>\n",
       "      <td>5</td>\n",
       "      <td>150</td>\n",
       "      <td>[Alakhadzykh Village,  Gagra Region]</td>\n",
       "      <td>Abkhazia</td>\n",
       "      <td>/beer/assir-lager-svetloe/191169/</td>\n",
       "    </tr>\n",
       "  </tbody>\n",
       "</table>\n",
       "</div>"
      ],
      "text/plain": [
       "                               name score               beer style  abv  cal  \\\n",
       "0            Ivanych Zhivoe Svetloe  2.84  Zwickel/Keller/Landbier  4.5  135   \n",
       "1    Stara Praha Oldenburg Tiemnoye  2.52             Dunkel/Tmavý  4.7  141   \n",
       "2     Stara Praha Oldenburg Svetloe  2.51               Pale Lager  4.7  141   \n",
       "3  Stara Praha Oldenburg Jantarnoye  2.49       Amber Lager/Vienna  4.5  135   \n",
       "4             Assir Lager (Svetloe)  2.37               Pale Lager    5  150   \n",
       "\n",
       "                                   city   country  \\\n",
       "0                              [Sukhum]  Abkhazia   \n",
       "1                         [Stara Gagra]  Abkhazia   \n",
       "2                         [Stara Gagra]  Abkhazia   \n",
       "3                         [Stara Gagra]  Abkhazia   \n",
       "4  [Alakhadzykh Village,  Gagra Region]  Abkhazia   \n",
       "\n",
       "                                             link  \n",
       "0            /beer/ivanych-zhivoe-svetloe/301247/  \n",
       "1    /beer/stara-praha-oldenburg-tiemnoye/334787/  \n",
       "2     /beer/stara-praha-oldenburg-svetloe/334785/  \n",
       "3  /beer/stara-praha-oldenburg-jantarnoye/334786/  \n",
       "4               /beer/assir-lager-svetloe/191169/  "
      ]
     },
     "execution_count": 191,
     "metadata": {},
     "output_type": "execute_result"
    }
   ],
   "source": [
    "df_all =  df_all[['name','score','beer style','abv','cal','city','country','link']]\n",
    "df_all.head()"
   ]
  },
  {
   "cell_type": "code",
   "execution_count": 192,
   "metadata": {
    "collapsed": false
   },
   "outputs": [],
   "source": [
    "df_all.city = df_all['city'].str.join('')"
   ]
  },
  {
   "cell_type": "code",
   "execution_count": 193,
   "metadata": {
    "collapsed": false
   },
   "outputs": [],
   "source": [
    "df_all.cal = pd.to_numeric(df_all['cal'], errors='coerce')\n",
    "df_all.abv = pd.to_numeric(df_all['abv'], errors='coerce')\n",
    "df_all.score = pd.to_numeric(df_all['score'], errors='coerce')"
   ]
  },
  {
   "cell_type": "code",
   "execution_count": 194,
   "metadata": {
    "collapsed": false
   },
   "outputs": [
    {
     "data": {
      "text/html": [
       "<div>\n",
       "<style>\n",
       "    .dataframe thead tr:only-child th {\n",
       "        text-align: right;\n",
       "    }\n",
       "\n",
       "    .dataframe thead th {\n",
       "        text-align: left;\n",
       "    }\n",
       "\n",
       "    .dataframe tbody tr th {\n",
       "        vertical-align: top;\n",
       "    }\n",
       "</style>\n",
       "<table border=\"1\" class=\"dataframe\">\n",
       "  <thead>\n",
       "    <tr style=\"text-align: right;\">\n",
       "      <th></th>\n",
       "      <th>name</th>\n",
       "      <th>score</th>\n",
       "      <th>beer style</th>\n",
       "      <th>abv</th>\n",
       "      <th>cal</th>\n",
       "      <th>city</th>\n",
       "      <th>country</th>\n",
       "      <th>link</th>\n",
       "    </tr>\n",
       "  </thead>\n",
       "  <tbody>\n",
       "    <tr>\n",
       "      <th>0</th>\n",
       "      <td>Ivanych Zhivoe Svetloe</td>\n",
       "      <td>2.84</td>\n",
       "      <td>Zwickel/Keller/Landbier</td>\n",
       "      <td>4.5</td>\n",
       "      <td>135.0</td>\n",
       "      <td>Sukhum</td>\n",
       "      <td>Abkhazia</td>\n",
       "      <td>/beer/ivanych-zhivoe-svetloe/301247/</td>\n",
       "    </tr>\n",
       "    <tr>\n",
       "      <th>1</th>\n",
       "      <td>Stara Praha Oldenburg Tiemnoye</td>\n",
       "      <td>2.52</td>\n",
       "      <td>Dunkel/Tmavý</td>\n",
       "      <td>4.7</td>\n",
       "      <td>141.0</td>\n",
       "      <td>Stara Gagra</td>\n",
       "      <td>Abkhazia</td>\n",
       "      <td>/beer/stara-praha-oldenburg-tiemnoye/334787/</td>\n",
       "    </tr>\n",
       "    <tr>\n",
       "      <th>2</th>\n",
       "      <td>Stara Praha Oldenburg Svetloe</td>\n",
       "      <td>2.51</td>\n",
       "      <td>Pale Lager</td>\n",
       "      <td>4.7</td>\n",
       "      <td>141.0</td>\n",
       "      <td>Stara Gagra</td>\n",
       "      <td>Abkhazia</td>\n",
       "      <td>/beer/stara-praha-oldenburg-svetloe/334785/</td>\n",
       "    </tr>\n",
       "    <tr>\n",
       "      <th>3</th>\n",
       "      <td>Stara Praha Oldenburg Jantarnoye</td>\n",
       "      <td>2.49</td>\n",
       "      <td>Amber Lager/Vienna</td>\n",
       "      <td>4.5</td>\n",
       "      <td>135.0</td>\n",
       "      <td>Stara Gagra</td>\n",
       "      <td>Abkhazia</td>\n",
       "      <td>/beer/stara-praha-oldenburg-jantarnoye/334786/</td>\n",
       "    </tr>\n",
       "    <tr>\n",
       "      <th>4</th>\n",
       "      <td>Assir Lager (Svetloe)</td>\n",
       "      <td>2.37</td>\n",
       "      <td>Pale Lager</td>\n",
       "      <td>5.0</td>\n",
       "      <td>150.0</td>\n",
       "      <td>Alakhadzykh Village Gagra Region</td>\n",
       "      <td>Abkhazia</td>\n",
       "      <td>/beer/assir-lager-svetloe/191169/</td>\n",
       "    </tr>\n",
       "  </tbody>\n",
       "</table>\n",
       "</div>"
      ],
      "text/plain": [
       "                               name  score               beer style  abv  \\\n",
       "0            Ivanych Zhivoe Svetloe   2.84  Zwickel/Keller/Landbier  4.5   \n",
       "1    Stara Praha Oldenburg Tiemnoye   2.52             Dunkel/Tmavý  4.7   \n",
       "2     Stara Praha Oldenburg Svetloe   2.51               Pale Lager  4.7   \n",
       "3  Stara Praha Oldenburg Jantarnoye   2.49       Amber Lager/Vienna  4.5   \n",
       "4             Assir Lager (Svetloe)   2.37               Pale Lager  5.0   \n",
       "\n",
       "     cal                              city   country  \\\n",
       "0  135.0                            Sukhum  Abkhazia   \n",
       "1  141.0                       Stara Gagra  Abkhazia   \n",
       "2  141.0                       Stara Gagra  Abkhazia   \n",
       "3  135.0                       Stara Gagra  Abkhazia   \n",
       "4  150.0  Alakhadzykh Village Gagra Region  Abkhazia   \n",
       "\n",
       "                                             link  \n",
       "0            /beer/ivanych-zhivoe-svetloe/301247/  \n",
       "1    /beer/stara-praha-oldenburg-tiemnoye/334787/  \n",
       "2     /beer/stara-praha-oldenburg-svetloe/334785/  \n",
       "3  /beer/stara-praha-oldenburg-jantarnoye/334786/  \n",
       "4               /beer/assir-lager-svetloe/191169/  "
      ]
     },
     "execution_count": 194,
     "metadata": {},
     "output_type": "execute_result"
    }
   ],
   "source": [
    "df_all.head()"
   ]
  },
  {
   "cell_type": "code",
   "execution_count": 195,
   "metadata": {
    "collapsed": false
   },
   "outputs": [
    {
     "data": {
      "text/plain": [
       "numpy.float64"
      ]
     },
     "execution_count": 195,
     "metadata": {},
     "output_type": "execute_result"
    }
   ],
   "source": [
    "type(df_all.score[1])"
   ]
  },
  {
   "cell_type": "code",
   "execution_count": 196,
   "metadata": {
    "collapsed": false
   },
   "outputs": [],
   "source": [
    "df_all.to_csv('ratebeer_dataset_all.csv', index=False)"
   ]
  },
  {
   "cell_type": "markdown",
   "metadata": {},
   "source": [
    "## EDA"
   ]
  },
  {
   "cell_type": "code",
   "execution_count": 197,
   "metadata": {
    "collapsed": false
   },
   "outputs": [],
   "source": [
    "df = pd.read_csv('./ratebeer_dataset_all.csv')"
   ]
  },
  {
   "cell_type": "code",
   "execution_count": 200,
   "metadata": {
    "collapsed": false
   },
   "outputs": [
    {
     "data": {
      "text/plain": [
       "(5897, 8)"
      ]
     },
     "execution_count": 200,
     "metadata": {},
     "output_type": "execute_result"
    }
   ],
   "source": [
    "df.shape"
   ]
  },
  {
   "cell_type": "code",
   "execution_count": 199,
   "metadata": {
    "collapsed": false
   },
   "outputs": [
    {
     "data": {
      "text/plain": [
       "(371, 8)"
      ]
     },
     "execution_count": 199,
     "metadata": {},
     "output_type": "execute_result"
    }
   ],
   "source": [
    "df[df.score.isnull()].shape"
   ]
  },
  {
   "cell_type": "code",
   "execution_count": 201,
   "metadata": {
    "collapsed": false
   },
   "outputs": [
    {
     "data": {
      "text/plain": [
       "(5006, 8)"
      ]
     },
     "execution_count": 201,
     "metadata": {},
     "output_type": "execute_result"
    }
   ],
   "source": [
    "df = df.dropna(axis=0, how='any')\n",
    "df.shape"
   ]
  },
  {
   "cell_type": "code",
   "execution_count": 202,
   "metadata": {
    "collapsed": false
   },
   "outputs": [
    {
     "data": {
      "text/plain": [
       "<matplotlib.axes._subplots.AxesSubplot at 0x116cb69e8>"
      ]
     },
     "execution_count": 202,
     "metadata": {},
     "output_type": "execute_result"
    },
    {
     "data": {
      "image/png": "[encoded data removed]",
      "text/plain": [
       "<matplotlib.figure.Figure at 0x116cb6978>"
      ]
     },
     "metadata": {},
     "output_type": "display_data"
    }
   ],
   "source": [
    "plt.figure(figsize=(15,4))\n",
    "df.cal.hist(bins=50)"
   ]
  },
  {
   "cell_type": "code",
   "execution_count": 203,
   "metadata": {
    "collapsed": false
   },
   "outputs": [
    {
     "data": {
      "text/plain": [
       "<matplotlib.axes._subplots.AxesSubplot at 0x115fc75c0>"
      ]
     },
     "execution_count": 203,
     "metadata": {},
     "output_type": "execute_result"
    },
    {
     "data": {
      "image/png": "[encoded data removed]",
      "text/plain": [
       "<matplotlib.figure.Figure at 0x115fc79e8>"
      ]
     },
     "metadata": {},
     "output_type": "display_data"
    }
   ],
   "source": [
    "plt.figure(figsize=(15,4))\n",
    "df.score.hist(bins=50)"
   ]
  },
  {
   "cell_type": "code",
   "execution_count": 204,
   "metadata": {
    "collapsed": false
   },
   "outputs": [
    {
     "data": {
      "text/plain": [
       "<matplotlib.axes._subplots.AxesSubplot at 0x10d8879e8>"
      ]
     },
     "execution_count": 204,
     "metadata": {},
     "output_type": "execute_result"
    },
    {
     "data": {
      "image/png": "[encoded data removed]",
      "text/plain": [
       "<matplotlib.figure.Figure at 0x10d8875f8>"
      ]
     },
     "metadata": {},
     "output_type": "display_data"
    }
   ],
   "source": [
    "plt.figure(figsize=(15,4))\n",
    "df.abv.hist(bins=50)"
   ]
  },
  {
   "cell_type": "code",
   "execution_count": 210,
   "metadata": {
    "collapsed": false
   },
   "outputs": [
    {
     "data": {
      "text/plain": [
       "<matplotlib.collections.PathCollection at 0x1182251d0>"
      ]
     },
     "execution_count": 210,
     "metadata": {},
     "output_type": "execute_result"
    },
    {
     "data": {
      "image/png": "[encoded data removed]",
      "text/plain": [
       "<matplotlib.figure.Figure at 0x117caa6a0>"
      ]
     },
     "metadata": {},
     "output_type": "display_data"
    }
   ],
   "source": [
    "plt.scatter(df.abv,df.cal)"
   ]
  },
  {
   "cell_type": "code",
   "execution_count": 211,
   "metadata": {
    "collapsed": false
   },
   "outputs": [
    {
     "data": {
      "text/plain": [
       "<seaborn.axisgrid.PairGrid at 0x11831a048>"
      ]
     },
     "execution_count": 211,
     "metadata": {},
     "output_type": "execute_result"
    },
    {
     "data": {
      "image/png": "[encoded data removed]",
      "text/plain": [
       "<matplotlib.figure.Figure at 0x118318f98>"
      ]
     },
     "metadata": {},
     "output_type": "display_data"
    }
   ],
   "source": [
    "sns.pairplot(df)"
   ]
  },
  {
   "cell_type": "code",
   "execution_count": 215,
   "metadata": {
    "collapsed": false
   },
   "outputs": [
    {
     "data": {
      "text/plain": [
       "<matplotlib.axes._subplots.AxesSubplot at 0x1195dba20>"
      ]
     },
     "execution_count": 215,
     "metadata": {},
     "output_type": "execute_result"
    },
    {
     "data": {
      "image/png": "[encoded data removed]",
      "text/plain": [
       "<matplotlib.figure.Figure at 0x1196cb6d8>"
      ]
     },
     "metadata": {},
     "output_type": "display_data"
    }
   ],
   "source": [
    "df['beer style'].value_counts()[:50].plot(\n",
    "    kind='bar', title=\"\\nTop 50 beer sytle frequencies\\n\", legend=False, figsize=(14,4))"
   ]
  },
  {
   "cell_type": "code",
   "execution_count": 244,
   "metadata": {
    "collapsed": false
   },
   "outputs": [
    {
     "data": {
      "text/html": [
       "<div>\n",
       "<style>\n",
       "    .dataframe thead tr:only-child th {\n",
       "        text-align: right;\n",
       "    }\n",
       "\n",
       "    .dataframe thead th {\n",
       "        text-align: left;\n",
       "    }\n",
       "\n",
       "    .dataframe tbody tr th {\n",
       "        vertical-align: top;\n",
       "    }\n",
       "</style>\n",
       "<table border=\"1\" class=\"dataframe\">\n",
       "  <thead>\n",
       "    <tr style=\"text-align: right;\">\n",
       "      <th></th>\n",
       "      <th>name</th>\n",
       "      <th>score</th>\n",
       "      <th>beer style</th>\n",
       "      <th>abv</th>\n",
       "      <th>cal</th>\n",
       "      <th>city</th>\n",
       "      <th>country</th>\n",
       "      <th>link</th>\n",
       "    </tr>\n",
       "  </thead>\n",
       "  <tbody>\n",
       "    <tr>\n",
       "      <th>5570</th>\n",
       "      <td>Toppling Goliath Kentucky Brunch</td>\n",
       "      <td>4.53</td>\n",
       "      <td>Imperial Stout</td>\n",
       "      <td>12.00</td>\n",
       "      <td>360.0</td>\n",
       "      <td>Decorah</td>\n",
       "      <td>Iowa                             USA</td>\n",
       "      <td>/beer/toppling-goliath-kentucky-brunch/166019/</td>\n",
       "    </tr>\n",
       "    <tr>\n",
       "      <th>5572</th>\n",
       "      <td>Goose Island Beer Company (AB-InBev)</td>\n",
       "      <td>4.41</td>\n",
       "      <td>Imperial Stout</td>\n",
       "      <td>13.00</td>\n",
       "      <td>390.0</td>\n",
       "      <td>Chicago</td>\n",
       "      <td>Illinois                         USA</td>\n",
       "      <td>/beer/goose-island-bourbon-county-stout-rare-2...</td>\n",
       "    </tr>\n",
       "    <tr>\n",
       "      <th>5573</th>\n",
       "      <td>Toppling Goliath Mornin' Delight</td>\n",
       "      <td>4.40</td>\n",
       "      <td>Imperial Stout</td>\n",
       "      <td>12.00</td>\n",
       "      <td>360.0</td>\n",
       "      <td>Decorah</td>\n",
       "      <td>Iowa                             USA</td>\n",
       "      <td>/beer/toppling-goliath-mornin-delight/151817/</td>\n",
       "    </tr>\n",
       "    <tr>\n",
       "      <th>5574</th>\n",
       "      <td>Cigar City Hunahpu's Imperial Stout - Double B...</td>\n",
       "      <td>4.40</td>\n",
       "      <td>Imperial Stout</td>\n",
       "      <td>11.00</td>\n",
       "      <td>330.0</td>\n",
       "      <td>Tampa</td>\n",
       "      <td>Florida                          USA</td>\n",
       "      <td>/beer/cigar-city-hunahpus-imperial-stout-doubl...</td>\n",
       "    </tr>\n",
       "    <tr>\n",
       "      <th>5575</th>\n",
       "      <td>New Glarus Brewing Company</td>\n",
       "      <td>4.36</td>\n",
       "      <td>Sour/Wild Ale</td>\n",
       "      <td>5.00</td>\n",
       "      <td>150.0</td>\n",
       "      <td>New Glarus</td>\n",
       "      <td>Wisconsin                        USA</td>\n",
       "      <td>/beer/new-glarus-r-d-sour-fruit-wild-blackberr...</td>\n",
       "    </tr>\n",
       "    <tr>\n",
       "      <th>5576</th>\n",
       "      <td>Three Floyds Dark Lord Russian Imperial Stout ...</td>\n",
       "      <td>4.35</td>\n",
       "      <td>Imperial Stout</td>\n",
       "      <td>15.00</td>\n",
       "      <td>450.0</td>\n",
       "      <td>Munster</td>\n",
       "      <td>Indiana                          USA</td>\n",
       "      <td>/beer/three-floyds-dark-lord-russian-imperial-...</td>\n",
       "    </tr>\n",
       "    <tr>\n",
       "      <th>5577</th>\n",
       "      <td>Russian River Pliny the Younger</td>\n",
       "      <td>4.35</td>\n",
       "      <td>Imperial IPA</td>\n",
       "      <td>11.00</td>\n",
       "      <td>330.0</td>\n",
       "      <td>Santa Rosa</td>\n",
       "      <td>California                       USA</td>\n",
       "      <td>/beer/russian-river-pliny-the-younger/43181/</td>\n",
       "    </tr>\n",
       "    <tr>\n",
       "      <th>5578</th>\n",
       "      <td>AleSmith Speedway Stout - Bourbon Barrel Aged</td>\n",
       "      <td>4.33</td>\n",
       "      <td>Imperial Stout</td>\n",
       "      <td>12.00</td>\n",
       "      <td>360.0</td>\n",
       "      <td>San Diego</td>\n",
       "      <td>California                       USA</td>\n",
       "      <td>/beer/alesmith-speedway-stout-bourbon-barrel-a...</td>\n",
       "    </tr>\n",
       "    <tr>\n",
       "      <th>5579</th>\n",
       "      <td>Three Floyds Dark Lord Russian Imperial Stout ...</td>\n",
       "      <td>4.33</td>\n",
       "      <td>Imperial Stout</td>\n",
       "      <td>14.00</td>\n",
       "      <td>420.0</td>\n",
       "      <td>Munster</td>\n",
       "      <td>Indiana                          USA</td>\n",
       "      <td>/beer/three-floyds-dark-lord-russian-imperial-...</td>\n",
       "    </tr>\n",
       "    <tr>\n",
       "      <th>5580</th>\n",
       "      <td>Cigar City Brewing</td>\n",
       "      <td>4.32</td>\n",
       "      <td>Berliner Weisse</td>\n",
       "      <td>4.50</td>\n",
       "      <td>135.0</td>\n",
       "      <td>Tampa</td>\n",
       "      <td>Florida                          USA</td>\n",
       "      <td>/beer/cigar-city-pilot-series-miami-madness/16...</td>\n",
       "    </tr>\n",
       "    <tr>\n",
       "      <th>5581</th>\n",
       "      <td>Bell's Black Note Stout</td>\n",
       "      <td>4.31</td>\n",
       "      <td>Imperial Stout</td>\n",
       "      <td>10.80</td>\n",
       "      <td>324.0</td>\n",
       "      <td>Galesburg</td>\n",
       "      <td>Michigan                         USA</td>\n",
       "      <td>/beer/bells-black-note-stout/71826/</td>\n",
       "    </tr>\n",
       "    <tr>\n",
       "      <th>5582</th>\n",
       "      <td>Cigar City Brewing</td>\n",
       "      <td>4.31</td>\n",
       "      <td>Imperial Stout</td>\n",
       "      <td>11.00</td>\n",
       "      <td>330.0</td>\n",
       "      <td>Tampa</td>\n",
       "      <td>Florida                          USA</td>\n",
       "      <td>/beer/cigar-city-hunahpus-imperial-stout-apple...</td>\n",
       "    </tr>\n",
       "    <tr>\n",
       "      <th>5583</th>\n",
       "      <td>Founders Brewing Company</td>\n",
       "      <td>4.31</td>\n",
       "      <td>Imperial Stout</td>\n",
       "      <td>10.60</td>\n",
       "      <td>318.0</td>\n",
       "      <td>Grand Rapids</td>\n",
       "      <td>Michigan                         USA</td>\n",
       "      <td>/beer/founders-backstage-series-2-cbs-canadian...</td>\n",
       "    </tr>\n",
       "    <tr>\n",
       "      <th>5584</th>\n",
       "      <td>Cigar City Brewing</td>\n",
       "      <td>4.30</td>\n",
       "      <td>Imperial Stout</td>\n",
       "      <td>11.00</td>\n",
       "      <td>330.0</td>\n",
       "      <td>Tampa</td>\n",
       "      <td>Florida                          USA</td>\n",
       "      <td>/beer/cigar-city-hunahpus-imperial-stout-stran...</td>\n",
       "    </tr>\n",
       "    <tr>\n",
       "      <th>5585</th>\n",
       "      <td>AleSmith Speedway Stout - Bourbon Barrel Aged:...</td>\n",
       "      <td>4.30</td>\n",
       "      <td>Imperial Stout</td>\n",
       "      <td>12.00</td>\n",
       "      <td>360.0</td>\n",
       "      <td>San Diego</td>\n",
       "      <td>California                       USA</td>\n",
       "      <td>/beer/alesmith-speedway-stout-bourbon-barrel-a...</td>\n",
       "    </tr>\n",
       "    <tr>\n",
       "      <th>5586</th>\n",
       "      <td>Goose Island Beer Company (AB-InBev)</td>\n",
       "      <td>4.30</td>\n",
       "      <td>Imperial Stout</td>\n",
       "      <td>13.90</td>\n",
       "      <td>417.0</td>\n",
       "      <td>Chicago</td>\n",
       "      <td>Illinois                         USA</td>\n",
       "      <td>/beer/goose-island-bourbon-county-stout-propri...</td>\n",
       "    </tr>\n",
       "    <tr>\n",
       "      <th>5587</th>\n",
       "      <td>AleSmith Speedway Stout</td>\n",
       "      <td>4.29</td>\n",
       "      <td>Imperial Stout</td>\n",
       "      <td>12.00</td>\n",
       "      <td>360.0</td>\n",
       "      <td>San Diego</td>\n",
       "      <td>California                       USA</td>\n",
       "      <td>/beer/alesmith-speedway-stout/14232/</td>\n",
       "    </tr>\n",
       "    <tr>\n",
       "      <th>5588</th>\n",
       "      <td>Cigar City Brewing</td>\n",
       "      <td>4.29</td>\n",
       "      <td>Imperial Stout</td>\n",
       "      <td>11.00</td>\n",
       "      <td>330.0</td>\n",
       "      <td>Tampa</td>\n",
       "      <td>Florida                          USA</td>\n",
       "      <td>/beer/cigar-city-final-push-imperial-stout/119...</td>\n",
       "    </tr>\n",
       "    <tr>\n",
       "      <th>5590</th>\n",
       "      <td>Hill Farmstead Ann</td>\n",
       "      <td>4.29</td>\n",
       "      <td>Saison</td>\n",
       "      <td>6.50</td>\n",
       "      <td>195.0</td>\n",
       "      <td>Greensboro</td>\n",
       "      <td>Vermont                          USA</td>\n",
       "      <td>/beer/hill-farmstead-ann/175070/</td>\n",
       "    </tr>\n",
       "    <tr>\n",
       "      <th>5592</th>\n",
       "      <td>Cigar City Hunahpu's Imperial Stout</td>\n",
       "      <td>4.29</td>\n",
       "      <td>Imperial Stout</td>\n",
       "      <td>11.00</td>\n",
       "      <td>330.0</td>\n",
       "      <td>Tampa</td>\n",
       "      <td>Florida                          USA</td>\n",
       "      <td>/beer/cigar-city-hunahpus-imperial-stout/97078/</td>\n",
       "    </tr>\n",
       "    <tr>\n",
       "      <th>5593</th>\n",
       "      <td>Midnight Sun Brewing Company</td>\n",
       "      <td>4.28</td>\n",
       "      <td>Barley Wine</td>\n",
       "      <td>11.60</td>\n",
       "      <td>348.0</td>\n",
       "      <td>Anchorage</td>\n",
       "      <td>Alaska                           USA</td>\n",
       "      <td>/beer/midnight-sun-m/48211/</td>\n",
       "    </tr>\n",
       "    <tr>\n",
       "      <th>5594</th>\n",
       "      <td>Founders KBS (Kentucky Breakfast Stout)</td>\n",
       "      <td>4.28</td>\n",
       "      <td>Imperial Stout</td>\n",
       "      <td>11.20</td>\n",
       "      <td>336.0</td>\n",
       "      <td>Grand Rapids</td>\n",
       "      <td>Michigan                         USA</td>\n",
       "      <td>/beer/founders-kbs-kentucky-breakfast-stout/40...</td>\n",
       "    </tr>\n",
       "    <tr>\n",
       "      <th>5595</th>\n",
       "      <td>Three Floyds Dark Lord Russian Imperial Stout</td>\n",
       "      <td>4.28</td>\n",
       "      <td>Imperial Stout</td>\n",
       "      <td>15.00</td>\n",
       "      <td>450.0</td>\n",
       "      <td>Munster</td>\n",
       "      <td>Indiana                          USA</td>\n",
       "      <td>/beer/three-floyds-dark-lord-russian-imperial-...</td>\n",
       "    </tr>\n",
       "    <tr>\n",
       "      <th>5596</th>\n",
       "      <td>Bell's Expedition Stout</td>\n",
       "      <td>4.27</td>\n",
       "      <td>Imperial Stout</td>\n",
       "      <td>10.50</td>\n",
       "      <td>315.0</td>\n",
       "      <td>Galesburg</td>\n",
       "      <td>Michigan                         USA</td>\n",
       "      <td>/beer/bells-expedition-stout/3214/</td>\n",
       "    </tr>\n",
       "    <tr>\n",
       "      <th>5597</th>\n",
       "      <td>Toppling Goliath</td>\n",
       "      <td>4.27</td>\n",
       "      <td>Imperial Stout</td>\n",
       "      <td>14.00</td>\n",
       "      <td>420.0</td>\n",
       "      <td>Decorah</td>\n",
       "      <td>Iowa                             USA</td>\n",
       "      <td>/beer/toppling-goliath-sr-71-blackbird-2015-bo...</td>\n",
       "    </tr>\n",
       "    <tr>\n",
       "      <th>5598</th>\n",
       "      <td>Russian River Pliny the Elder</td>\n",
       "      <td>4.27</td>\n",
       "      <td>Imperial IPA</td>\n",
       "      <td>8.00</td>\n",
       "      <td>240.0</td>\n",
       "      <td>Santa Rosa</td>\n",
       "      <td>California                       USA</td>\n",
       "      <td>/beer/russian-river-pliny-the-elder/8936/</td>\n",
       "    </tr>\n",
       "    <tr>\n",
       "      <th>5599</th>\n",
       "      <td>AleSmith Brewing Company</td>\n",
       "      <td>4.27</td>\n",
       "      <td>Imperial Stout</td>\n",
       "      <td>12.00</td>\n",
       "      <td>360.0</td>\n",
       "      <td>San Diego</td>\n",
       "      <td>California                       USA</td>\n",
       "      <td>/beer/alesmith-speedway-stout-bourbon-barrel-a...</td>\n",
       "    </tr>\n",
       "    <tr>\n",
       "      <th>5600</th>\n",
       "      <td>Cigar City Brewing</td>\n",
       "      <td>4.26</td>\n",
       "      <td>Imperial Stout</td>\n",
       "      <td>11.00</td>\n",
       "      <td>330.0</td>\n",
       "      <td>Tampa</td>\n",
       "      <td>Florida                          USA</td>\n",
       "      <td>/beer/cigar-city-hunahpus-imperial-stout-calif...</td>\n",
       "    </tr>\n",
       "    <tr>\n",
       "      <th>5601</th>\n",
       "      <td>Goose Island Bourbon County Stout</td>\n",
       "      <td>4.26</td>\n",
       "      <td>Imperial Stout</td>\n",
       "      <td>13.80</td>\n",
       "      <td>414.0</td>\n",
       "      <td>Chicago</td>\n",
       "      <td>Illinois                         USA</td>\n",
       "      <td>/beer/goose-island-bourbon-county-stout/8909/</td>\n",
       "    </tr>\n",
       "    <tr>\n",
       "      <th>5602</th>\n",
       "      <td>Port Brewing Company / The Lost Abbey</td>\n",
       "      <td>4.26</td>\n",
       "      <td>Sour/Wild Ale</td>\n",
       "      <td>7.50</td>\n",
       "      <td>225.0</td>\n",
       "      <td>San Marcos</td>\n",
       "      <td>California                       USA</td>\n",
       "      <td>/beer/lost-abbey-yellow-bus/80665/</td>\n",
       "    </tr>\n",
       "    <tr>\n",
       "      <th>5603</th>\n",
       "      <td>Perennial Abraxas - Barrel Aged</td>\n",
       "      <td>4.26</td>\n",
       "      <td>Imperial Stout</td>\n",
       "      <td>11.00</td>\n",
       "      <td>330.0</td>\n",
       "      <td>St. Louis</td>\n",
       "      <td>Missouri                         USA</td>\n",
       "      <td>/beer/perennial-abraxas-barrel-aged/191962/</td>\n",
       "    </tr>\n",
       "    <tr>\n",
       "      <th>5604</th>\n",
       "      <td>Funky Buddha Morning Wood</td>\n",
       "      <td>4.26</td>\n",
       "      <td>Imperial Porter</td>\n",
       "      <td>12.00</td>\n",
       "      <td>360.0</td>\n",
       "      <td>Oakland Park</td>\n",
       "      <td>Florida                          USA</td>\n",
       "      <td>/beer/funky-buddha-morning-wood/165389/</td>\n",
       "    </tr>\n",
       "    <tr>\n",
       "      <th>5605</th>\n",
       "      <td>Hair of the Dog Brewing Company</td>\n",
       "      <td>4.25</td>\n",
       "      <td>Barley Wine</td>\n",
       "      <td>29.00</td>\n",
       "      <td>870.0</td>\n",
       "      <td>Portland</td>\n",
       "      <td>Oregon                           USA</td>\n",
       "      <td>/beer/hair-of-the-dog-dave/23897/</td>\n",
       "    </tr>\n",
       "    <tr>\n",
       "      <th>5606</th>\n",
       "      <td>Dragoon Brewing Company</td>\n",
       "      <td>4.25</td>\n",
       "      <td>Barley Wine</td>\n",
       "      <td>13.25</td>\n",
       "      <td>398.0</td>\n",
       "      <td>Tucson</td>\n",
       "      <td>Arizona                          USA</td>\n",
       "      <td>/beer/dragoon-lazarus/310629/</td>\n",
       "    </tr>\n",
       "    <tr>\n",
       "      <th>5607</th>\n",
       "      <td>Cigar City Hunahpu's Imperial Stout - Bourbon ...</td>\n",
       "      <td>4.25</td>\n",
       "      <td>Imperial Stout</td>\n",
       "      <td>14.60</td>\n",
       "      <td>438.0</td>\n",
       "      <td>Tampa</td>\n",
       "      <td>Florida                          USA</td>\n",
       "      <td>/beer/cigar-city-hunahpus-imperial-stout-bourb...</td>\n",
       "    </tr>\n",
       "    <tr>\n",
       "      <th>5608</th>\n",
       "      <td>Port Brewing Company / The Lost Abbey</td>\n",
       "      <td>4.25</td>\n",
       "      <td>Lambic Style - Gueuze</td>\n",
       "      <td>7.00</td>\n",
       "      <td>210.0</td>\n",
       "      <td>San Marcos</td>\n",
       "      <td>California                       USA</td>\n",
       "      <td>/beer/lost-abbey-isabelle-proximus/86542/</td>\n",
       "    </tr>\n",
       "    <tr>\n",
       "      <th>5609</th>\n",
       "      <td>Goose Island Beer Company (AB-InBev)</td>\n",
       "      <td>4.25</td>\n",
       "      <td>Imperial Stout</td>\n",
       "      <td>14.10</td>\n",
       "      <td>423.0</td>\n",
       "      <td>Chicago</td>\n",
       "      <td>Illinois                         USA</td>\n",
       "      <td>/beer/goose-island-bourbon-county-stout-propri...</td>\n",
       "    </tr>\n",
       "    <tr>\n",
       "      <th>5610</th>\n",
       "      <td>Alchemist Heady Topper</td>\n",
       "      <td>4.24</td>\n",
       "      <td>Imperial IPA</td>\n",
       "      <td>8.00</td>\n",
       "      <td>240.0</td>\n",
       "      <td>Stowe</td>\n",
       "      <td>Vermont                          USA</td>\n",
       "      <td>/beer/alchemist-heady-topper/32329/</td>\n",
       "    </tr>\n",
       "    <tr>\n",
       "      <th>5611</th>\n",
       "      <td>Port Brewing Company / The Lost Abbey</td>\n",
       "      <td>4.24</td>\n",
       "      <td>Sour/Wild Ale</td>\n",
       "      <td>8.00</td>\n",
       "      <td>240.0</td>\n",
       "      <td>San Marcos</td>\n",
       "      <td>California                       USA</td>\n",
       "      <td>/beer/lost-abbey-veritas-004/95438/</td>\n",
       "    </tr>\n",
       "    <tr>\n",
       "      <th>5612</th>\n",
       "      <td>Side Project Brewing</td>\n",
       "      <td>4.24</td>\n",
       "      <td>Imperial Stout</td>\n",
       "      <td>15.00</td>\n",
       "      <td>450.0</td>\n",
       "      <td>Maplewood</td>\n",
       "      <td>Missouri                         USA</td>\n",
       "      <td>/beer/side-project-derivation-blend-2/338167/</td>\n",
       "    </tr>\n",
       "    <tr>\n",
       "      <th>5613</th>\n",
       "      <td>Goose Island Beer Company (AB-InBev)</td>\n",
       "      <td>4.24</td>\n",
       "      <td>Barley Wine</td>\n",
       "      <td>13.40</td>\n",
       "      <td>402.0</td>\n",
       "      <td>Chicago</td>\n",
       "      <td>Illinois                         USA</td>\n",
       "      <td>/beer/goose-island-king-henry/121397/</td>\n",
       "    </tr>\n",
       "    <tr>\n",
       "      <th>5614</th>\n",
       "      <td>Cigar City Brewing</td>\n",
       "      <td>4.24</td>\n",
       "      <td>Imperial Stout</td>\n",
       "      <td>11.00</td>\n",
       "      <td>330.0</td>\n",
       "      <td>Tampa</td>\n",
       "      <td>Florida                          USA</td>\n",
       "      <td>/beer/cigar-city-caffe-americano-double-stout-...</td>\n",
       "    </tr>\n",
       "    <tr>\n",
       "      <th>5615</th>\n",
       "      <td>Goose Island Bourbon County Stout - Coffee</td>\n",
       "      <td>4.23</td>\n",
       "      <td>Imperial Stout</td>\n",
       "      <td>13.40</td>\n",
       "      <td>402.0</td>\n",
       "      <td>Chicago</td>\n",
       "      <td>Illinois                         USA</td>\n",
       "      <td>/beer/goose-island-bourbon-county-stout-coffee...</td>\n",
       "    </tr>\n",
       "    <tr>\n",
       "      <th>5617</th>\n",
       "      <td>Three Floyds Dreadnaught Imperial IPA</td>\n",
       "      <td>4.23</td>\n",
       "      <td>Imperial IPA</td>\n",
       "      <td>9.50</td>\n",
       "      <td>285.0</td>\n",
       "      <td>Munster</td>\n",
       "      <td>Indiana                          USA</td>\n",
       "      <td>/beer/three-floyds-dreadnaught-imperial-ipa/8933/</td>\n",
       "    </tr>\n",
       "    <tr>\n",
       "      <th>5618</th>\n",
       "      <td>Toppling Goliath Assassin</td>\n",
       "      <td>4.23</td>\n",
       "      <td>Imperial Stout</td>\n",
       "      <td>12.80</td>\n",
       "      <td>384.0</td>\n",
       "      <td>Decorah</td>\n",
       "      <td>Iowa                             USA</td>\n",
       "      <td>/beer/toppling-goliath-assassin/163168/</td>\n",
       "    </tr>\n",
       "    <tr>\n",
       "      <th>5619</th>\n",
       "      <td>Prairie / Evil Twin Bible Belt - Barrel Aged</td>\n",
       "      <td>4.22</td>\n",
       "      <td>Imperial Stout</td>\n",
       "      <td>13.00</td>\n",
       "      <td>390.0</td>\n",
       "      <td>Tulsa</td>\n",
       "      <td>Oklahoma                         USA</td>\n",
       "      <td>/beer/prairie-evil-twin-bible-belt-barrel-aged...</td>\n",
       "    </tr>\n",
       "  </tbody>\n",
       "</table>\n",
       "</div>"
      ],
      "text/plain": [
       "                                                   name  score  \\\n",
       "5570                   Toppling Goliath Kentucky Brunch   4.53   \n",
       "5572               Goose Island Beer Company (AB-InBev)   4.41   \n",
       "5573                   Toppling Goliath Mornin' Delight   4.40   \n",
       "5574  Cigar City Hunahpu's Imperial Stout - Double B...   4.40   \n",
       "5575                         New Glarus Brewing Company   4.36   \n",
       "5576  Three Floyds Dark Lord Russian Imperial Stout ...   4.35   \n",
       "5577                    Russian River Pliny the Younger   4.35   \n",
       "5578      AleSmith Speedway Stout - Bourbon Barrel Aged   4.33   \n",
       "5579  Three Floyds Dark Lord Russian Imperial Stout ...   4.33   \n",
       "5580                                 Cigar City Brewing   4.32   \n",
       "5581                            Bell's Black Note Stout   4.31   \n",
       "5582                                 Cigar City Brewing   4.31   \n",
       "5583                           Founders Brewing Company   4.31   \n",
       "5584                                 Cigar City Brewing   4.30   \n",
       "5585  AleSmith Speedway Stout - Bourbon Barrel Aged:...   4.30   \n",
       "5586               Goose Island Beer Company (AB-InBev)   4.30   \n",
       "5587                            AleSmith Speedway Stout   4.29   \n",
       "5588                                 Cigar City Brewing   4.29   \n",
       "5590                                 Hill Farmstead Ann   4.29   \n",
       "5592                Cigar City Hunahpu's Imperial Stout   4.29   \n",
       "5593                       Midnight Sun Brewing Company   4.28   \n",
       "5594            Founders KBS (Kentucky Breakfast Stout)   4.28   \n",
       "5595      Three Floyds Dark Lord Russian Imperial Stout   4.28   \n",
       "5596                            Bell's Expedition Stout   4.27   \n",
       "5597                                   Toppling Goliath   4.27   \n",
       "5598                      Russian River Pliny the Elder   4.27   \n",
       "5599                           AleSmith Brewing Company   4.27   \n",
       "5600                                 Cigar City Brewing   4.26   \n",
       "5601                  Goose Island Bourbon County Stout   4.26   \n",
       "5602              Port Brewing Company / The Lost Abbey   4.26   \n",
       "5603                    Perennial Abraxas - Barrel Aged   4.26   \n",
       "5604                          Funky Buddha Morning Wood   4.26   \n",
       "5605                    Hair of the Dog Brewing Company   4.25   \n",
       "5606                            Dragoon Brewing Company   4.25   \n",
       "5607  Cigar City Hunahpu's Imperial Stout - Bourbon ...   4.25   \n",
       "5608              Port Brewing Company / The Lost Abbey   4.25   \n",
       "5609               Goose Island Beer Company (AB-InBev)   4.25   \n",
       "5610                             Alchemist Heady Topper   4.24   \n",
       "5611              Port Brewing Company / The Lost Abbey   4.24   \n",
       "5612                               Side Project Brewing   4.24   \n",
       "5613               Goose Island Beer Company (AB-InBev)   4.24   \n",
       "5614                                 Cigar City Brewing   4.24   \n",
       "5615         Goose Island Bourbon County Stout - Coffee   4.23   \n",
       "5617              Three Floyds Dreadnaught Imperial IPA   4.23   \n",
       "5618                          Toppling Goliath Assassin   4.23   \n",
       "5619       Prairie / Evil Twin Bible Belt - Barrel Aged   4.22   \n",
       "\n",
       "                 beer style    abv    cal          city  \\\n",
       "5570         Imperial Stout  12.00  360.0       Decorah   \n",
       "5572         Imperial Stout  13.00  390.0       Chicago   \n",
       "5573         Imperial Stout  12.00  360.0       Decorah   \n",
       "5574         Imperial Stout  11.00  330.0         Tampa   \n",
       "5575          Sour/Wild Ale   5.00  150.0    New Glarus   \n",
       "5576         Imperial Stout  15.00  450.0       Munster   \n",
       "5577           Imperial IPA  11.00  330.0    Santa Rosa   \n",
       "5578         Imperial Stout  12.00  360.0     San Diego   \n",
       "5579         Imperial Stout  14.00  420.0       Munster   \n",
       "5580        Berliner Weisse   4.50  135.0         Tampa   \n",
       "5581         Imperial Stout  10.80  324.0     Galesburg   \n",
       "5582         Imperial Stout  11.00  330.0         Tampa   \n",
       "5583         Imperial Stout  10.60  318.0  Grand Rapids   \n",
       "5584         Imperial Stout  11.00  330.0         Tampa   \n",
       "5585         Imperial Stout  12.00  360.0     San Diego   \n",
       "5586         Imperial Stout  13.90  417.0       Chicago   \n",
       "5587         Imperial Stout  12.00  360.0     San Diego   \n",
       "5588         Imperial Stout  11.00  330.0         Tampa   \n",
       "5590                 Saison   6.50  195.0    Greensboro   \n",
       "5592         Imperial Stout  11.00  330.0         Tampa   \n",
       "5593            Barley Wine  11.60  348.0     Anchorage   \n",
       "5594         Imperial Stout  11.20  336.0  Grand Rapids   \n",
       "5595         Imperial Stout  15.00  450.0       Munster   \n",
       "5596         Imperial Stout  10.50  315.0     Galesburg   \n",
       "5597         Imperial Stout  14.00  420.0       Decorah   \n",
       "5598           Imperial IPA   8.00  240.0    Santa Rosa   \n",
       "5599         Imperial Stout  12.00  360.0     San Diego   \n",
       "5600         Imperial Stout  11.00  330.0         Tampa   \n",
       "5601         Imperial Stout  13.80  414.0       Chicago   \n",
       "5602          Sour/Wild Ale   7.50  225.0    San Marcos   \n",
       "5603         Imperial Stout  11.00  330.0     St. Louis   \n",
       "5604        Imperial Porter  12.00  360.0  Oakland Park   \n",
       "5605            Barley Wine  29.00  870.0      Portland   \n",
       "5606            Barley Wine  13.25  398.0        Tucson   \n",
       "5607         Imperial Stout  14.60  438.0         Tampa   \n",
       "5608  Lambic Style - Gueuze   7.00  210.0    San Marcos   \n",
       "5609         Imperial Stout  14.10  423.0       Chicago   \n",
       "5610           Imperial IPA   8.00  240.0         Stowe   \n",
       "5611          Sour/Wild Ale   8.00  240.0    San Marcos   \n",
       "5612         Imperial Stout  15.00  450.0     Maplewood   \n",
       "5613            Barley Wine  13.40  402.0       Chicago   \n",
       "5614         Imperial Stout  11.00  330.0         Tampa   \n",
       "5615         Imperial Stout  13.40  402.0       Chicago   \n",
       "5617           Imperial IPA   9.50  285.0       Munster   \n",
       "5618         Imperial Stout  12.80  384.0       Decorah   \n",
       "5619         Imperial Stout  13.00  390.0         Tulsa   \n",
       "\n",
       "                                   country  \\\n",
       "5570  Iowa                             USA   \n",
       "5572  Illinois                         USA   \n",
       "5573  Iowa                             USA   \n",
       "5574  Florida                          USA   \n",
       "5575  Wisconsin                        USA   \n",
       "5576  Indiana                          USA   \n",
       "5577  California                       USA   \n",
       "5578  California                       USA   \n",
       "5579  Indiana                          USA   \n",
       "5580  Florida                          USA   \n",
       "5581  Michigan                         USA   \n",
       "5582  Florida                          USA   \n",
       "5583  Michigan                         USA   \n",
       "5584  Florida                          USA   \n",
       "5585  California                       USA   \n",
       "5586  Illinois                         USA   \n",
       "5587  California                       USA   \n",
       "5588  Florida                          USA   \n",
       "5590  Vermont                          USA   \n",
       "5592  Florida                          USA   \n",
       "5593  Alaska                           USA   \n",
       "5594  Michigan                         USA   \n",
       "5595  Indiana                          USA   \n",
       "5596  Michigan                         USA   \n",
       "5597  Iowa                             USA   \n",
       "5598  California                       USA   \n",
       "5599  California                       USA   \n",
       "5600  Florida                          USA   \n",
       "5601  Illinois                         USA   \n",
       "5602  California                       USA   \n",
       "5603  Missouri                         USA   \n",
       "5604  Florida                          USA   \n",
       "5605  Oregon                           USA   \n",
       "5606  Arizona                          USA   \n",
       "5607  Florida                          USA   \n",
       "5608  California                       USA   \n",
       "5609  Illinois                         USA   \n",
       "5610  Vermont                          USA   \n",
       "5611  California                       USA   \n",
       "5612  Missouri                         USA   \n",
       "5613  Illinois                         USA   \n",
       "5614  Florida                          USA   \n",
       "5615  Illinois                         USA   \n",
       "5617  Indiana                          USA   \n",
       "5618  Iowa                             USA   \n",
       "5619  Oklahoma                         USA   \n",
       "\n",
       "                                                   link  \n",
       "5570     /beer/toppling-goliath-kentucky-brunch/166019/  \n",
       "5572  /beer/goose-island-bourbon-county-stout-rare-2...  \n",
       "5573      /beer/toppling-goliath-mornin-delight/151817/  \n",
       "5574  /beer/cigar-city-hunahpus-imperial-stout-doubl...  \n",
       "5575  /beer/new-glarus-r-d-sour-fruit-wild-blackberr...  \n",
       "5576  /beer/three-floyds-dark-lord-russian-imperial-...  \n",
       "5577       /beer/russian-river-pliny-the-younger/43181/  \n",
       "5578  /beer/alesmith-speedway-stout-bourbon-barrel-a...  \n",
       "5579  /beer/three-floyds-dark-lord-russian-imperial-...  \n",
       "5580  /beer/cigar-city-pilot-series-miami-madness/16...  \n",
       "5581                /beer/bells-black-note-stout/71826/  \n",
       "5582  /beer/cigar-city-hunahpus-imperial-stout-apple...  \n",
       "5583  /beer/founders-backstage-series-2-cbs-canadian...  \n",
       "5584  /beer/cigar-city-hunahpus-imperial-stout-stran...  \n",
       "5585  /beer/alesmith-speedway-stout-bourbon-barrel-a...  \n",
       "5586  /beer/goose-island-bourbon-county-stout-propri...  \n",
       "5587               /beer/alesmith-speedway-stout/14232/  \n",
       "5588  /beer/cigar-city-final-push-imperial-stout/119...  \n",
       "5590                   /beer/hill-farmstead-ann/175070/  \n",
       "5592    /beer/cigar-city-hunahpus-imperial-stout/97078/  \n",
       "5593                        /beer/midnight-sun-m/48211/  \n",
       "5594  /beer/founders-kbs-kentucky-breakfast-stout/40...  \n",
       "5595  /beer/three-floyds-dark-lord-russian-imperial-...  \n",
       "5596                 /beer/bells-expedition-stout/3214/  \n",
       "5597  /beer/toppling-goliath-sr-71-blackbird-2015-bo...  \n",
       "5598          /beer/russian-river-pliny-the-elder/8936/  \n",
       "5599  /beer/alesmith-speedway-stout-bourbon-barrel-a...  \n",
       "5600  /beer/cigar-city-hunahpus-imperial-stout-calif...  \n",
       "5601      /beer/goose-island-bourbon-county-stout/8909/  \n",
       "5602                 /beer/lost-abbey-yellow-bus/80665/  \n",
       "5603        /beer/perennial-abraxas-barrel-aged/191962/  \n",
       "5604            /beer/funky-buddha-morning-wood/165389/  \n",
       "5605                  /beer/hair-of-the-dog-dave/23897/  \n",
       "5606                      /beer/dragoon-lazarus/310629/  \n",
       "5607  /beer/cigar-city-hunahpus-imperial-stout-bourb...  \n",
       "5608          /beer/lost-abbey-isabelle-proximus/86542/  \n",
       "5609  /beer/goose-island-bourbon-county-stout-propri...  \n",
       "5610                /beer/alchemist-heady-topper/32329/  \n",
       "5611                /beer/lost-abbey-veritas-004/95438/  \n",
       "5612      /beer/side-project-derivation-blend-2/338167/  \n",
       "5613              /beer/goose-island-king-henry/121397/  \n",
       "5614  /beer/cigar-city-caffe-americano-double-stout-...  \n",
       "5615  /beer/goose-island-bourbon-county-stout-coffee...  \n",
       "5617  /beer/three-floyds-dreadnaught-imperial-ipa/8933/  \n",
       "5618            /beer/toppling-goliath-assassin/163168/  \n",
       "5619  /beer/prairie-evil-twin-bible-belt-barrel-aged...  "
      ]
     },
     "execution_count": 244,
     "metadata": {},
     "output_type": "execute_result"
    }
   ],
   "source": [
    "df[df.country.str.contains('USA')]"
   ]
  },
  {
   "cell_type": "markdown",
   "metadata": {},
   "source": [
    "## Test / Draft (don't need to run)"
   ]
  },
  {
   "cell_type": "code",
   "execution_count": 51,
   "metadata": {
    "collapsed": false
   },
   "outputs": [],
   "source": [
    "with requests.session() as a:\n",
    "    response = s.get('https://www.ratebeer.com/beer/svejk-dark/220898/')\n",
    "    soup = BeautifulSoup(response.text, \"html.parser\")"
   ]
  },
  {
   "cell_type": "code",
   "execution_count": 52,
   "metadata": {
    "collapsed": false
   },
   "outputs": [
    {
     "data": {
      "text/plain": [
       "'Dunkel/Tmavý'"
      ]
     },
     "execution_count": 52,
     "metadata": {},
     "output_type": "execute_result"
    }
   ],
   "source": [
    "soup.select(\"a[href*=beerstyles]\")[-1].text"
   ]
  },
  {
   "cell_type": "code",
   "execution_count": 54,
   "metadata": {
    "collapsed": false
   },
   "outputs": [
    {
     "data": {
      "text/plain": [
       "True"
      ]
     },
     "execution_count": 54,
     "metadata": {},
     "output_type": "execute_result"
    }
   ],
   "source": [
    "soup.find('abbr', attrs={'title': \"Estimated calories for a 12 fluid ounce serving\"}) is None"
   ]
  },
  {
   "cell_type": "code",
   "execution_count": 371,
   "metadata": {
    "collapsed": false
   },
   "outputs": [
    {
     "data": {
      "text/plain": [
       "<br>Sukhum, Abkhazia                        </br>"
      ]
     },
     "execution_count": 371,
     "metadata": {},
     "output_type": "execute_result"
    }
   ],
   "source": [
    "soup.find_all('div', attrs={'style':'padding-bottom: 7px; line-height: 1.5;'})[0].find_all('br')[-1]"
   ]
  },
  {
   "cell_type": "code",
   "execution_count": 367,
   "metadata": {
    "collapsed": false
   },
   "outputs": [
    {
     "data": {
      "text/plain": [
       "'Andorra La Vella, Andorra                         '"
      ]
     },
     "execution_count": 367,
     "metadata": {},
     "output_type": "execute_result"
    }
   ],
   "source": [
    "soup.find_all('div', attrs={'style':'padding-bottom: 7px; line-height: 1.5;'})[0].find_all('br')[-1].text"
   ]
  },
  {
   "cell_type": "code",
   "execution_count": 291,
   "metadata": {
    "collapsed": false
   },
   "outputs": [
    {
     "data": {
      "text/plain": [
       "<big style=\"color: #777;\">108</big>"
      ]
     },
     "execution_count": 291,
     "metadata": {},
     "output_type": "execute_result"
    }
   ],
   "source": [
    "soup.find_all('big', attrs={'style':'color: #777;'})[-2]"
   ]
  },
  {
   "cell_type": "code",
   "execution_count": null,
   "metadata": {
    "collapsed": true
   },
   "outputs": [],
   "source": [
    "abv = soup.find_all('big')[5].text.split('%')[0]\n",
    "cal = soup.find_all('big')[4].text\n",
    "loc = [l.strip() for l in soup.find('div', attrs={'class':'description-box'}).find('br').find('br').text.strip().split(',')[:-1]]\n",
    "country = soup.find('div', attrs={'class':'description-box'}).find('br').find('br').text.strip().split(',')[-1].strip()"
   ]
  },
  {
   "cell_type": "code",
   "execution_count": 173,
   "metadata": {
    "collapsed": false
   },
   "outputs": [],
   "source": [
    "cal = soup.find_all('big')[4].text #150"
   ]
  },
  {
   "cell_type": "code",
   "execution_count": 186,
   "metadata": {
    "collapsed": false
   },
   "outputs": [
    {
     "data": {
      "text/plain": [
       "['Durrës', ' Albania']"
      ]
     },
     "execution_count": 186,
     "metadata": {},
     "output_type": "execute_result"
    }
   ],
   "source": [
    "soup.find('div', attrs={'class':'description-box'}).find('br').find('br').text.strip().split(',')"
   ]
  },
  {
   "cell_type": "code",
   "execution_count": null,
   "metadata": {
    "collapsed": true
   },
   "outputs": [],
   "source": [
    "loc = soup.find('div', attrs={'class':'description-box'}).find('br').find('br').text.strip().split(',')[0]\n",
    "country = soup.find('div', attrs={'class':'description-box'}).find('br').find('br').text.strip().split(',')[1].strip()"
   ]
  }
 ],
 "metadata": {
  "anaconda-cloud": {},
  "kernelspec": {
   "display_name": "Python [conda env:ada]",
   "language": "python",
   "name": "conda-env-ada-py"
  },
  "language_info": {
   "codemirror_mode": {
    "name": "ipython",
    "version": 3
   },
   "file_extension": ".py",
   "mimetype": "text/x-python",
   "name": "python",
   "nbconvert_exporter": "python",
   "pygments_lexer": "ipython3",
   "version": "3.5.2"
  },
  "widgets": {
   "state": {
    "dbe4b28c93b04119a6b38ef79e777713": {
     "views": [
      {
       "cell_index": 16
      }
     ]
    }
   },
   "version": "1.2.0"
  }
 },
 "nbformat": 4,
 "nbformat_minor": 2
}
