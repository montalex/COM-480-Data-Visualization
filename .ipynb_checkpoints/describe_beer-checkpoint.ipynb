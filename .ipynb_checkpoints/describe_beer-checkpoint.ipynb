{
 "cells": [
  {
   "cell_type": "markdown",
   "metadata": {},
   "source": [
    "# Get description of beer"
   ]
  },
  {
   "cell_type": "code",
   "execution_count": 1,
   "metadata": {
    "collapsed": false
   },
   "outputs": [],
   "source": [
    "import pandas as pd\n",
    "import numpy as np\n",
    "import re\n",
    "from ast import literal_eval\n",
    "import seaborn as sns\n",
    "import matplotlib.pyplot as plt \n",
    "%matplotlib inline"
   ]
  },
  {
   "cell_type": "code",
   "execution_count": 2,
   "metadata": {
    "collapsed": false
   },
   "outputs": [
    {
     "data": {
      "text/html": [
       "<div>\n",
       "<style>\n",
       "    .dataframe thead tr:only-child th {\n",
       "        text-align: right;\n",
       "    }\n",
       "\n",
       "    .dataframe thead th {\n",
       "        text-align: left;\n",
       "    }\n",
       "\n",
       "    .dataframe tbody tr th {\n",
       "        vertical-align: top;\n",
       "    }\n",
       "</style>\n",
       "<table border=\"1\" class=\"dataframe\">\n",
       "  <thead>\n",
       "    <tr style=\"text-align: right;\">\n",
       "      <th></th>\n",
       "      <th>name</th>\n",
       "      <th>id</th>\n",
       "      <th>most_freq</th>\n",
       "    </tr>\n",
       "  </thead>\n",
       "  <tbody>\n",
       "    <tr>\n",
       "      <th>0</th>\n",
       "      <td>Ivanych Zhivoe Svetloe</td>\n",
       "      <td>301247</td>\n",
       "      <td>[(bread, 2), (malty, 2), (clear, 2), (sweet, 2...</td>\n",
       "    </tr>\n",
       "    <tr>\n",
       "      <th>1</th>\n",
       "      <td>Stara Praha Oldenburg Tiemnoye</td>\n",
       "      <td>334787</td>\n",
       "      <td>[(fruity, 2), (dark, 1), (lemon, 1), (brown, 1...</td>\n",
       "    </tr>\n",
       "    <tr>\n",
       "      <th>2</th>\n",
       "      <td>Stara Praha Oldenburg Svetloe</td>\n",
       "      <td>334785</td>\n",
       "      <td>[(tart, 2), (hazy, 1), (lemon, 1), (grass, 1)]</td>\n",
       "    </tr>\n",
       "    <tr>\n",
       "      <th>3</th>\n",
       "      <td>Stara Praha Oldenburg Jantarnoye</td>\n",
       "      <td>334786</td>\n",
       "      <td>[(clear, 1), (lemon, 1), (light, 1), (spritzy,...</td>\n",
       "    </tr>\n",
       "    <tr>\n",
       "      <th>4</th>\n",
       "      <td>Assir Lager (Svetloe)</td>\n",
       "      <td>191169</td>\n",
       "      <td>[(clear, 1), (sweet, 1)]</td>\n",
       "    </tr>\n",
       "  </tbody>\n",
       "</table>\n",
       "</div>"
      ],
      "text/plain": [
       "                               name      id  \\\n",
       "0            Ivanych Zhivoe Svetloe  301247   \n",
       "1    Stara Praha Oldenburg Tiemnoye  334787   \n",
       "2     Stara Praha Oldenburg Svetloe  334785   \n",
       "3  Stara Praha Oldenburg Jantarnoye  334786   \n",
       "4             Assir Lager (Svetloe)  191169   \n",
       "\n",
       "                                           most_freq  \n",
       "0  [(bread, 2), (malty, 2), (clear, 2), (sweet, 2...  \n",
       "1  [(fruity, 2), (dark, 1), (lemon, 1), (brown, 1...  \n",
       "2     [(tart, 2), (hazy, 1), (lemon, 1), (grass, 1)]  \n",
       "3  [(clear, 1), (lemon, 1), (light, 1), (spritzy,...  \n",
       "4                           [(clear, 1), (sweet, 1)]  "
      ]
     },
     "execution_count": 2,
     "metadata": {},
     "output_type": "execute_result"
    }
   ],
   "source": [
    "df_freq = pd.read_csv('freq_desc_words.csv').drop('Unnamed: 0', axis=1)\n",
    "df_freq.most_freq = df_freq.most_freq.apply(literal_eval)\n",
    "df_freq.head()"
   ]
  },
  {
   "cell_type": "code",
   "execution_count": 3,
   "metadata": {
    "collapsed": false
   },
   "outputs": [
    {
     "data": {
      "text/html": [
       "<div>\n",
       "<style>\n",
       "    .dataframe thead tr:only-child th {\n",
       "        text-align: right;\n",
       "    }\n",
       "\n",
       "    .dataframe thead th {\n",
       "        text-align: left;\n",
       "    }\n",
       "\n",
       "    .dataframe tbody tr th {\n",
       "        vertical-align: top;\n",
       "    }\n",
       "</style>\n",
       "<table border=\"1\" class=\"dataframe\">\n",
       "  <thead>\n",
       "    <tr style=\"text-align: right;\">\n",
       "      <th></th>\n",
       "      <th></th>\n",
       "      <th>description</th>\n",
       "    </tr>\n",
       "    <tr>\n",
       "      <th>sens</th>\n",
       "      <th>types</th>\n",
       "      <th></th>\n",
       "    </tr>\n",
       "  </thead>\n",
       "  <tbody>\n",
       "    <tr>\n",
       "      <th rowspan=\"3\" valign=\"top\">taste</th>\n",
       "      <th>finish</th>\n",
       "      <td>dry fruity sweet alcoholic warming bitter acid...</td>\n",
       "    </tr>\n",
       "    <tr>\n",
       "      <th>intensity</th>\n",
       "      <td>assertive mild bold balanced robust intense me...</td>\n",
       "    </tr>\n",
       "    <tr>\n",
       "      <th>notes</th>\n",
       "      <td>roasted bready bitter sweet spicy fruity choco...</td>\n",
       "    </tr>\n",
       "    <tr>\n",
       "      <th rowspan=\"3\" valign=\"top\">sight</th>\n",
       "      <th>clarity</th>\n",
       "      <td>brilliant hazy cloudy turbid opaque clear crys...</td>\n",
       "    </tr>\n",
       "    <tr>\n",
       "      <th>color</th>\n",
       "      <td>honey caramel russet red brown root beer amber...</td>\n",
       "    </tr>\n",
       "    <tr>\n",
       "      <th>head</th>\n",
       "      <td>persistent rocky large fluffy dissipating ling...</td>\n",
       "    </tr>\n",
       "    <tr>\n",
       "      <th rowspan=\"6\" valign=\"top\">smell</th>\n",
       "      <th>acidic</th>\n",
       "      <td>metallic vinegar copper cidery champagne-like ...</td>\n",
       "    </tr>\n",
       "    <tr>\n",
       "      <th>citrus</th>\n",
       "      <td>lemon lime orange tangerine clementine grapefr...</td>\n",
       "    </tr>\n",
       "    <tr>\n",
       "      <th>dark_fruit</th>\n",
       "      <td>aisins currant plum dates prunes figs blackber...</td>\n",
       "    </tr>\n",
       "    <tr>\n",
       "      <th>light_fruit</th>\n",
       "      <td>banana pineapple apricot pear apple nectarine ...</td>\n",
       "    </tr>\n",
       "    <tr>\n",
       "      <th>notes</th>\n",
       "      <td>malty grainy sweet corn-like hay straw graham ...</td>\n",
       "    </tr>\n",
       "    <tr>\n",
       "      <th>spices_yeast</th>\n",
       "      <td>phenolic white pepper clove anise licorice smo...</td>\n",
       "    </tr>\n",
       "    <tr>\n",
       "      <th rowspan=\"3\" valign=\"top\">touchfeel</th>\n",
       "      <th>body</th>\n",
       "      <td>full heavy dense viscous robust medium balance...</td>\n",
       "    </tr>\n",
       "    <tr>\n",
       "      <th>carbonation</th>\n",
       "      <td>spritzy champagne-like prickly round creamy li...</td>\n",
       "    </tr>\n",
       "    <tr>\n",
       "      <th>mouthfeel</th>\n",
       "      <td>smooth silky velvety prickly tingly creamy war...</td>\n",
       "    </tr>\n",
       "  </tbody>\n",
       "</table>\n",
       "</div>"
      ],
      "text/plain": [
       "                                                              description\n",
       "sens      types                                                          \n",
       "taste     finish        dry fruity sweet alcoholic warming bitter acid...\n",
       "          intensity     assertive mild bold balanced robust intense me...\n",
       "          notes         roasted bready bitter sweet spicy fruity choco...\n",
       "sight     clarity       brilliant hazy cloudy turbid opaque clear crys...\n",
       "          color         honey caramel russet red brown root beer amber...\n",
       "          head          persistent rocky large fluffy dissipating ling...\n",
       "smell     acidic        metallic vinegar copper cidery champagne-like ...\n",
       "          citrus        lemon lime orange tangerine clementine grapefr...\n",
       "          dark_fruit    aisins currant plum dates prunes figs blackber...\n",
       "          light_fruit   banana pineapple apricot pear apple nectarine ...\n",
       "          notes         malty grainy sweet corn-like hay straw graham ...\n",
       "          spices_yeast  phenolic white pepper clove anise licorice smo...\n",
       "touchfeel body          full heavy dense viscous robust medium balance...\n",
       "          carbonation   spritzy champagne-like prickly round creamy li...\n",
       "          mouthfeel     smooth silky velvety prickly tingly creamy war..."
      ]
     },
     "execution_count": 3,
     "metadata": {},
     "output_type": "execute_result"
    }
   ],
   "source": [
    "df_dict = pd.read_csv('beer_desc_vocab_clean.csv').set_index(['sens','types'])\n",
    "df_dict"
   ]
  },
  {
   "cell_type": "code",
   "execution_count": 4,
   "metadata": {
    "collapsed": true
   },
   "outputs": [],
   "source": [
    "def get_flavour_desc(word):\n",
    "    lst_fl = df_dict[df_dict.apply(lambda x: word in x['description'], axis=1)].stack().index.tolist()\n",
    "    fl_desc = [fl[0:2] for fl in lst_fl]\n",
    "    return fl_desc"
   ]
  },
  {
   "cell_type": "code",
   "execution_count": 36,
   "metadata": {
    "collapsed": false
   },
   "outputs": [],
   "source": [
    "test_mc0 = df_freq.most_freq[360]"
   ]
  },
  {
   "cell_type": "code",
   "execution_count": 37,
   "metadata": {
    "collapsed": false
   },
   "outputs": [],
   "source": [
    "test_mc0_name = df_freq.name[360]"
   ]
  },
  {
   "cell_type": "code",
   "execution_count": 38,
   "metadata": {
    "collapsed": false
   },
   "outputs": [],
   "source": [
    "lst_sens = []\n",
    "lst_types = []\n",
    "lst_desc = []\n",
    "lst_num = []\n",
    "for mc in test_mc0:\n",
    "    desc = get_flavour_desc(mc[0])\n",
    "    for d in desc:\n",
    "        lst_sens.append(d[0])\n",
    "        lst_types.append(d[1])\n",
    "        lst_desc.append(mc[0])\n",
    "        lst_num.append(mc[1])"
   ]
  },
  {
   "cell_type": "code",
   "execution_count": 39,
   "metadata": {
    "collapsed": false
   },
   "outputs": [],
   "source": [
    "df_beer_desc = pd.DataFrame({'sens': lst_sens, 'types': lst_types, 'desc': lst_desc, 'score':lst_num})"
   ]
  },
  {
   "cell_type": "code",
   "execution_count": 40,
   "metadata": {
    "collapsed": false
   },
   "outputs": [
    {
     "data": {
      "text/html": [
       "<div>\n",
       "<style>\n",
       "    .dataframe thead tr:only-child th {\n",
       "        text-align: right;\n",
       "    }\n",
       "\n",
       "    .dataframe thead th {\n",
       "        text-align: left;\n",
       "    }\n",
       "\n",
       "    .dataframe tbody tr th {\n",
       "        vertical-align: top;\n",
       "    }\n",
       "</style>\n",
       "<table border=\"1\" class=\"dataframe\">\n",
       "  <thead>\n",
       "    <tr style=\"text-align: right;\">\n",
       "      <th></th>\n",
       "      <th>desc</th>\n",
       "      <th>score</th>\n",
       "      <th>sens</th>\n",
       "      <th>types</th>\n",
       "    </tr>\n",
       "  </thead>\n",
       "  <tbody>\n",
       "    <tr>\n",
       "      <th>2</th>\n",
       "      <td>hazy</td>\n",
       "      <td>3</td>\n",
       "      <td>sight</td>\n",
       "      <td>clarity</td>\n",
       "    </tr>\n",
       "    <tr>\n",
       "      <th>3</th>\n",
       "      <td>dark</td>\n",
       "      <td>3</td>\n",
       "      <td>sight</td>\n",
       "      <td>color</td>\n",
       "    </tr>\n",
       "    <tr>\n",
       "      <th>4</th>\n",
       "      <td>brown</td>\n",
       "      <td>3</td>\n",
       "      <td>sight</td>\n",
       "      <td>color</td>\n",
       "    </tr>\n",
       "    <tr>\n",
       "      <th>8</th>\n",
       "      <td>caramel</td>\n",
       "      <td>3</td>\n",
       "      <td>sight</td>\n",
       "      <td>color</td>\n",
       "    </tr>\n",
       "    <tr>\n",
       "      <th>10</th>\n",
       "      <td>amber</td>\n",
       "      <td>3</td>\n",
       "      <td>sight</td>\n",
       "      <td>color</td>\n",
       "    </tr>\n",
       "    <tr>\n",
       "      <th>13</th>\n",
       "      <td>white</td>\n",
       "      <td>2</td>\n",
       "      <td>sight</td>\n",
       "      <td>head</td>\n",
       "    </tr>\n",
       "    <tr>\n",
       "      <th>9</th>\n",
       "      <td>caramel</td>\n",
       "      <td>3</td>\n",
       "      <td>smell</td>\n",
       "      <td>notes</td>\n",
       "    </tr>\n",
       "    <tr>\n",
       "      <th>14</th>\n",
       "      <td>white</td>\n",
       "      <td>2</td>\n",
       "      <td>smell</td>\n",
       "      <td>spices_yeast</td>\n",
       "    </tr>\n",
       "    <tr>\n",
       "      <th>0</th>\n",
       "      <td>bitter</td>\n",
       "      <td>4</td>\n",
       "      <td>taste</td>\n",
       "      <td>finish</td>\n",
       "    </tr>\n",
       "    <tr>\n",
       "      <th>1</th>\n",
       "      <td>bitter</td>\n",
       "      <td>4</td>\n",
       "      <td>taste</td>\n",
       "      <td>notes</td>\n",
       "    </tr>\n",
       "    <tr>\n",
       "      <th>7</th>\n",
       "      <td>caramel</td>\n",
       "      <td>3</td>\n",
       "      <td>taste</td>\n",
       "      <td>notes</td>\n",
       "    </tr>\n",
       "    <tr>\n",
       "      <th>11</th>\n",
       "      <td>light</td>\n",
       "      <td>2</td>\n",
       "      <td>touchfeel</td>\n",
       "      <td>body</td>\n",
       "    </tr>\n",
       "    <tr>\n",
       "      <th>5</th>\n",
       "      <td>creamy</td>\n",
       "      <td>3</td>\n",
       "      <td>touchfeel</td>\n",
       "      <td>carbonation</td>\n",
       "    </tr>\n",
       "    <tr>\n",
       "      <th>12</th>\n",
       "      <td>light</td>\n",
       "      <td>2</td>\n",
       "      <td>touchfeel</td>\n",
       "      <td>carbonation</td>\n",
       "    </tr>\n",
       "    <tr>\n",
       "      <th>6</th>\n",
       "      <td>creamy</td>\n",
       "      <td>3</td>\n",
       "      <td>touchfeel</td>\n",
       "      <td>mouthfeel</td>\n",
       "    </tr>\n",
       "    <tr>\n",
       "      <th>15</th>\n",
       "      <td>oily</td>\n",
       "      <td>1</td>\n",
       "      <td>touchfeel</td>\n",
       "      <td>mouthfeel</td>\n",
       "    </tr>\n",
       "  </tbody>\n",
       "</table>\n",
       "</div>"
      ],
      "text/plain": [
       "       desc  score       sens         types\n",
       "2      hazy      3      sight       clarity\n",
       "3      dark      3      sight         color\n",
       "4     brown      3      sight         color\n",
       "8   caramel      3      sight         color\n",
       "10    amber      3      sight         color\n",
       "13    white      2      sight          head\n",
       "9   caramel      3      smell         notes\n",
       "14    white      2      smell  spices_yeast\n",
       "0    bitter      4      taste        finish\n",
       "1    bitter      4      taste         notes\n",
       "7   caramel      3      taste         notes\n",
       "11    light      2  touchfeel          body\n",
       "5    creamy      3  touchfeel   carbonation\n",
       "12    light      2  touchfeel   carbonation\n",
       "6    creamy      3  touchfeel     mouthfeel\n",
       "15     oily      1  touchfeel     mouthfeel"
      ]
     },
     "execution_count": 40,
     "metadata": {},
     "output_type": "execute_result"
    }
   ],
   "source": [
    "beer_desc = df_beer_desc.sort_values(by=['sens', 'types'], ascending=True)\n",
    "beer_desc"
   ]
  },
  {
   "cell_type": "code",
   "execution_count": 61,
   "metadata": {
    "collapsed": false
   },
   "outputs": [],
   "source": [
    "dd = beer_desc.set_index(['sens','types'])"
   ]
  },
  {
   "cell_type": "code",
   "execution_count": 62,
   "metadata": {
    "collapsed": false
   },
   "outputs": [
    {
     "data": {
      "text/html": [
       "<div>\n",
       "<style>\n",
       "    .dataframe thead tr:only-child th {\n",
       "        text-align: right;\n",
       "    }\n",
       "\n",
       "    .dataframe thead th {\n",
       "        text-align: left;\n",
       "    }\n",
       "\n",
       "    .dataframe tbody tr th {\n",
       "        vertical-align: top;\n",
       "    }\n",
       "</style>\n",
       "<table border=\"1\" class=\"dataframe\">\n",
       "  <thead>\n",
       "    <tr style=\"text-align: right;\">\n",
       "      <th></th>\n",
       "      <th>desc</th>\n",
       "      <th>bitter</th>\n",
       "      <th>black</th>\n",
       "      <th>coffee</th>\n",
       "      <th>frothy</th>\n",
       "      <th>harsh</th>\n",
       "      <th>hazy</th>\n",
       "      <th>medium</th>\n",
       "      <th>red</th>\n",
       "      <th>spicy</th>\n",
       "      <th>sweet</th>\n",
       "    </tr>\n",
       "    <tr>\n",
       "      <th>sens</th>\n",
       "      <th>types</th>\n",
       "      <th></th>\n",
       "      <th></th>\n",
       "      <th></th>\n",
       "      <th></th>\n",
       "      <th></th>\n",
       "      <th></th>\n",
       "      <th></th>\n",
       "      <th></th>\n",
       "      <th></th>\n",
       "      <th></th>\n",
       "    </tr>\n",
       "  </thead>\n",
       "  <tbody>\n",
       "    <tr>\n",
       "      <th rowspan=\"3\" valign=\"top\">sight</th>\n",
       "      <th>clarity</th>\n",
       "      <td>0</td>\n",
       "      <td>0</td>\n",
       "      <td>0</td>\n",
       "      <td>0</td>\n",
       "      <td>0</td>\n",
       "      <td>1</td>\n",
       "      <td>0</td>\n",
       "      <td>0</td>\n",
       "      <td>0</td>\n",
       "      <td>0</td>\n",
       "    </tr>\n",
       "    <tr>\n",
       "      <th>color</th>\n",
       "      <td>0</td>\n",
       "      <td>3</td>\n",
       "      <td>0</td>\n",
       "      <td>0</td>\n",
       "      <td>0</td>\n",
       "      <td>0</td>\n",
       "      <td>0</td>\n",
       "      <td>3</td>\n",
       "      <td>0</td>\n",
       "      <td>0</td>\n",
       "    </tr>\n",
       "    <tr>\n",
       "      <th>head</th>\n",
       "      <td>0</td>\n",
       "      <td>0</td>\n",
       "      <td>0</td>\n",
       "      <td>1</td>\n",
       "      <td>0</td>\n",
       "      <td>0</td>\n",
       "      <td>0</td>\n",
       "      <td>0</td>\n",
       "      <td>0</td>\n",
       "      <td>0</td>\n",
       "    </tr>\n",
       "    <tr>\n",
       "      <th rowspan=\"2\" valign=\"top\">smell</th>\n",
       "      <th>dark_fruit</th>\n",
       "      <td>0</td>\n",
       "      <td>3</td>\n",
       "      <td>0</td>\n",
       "      <td>0</td>\n",
       "      <td>0</td>\n",
       "      <td>0</td>\n",
       "      <td>0</td>\n",
       "      <td>0</td>\n",
       "      <td>0</td>\n",
       "      <td>0</td>\n",
       "    </tr>\n",
       "    <tr>\n",
       "      <th>notes</th>\n",
       "      <td>0</td>\n",
       "      <td>0</td>\n",
       "      <td>3</td>\n",
       "      <td>0</td>\n",
       "      <td>0</td>\n",
       "      <td>0</td>\n",
       "      <td>0</td>\n",
       "      <td>0</td>\n",
       "      <td>0</td>\n",
       "      <td>3</td>\n",
       "    </tr>\n",
       "    <tr>\n",
       "      <th rowspan=\"3\" valign=\"top\">taste</th>\n",
       "      <th>finish</th>\n",
       "      <td>3</td>\n",
       "      <td>0</td>\n",
       "      <td>0</td>\n",
       "      <td>0</td>\n",
       "      <td>0</td>\n",
       "      <td>0</td>\n",
       "      <td>0</td>\n",
       "      <td>0</td>\n",
       "      <td>0</td>\n",
       "      <td>3</td>\n",
       "    </tr>\n",
       "    <tr>\n",
       "      <th>intensity</th>\n",
       "      <td>0</td>\n",
       "      <td>0</td>\n",
       "      <td>0</td>\n",
       "      <td>0</td>\n",
       "      <td>4</td>\n",
       "      <td>0</td>\n",
       "      <td>0</td>\n",
       "      <td>0</td>\n",
       "      <td>0</td>\n",
       "      <td>0</td>\n",
       "    </tr>\n",
       "    <tr>\n",
       "      <th>notes</th>\n",
       "      <td>3</td>\n",
       "      <td>0</td>\n",
       "      <td>3</td>\n",
       "      <td>0</td>\n",
       "      <td>0</td>\n",
       "      <td>0</td>\n",
       "      <td>0</td>\n",
       "      <td>0</td>\n",
       "      <td>1</td>\n",
       "      <td>3</td>\n",
       "    </tr>\n",
       "    <tr>\n",
       "      <th>touchfeel</th>\n",
       "      <th>body</th>\n",
       "      <td>0</td>\n",
       "      <td>0</td>\n",
       "      <td>0</td>\n",
       "      <td>0</td>\n",
       "      <td>0</td>\n",
       "      <td>0</td>\n",
       "      <td>2</td>\n",
       "      <td>0</td>\n",
       "      <td>0</td>\n",
       "      <td>0</td>\n",
       "    </tr>\n",
       "  </tbody>\n",
       "</table>\n",
       "</div>"
      ],
      "text/plain": [
       "desc                  bitter  black  coffee  frothy  harsh  hazy  medium  red  \\\n",
       "sens      types                                                                 \n",
       "sight     clarity          0      0       0       0      0     1       0    0   \n",
       "          color            0      3       0       0      0     0       0    3   \n",
       "          head             0      0       0       1      0     0       0    0   \n",
       "smell     dark_fruit       0      3       0       0      0     0       0    0   \n",
       "          notes            0      0       3       0      0     0       0    0   \n",
       "taste     finish           3      0       0       0      0     0       0    0   \n",
       "          intensity        0      0       0       0      4     0       0    0   \n",
       "          notes            3      0       3       0      0     0       0    0   \n",
       "touchfeel body             0      0       0       0      0     0       2    0   \n",
       "\n",
       "desc                  spicy  sweet  \n",
       "sens      types                     \n",
       "sight     clarity         0      0  \n",
       "          color           0      0  \n",
       "          head            0      0  \n",
       "smell     dark_fruit      0      0  \n",
       "          notes           0      3  \n",
       "taste     finish          0      3  \n",
       "          intensity       0      0  \n",
       "          notes           1      3  \n",
       "touchfeel body            0      0  "
      ]
     },
     "execution_count": 62,
     "metadata": {},
     "output_type": "execute_result"
    }
   ],
   "source": [
    "oo = dd.pivot_table(values='score', index=['sens','types'], columns='desc', fill_value=0)\n",
    "oo"
   ]
  },
  {
   "cell_type": "code",
   "execution_count": 63,
   "metadata": {
    "collapsed": false
   },
   "outputs": [],
   "source": [
    "aa = beer_desc\n",
    "aa_s = aa[aa.sens == 'sight']"
   ]
  },
  {
   "cell_type": "code",
   "execution_count": 64,
   "metadata": {
    "collapsed": false
   },
   "outputs": [
    {
     "data": {
      "text/html": [
       "<div>\n",
       "<style>\n",
       "    .dataframe thead tr:only-child th {\n",
       "        text-align: right;\n",
       "    }\n",
       "\n",
       "    .dataframe thead th {\n",
       "        text-align: left;\n",
       "    }\n",
       "\n",
       "    .dataframe tbody tr th {\n",
       "        vertical-align: top;\n",
       "    }\n",
       "</style>\n",
       "<table border=\"1\" class=\"dataframe\">\n",
       "  <thead>\n",
       "    <tr style=\"text-align: right;\">\n",
       "      <th></th>\n",
       "      <th>desc</th>\n",
       "      <th>score</th>\n",
       "      <th>sens</th>\n",
       "      <th>types</th>\n",
       "    </tr>\n",
       "  </thead>\n",
       "  <tbody>\n",
       "    <tr>\n",
       "      <th>14</th>\n",
       "      <td>hazy</td>\n",
       "      <td>1</td>\n",
       "      <td>sight</td>\n",
       "      <td>clarity</td>\n",
       "    </tr>\n",
       "    <tr>\n",
       "      <th>3</th>\n",
       "      <td>red</td>\n",
       "      <td>3</td>\n",
       "      <td>sight</td>\n",
       "      <td>color</td>\n",
       "    </tr>\n",
       "    <tr>\n",
       "      <th>4</th>\n",
       "      <td>black</td>\n",
       "      <td>3</td>\n",
       "      <td>sight</td>\n",
       "      <td>color</td>\n",
       "    </tr>\n",
       "    <tr>\n",
       "      <th>13</th>\n",
       "      <td>frothy</td>\n",
       "      <td>1</td>\n",
       "      <td>sight</td>\n",
       "      <td>head</td>\n",
       "    </tr>\n",
       "  </tbody>\n",
       "</table>\n",
       "</div>"
      ],
      "text/plain": [
       "      desc  score   sens    types\n",
       "14    hazy      1  sight  clarity\n",
       "3      red      3  sight    color\n",
       "4    black      3  sight    color\n",
       "13  frothy      1  sight     head"
      ]
     },
     "execution_count": 64,
     "metadata": {},
     "output_type": "execute_result"
    }
   ],
   "source": [
    "aa_s"
   ]
  },
  {
   "cell_type": "code",
   "execution_count": 65,
   "metadata": {
    "collapsed": false
   },
   "outputs": [],
   "source": [
    "aa_s = aa_s.pivot_table(values='score', index='types',columns='desc', fill_value=0)"
   ]
  },
  {
   "cell_type": "code",
   "execution_count": 66,
   "metadata": {
    "collapsed": false
   },
   "outputs": [
    {
     "data": {
      "text/html": [
       "<div>\n",
       "<style>\n",
       "    .dataframe thead tr:only-child th {\n",
       "        text-align: right;\n",
       "    }\n",
       "\n",
       "    .dataframe thead th {\n",
       "        text-align: left;\n",
       "    }\n",
       "\n",
       "    .dataframe tbody tr th {\n",
       "        vertical-align: top;\n",
       "    }\n",
       "</style>\n",
       "<table border=\"1\" class=\"dataframe\">\n",
       "  <thead>\n",
       "    <tr style=\"text-align: right;\">\n",
       "      <th>desc</th>\n",
       "      <th>black</th>\n",
       "      <th>frothy</th>\n",
       "      <th>hazy</th>\n",
       "      <th>red</th>\n",
       "    </tr>\n",
       "    <tr>\n",
       "      <th>types</th>\n",
       "      <th></th>\n",
       "      <th></th>\n",
       "      <th></th>\n",
       "      <th></th>\n",
       "    </tr>\n",
       "  </thead>\n",
       "  <tbody>\n",
       "    <tr>\n",
       "      <th>clarity</th>\n",
       "      <td>0.0</td>\n",
       "      <td>0.0</td>\n",
       "      <td>1.0</td>\n",
       "      <td>0.0</td>\n",
       "    </tr>\n",
       "    <tr>\n",
       "      <th>color</th>\n",
       "      <td>0.5</td>\n",
       "      <td>0.0</td>\n",
       "      <td>0.0</td>\n",
       "      <td>0.5</td>\n",
       "    </tr>\n",
       "    <tr>\n",
       "      <th>head</th>\n",
       "      <td>0.0</td>\n",
       "      <td>1.0</td>\n",
       "      <td>0.0</td>\n",
       "      <td>0.0</td>\n",
       "    </tr>\n",
       "  </tbody>\n",
       "</table>\n",
       "</div>"
      ],
      "text/plain": [
       "desc     black  frothy  hazy  red\n",
       "types                            \n",
       "clarity    0.0     0.0   1.0  0.0\n",
       "color      0.5     0.0   0.0  0.5\n",
       "head       0.0     1.0   0.0  0.0"
      ]
     },
     "execution_count": 66,
     "metadata": {},
     "output_type": "execute_result"
    }
   ],
   "source": [
    "aa_s.div(aa_s.sum(1), 0)"
   ]
  },
  {
   "cell_type": "code",
   "execution_count": 67,
   "metadata": {
    "collapsed": false
   },
   "outputs": [],
   "source": [
    "def get_piv(sens_, desc_):\n",
    "    filtered = desc_[desc_.sens == sens_]\n",
    "    piv = filtered.pivot_table(values='score', index='types',columns='desc', fill_value=0)\n",
    "    piv_norm = piv.div(piv.sum(1), 0)\n",
    "    return piv_norm"
   ]
  },
  {
   "cell_type": "code",
   "execution_count": 68,
   "metadata": {
    "collapsed": true
   },
   "outputs": [],
   "source": [
    "fp = get_piv('sight',beer_desc)"
   ]
  },
  {
   "cell_type": "code",
   "execution_count": 69,
   "metadata": {
    "collapsed": false
   },
   "outputs": [
    {
     "data": {
      "image/png": "[encoded data removed]",
      "text/plain": [
       "<matplotlib.figure.Figure at 0x1100f5198>"
      ]
     },
     "metadata": {},
     "output_type": "display_data"
    }
   ],
   "source": [
    "colors = plt.cm.GnBu(np.linspace(0, 1, 5))\n",
    "\n",
    "plt.figure(figsize=(14,3))\n",
    "ax1 = plt.subplot(1, 2, 1)\n",
    "fp.plot(kind='bar', stacked=True,rot=1,ax=ax1, colormap=\"GnBu\")\n",
    "plt.setp(ax1.get_yticklabels(),visible=False)\n",
    "ax1.tick_params(axis='y', which='both', length=0)\n",
    "\n",
    "ax2 = plt.subplot(1, 2, 2)\n",
    "fp.plot(kind='bar', stacked=True,rot=1,ax=ax2, colormap=\"GnBu\")\n",
    "plt.setp(ax2.get_yticklabels(),visible=False)\n",
    "ax2.tick_params(axis='y', which='both', length=0)"
   ]
  },
  {
   "cell_type": "markdown",
   "metadata": {},
   "source": [
    "# try with bokeh"
   ]
  },
  {
   "cell_type": "code",
   "execution_count": 41,
   "metadata": {
    "collapsed": false
   },
   "outputs": [
    {
     "data": {
      "text/html": [
       "<div>\n",
       "<style>\n",
       "    .dataframe thead tr:only-child th {\n",
       "        text-align: right;\n",
       "    }\n",
       "\n",
       "    .dataframe thead th {\n",
       "        text-align: left;\n",
       "    }\n",
       "\n",
       "    .dataframe tbody tr th {\n",
       "        vertical-align: top;\n",
       "    }\n",
       "</style>\n",
       "<table border=\"1\" class=\"dataframe\">\n",
       "  <thead>\n",
       "    <tr style=\"text-align: right;\">\n",
       "      <th>sens</th>\n",
       "      <th>desc</th>\n",
       "      <th>sight</th>\n",
       "      <th>smell</th>\n",
       "      <th>taste</th>\n",
       "      <th>touchfeel</th>\n",
       "    </tr>\n",
       "  </thead>\n",
       "  <tbody>\n",
       "    <tr>\n",
       "      <th>0</th>\n",
       "      <td>amber</td>\n",
       "      <td>0.176471</td>\n",
       "      <td>0.0</td>\n",
       "      <td>0.000000</td>\n",
       "      <td>0.000000</td>\n",
       "    </tr>\n",
       "    <tr>\n",
       "      <th>1</th>\n",
       "      <td>bitter</td>\n",
       "      <td>0.000000</td>\n",
       "      <td>0.0</td>\n",
       "      <td>0.571429</td>\n",
       "      <td>0.000000</td>\n",
       "    </tr>\n",
       "    <tr>\n",
       "      <th>2</th>\n",
       "      <td>brown</td>\n",
       "      <td>0.176471</td>\n",
       "      <td>0.0</td>\n",
       "      <td>0.000000</td>\n",
       "      <td>0.000000</td>\n",
       "    </tr>\n",
       "    <tr>\n",
       "      <th>3</th>\n",
       "      <td>caramel</td>\n",
       "      <td>0.176471</td>\n",
       "      <td>0.6</td>\n",
       "      <td>0.428571</td>\n",
       "      <td>0.000000</td>\n",
       "    </tr>\n",
       "    <tr>\n",
       "      <th>4</th>\n",
       "      <td>creamy</td>\n",
       "      <td>0.000000</td>\n",
       "      <td>0.0</td>\n",
       "      <td>0.000000</td>\n",
       "      <td>0.500000</td>\n",
       "    </tr>\n",
       "    <tr>\n",
       "      <th>5</th>\n",
       "      <td>dark</td>\n",
       "      <td>0.176471</td>\n",
       "      <td>0.0</td>\n",
       "      <td>0.000000</td>\n",
       "      <td>0.000000</td>\n",
       "    </tr>\n",
       "    <tr>\n",
       "      <th>6</th>\n",
       "      <td>hazy</td>\n",
       "      <td>0.176471</td>\n",
       "      <td>0.0</td>\n",
       "      <td>0.000000</td>\n",
       "      <td>0.000000</td>\n",
       "    </tr>\n",
       "    <tr>\n",
       "      <th>7</th>\n",
       "      <td>light</td>\n",
       "      <td>0.000000</td>\n",
       "      <td>0.0</td>\n",
       "      <td>0.000000</td>\n",
       "      <td>0.333333</td>\n",
       "    </tr>\n",
       "    <tr>\n",
       "      <th>8</th>\n",
       "      <td>oily</td>\n",
       "      <td>0.000000</td>\n",
       "      <td>0.0</td>\n",
       "      <td>0.000000</td>\n",
       "      <td>0.166667</td>\n",
       "    </tr>\n",
       "    <tr>\n",
       "      <th>9</th>\n",
       "      <td>white</td>\n",
       "      <td>0.117647</td>\n",
       "      <td>0.4</td>\n",
       "      <td>0.000000</td>\n",
       "      <td>0.000000</td>\n",
       "    </tr>\n",
       "  </tbody>\n",
       "</table>\n",
       "</div>"
      ],
      "text/plain": [
       "sens     desc     sight  smell     taste  touchfeel\n",
       "0       amber  0.176471    0.0  0.000000   0.000000\n",
       "1      bitter  0.000000    0.0  0.571429   0.000000\n",
       "2       brown  0.176471    0.0  0.000000   0.000000\n",
       "3     caramel  0.176471    0.6  0.428571   0.000000\n",
       "4      creamy  0.000000    0.0  0.000000   0.500000\n",
       "5        dark  0.176471    0.0  0.000000   0.000000\n",
       "6        hazy  0.176471    0.0  0.000000   0.000000\n",
       "7       light  0.000000    0.0  0.000000   0.333333\n",
       "8        oily  0.000000    0.0  0.000000   0.166667\n",
       "9       white  0.117647    0.4  0.000000   0.000000"
      ]
     },
     "execution_count": 41,
     "metadata": {},
     "output_type": "execute_result"
    }
   ],
   "source": [
    "tt = beer_desc.pivot_table(values='score', index='desc', columns='sens', fill_value=0)\n",
    "tt = tt.div(tt.sum())\n",
    "tt = tt.reset_index()\n",
    "tt"
   ]
  },
  {
   "cell_type": "code",
   "execution_count": 42,
   "metadata": {
    "collapsed": false
   },
   "outputs": [
    {
     "data": {
      "text/plain": [
       "0    0\n",
       "1    1\n",
       "2    2\n",
       "3    3\n",
       "4    4\n",
       "5    5\n",
       "6    6\n",
       "7    7\n",
       "8    8\n",
       "9    9\n",
       "dtype: int64"
      ]
     },
     "execution_count": 42,
     "metadata": {},
     "output_type": "execute_result"
    }
   ],
   "source": [
    "tt.index.to_series()"
   ]
  },
  {
   "cell_type": "code",
   "execution_count": 43,
   "metadata": {
    "collapsed": false
   },
   "outputs": [],
   "source": [
    "from bokeh.io import output_notebook\n",
    "#output_notebook()"
   ]
  },
  {
   "cell_type": "code",
   "execution_count": 44,
   "metadata": {
    "collapsed": false
   },
   "outputs": [],
   "source": [
    "from collections import OrderedDict\n",
    "from math import log, sqrt\n",
    "\n",
    "sens_color = OrderedDict([(\"sight\",\"#0d3362\"),(\"smell\", \"#c64737\"),(\"taste\",\"#35B778\"),(\"touchfeel\", \"#4292c6\")])"
   ]
  },
  {
   "cell_type": "code",
   "execution_count": 45,
   "metadata": {
    "collapsed": false
   },
   "outputs": [],
   "source": [
    "width = 800\n",
    "height = 800\n",
    "inner_radius = 130 # legend place circle\n",
    "outer_radius = 200\n",
    "\n",
    "minr = sqrt(log(100* 1E4))\n",
    "#minr = 0\n",
    "maxr = sqrt(log(0.0001 * 1E4))\n",
    "#maxr = 1\n",
    "a = (outer_radius - inner_radius) / (minr - maxr)\n",
    "b = inner_radius - a * maxr\n",
    "\n",
    "def rad(mic):\n",
    "    return a * np.sqrt(mic * 1E2) + b\n",
    "\n",
    "big_angle = 2.0 * np.pi / (len(tt)) # number of slice\n",
    "small_angle = big_angle / 10 #number of bars per slice"
   ]
  },
  {
   "cell_type": "code",
   "execution_count": 46,
   "metadata": {
    "collapsed": false,
    "scrolled": false
   },
   "outputs": [
    {
     "name": "stderr",
     "output_type": "stream",
     "text": [
      "INFO:bokeh.core.state:Session output file 'test.html' already exists, will be overwritten.\n"
     ]
    }
   ],
   "source": [
    "from bokeh.plotting import figure, show, output_file\n",
    "\n",
    "p = figure(plot_width=width, plot_height=height, title=\"Description of \" + test_mc0_name +\" in 10 words\",\n",
    "    x_axis_type=None, y_axis_type=None,\n",
    "    x_range=(-420, 420), y_range=(-420, 420),\n",
    "    min_border=0,\n",
    "    background_fill_color=\"white\",\n",
    "    toolbar_sticky=False)\n",
    "\n",
    "\n",
    "p.xgrid.grid_line_color = None\n",
    "p.ygrid.grid_line_color = None\n",
    "\n",
    "angles = np.pi/2 - big_angle/2 - tt.index.to_series()*big_angle\n",
    "\n",
    "\n",
    "# small wedges\n",
    "p.annular_wedge(0, 0, inner_radius, rad(tt.sight),\n",
    "                -big_angle+angles+7*small_angle, -big_angle+angles+8*small_angle,\n",
    "                color=sens_color['sight'])\n",
    "p.annular_wedge(0, 0, inner_radius, rad(tt.smell),\n",
    "                -big_angle+angles+5*small_angle, -big_angle+angles+6*small_angle,\n",
    "                color=sens_color['smell'])\n",
    "p.annular_wedge(0, 0, inner_radius, rad(tt.taste),\n",
    "                -big_angle+angles+3*small_angle, -big_angle+angles+4*small_angle,\n",
    "                color=sens_color['taste'])\n",
    "p.annular_wedge(0, 0, inner_radius, rad(tt.touchfeel),\n",
    "                -big_angle+angles+1*small_angle, -big_angle+angles+2*small_angle,\n",
    "                color=sens_color['touchfeel'])\n",
    "\n",
    "# circular axes and lables\n",
    "#labels = np.power(10.0, np.arange(-1, 1))\n",
    "labels = np.array([0.25,0.5,0.75,1])\n",
    "radii = a * np.sqrt(labels * 1E2) + b\n",
    "p.circle(0, 0, radius=radii, fill_color=None, line_color=\"gray\")\n",
    "p.text(0, radii[:-1], [str(r) for r in labels[:-1]],\n",
    "       text_font_size=\"8pt\", text_align=\"center\", text_baseline=\"middle\")\n",
    "\n",
    "# radial axes\n",
    "p.annular_wedge(0, 0, inner_radius-10, outer_radius*1.5,\n",
    "                -big_angle+angles, -big_angle+angles, color=\"gray\")\n",
    "\n",
    "# desc labels\n",
    "xr = (inner_radius-40)*np.cos(np.array(-big_angle/2 + angles))\n",
    "yr = (inner_radius-40)*np.sin(np.array(-big_angle/2 + angles))\n",
    "label_angle=np.array(-big_angle/2+angles)\n",
    "label_angle[label_angle < -np.pi/2] += np.pi # easier to read labels on the left side\n",
    "p.text(xr, yr, tt.desc, angle=label_angle,\n",
    "       text_font_size=\"10pt\", text_align=\"center\", text_baseline=\"middle\")\n",
    "\n",
    "# OK, these hand drawn legends are pretty clunky, will be improved in future release\n",
    "\n",
    "p.rect([-20, -20, -20,-20], [25, 7, -9,-27], width=30, height=13,\n",
    "       color=list(sens_color.values()))\n",
    "p.text([0, 0, 0,0], [25, 7, -9,-27], text=list(sens_color),\n",
    "       text_font_size=\"9pt\", text_align=\"left\", text_baseline=\"middle\")\n",
    "\n",
    "output_file(\"test2.html\", title=\"test example\")\n",
    "\n",
    "show(p)"
   ]
  },
  {
   "cell_type": "code",
   "execution_count": 757,
   "metadata": {
    "collapsed": false
   },
   "outputs": [
    {
     "data": {
      "text/plain": [
       "277.9718896591138"
      ]
     },
     "execution_count": 757,
     "metadata": {},
     "output_type": "execute_result"
    }
   ],
   "source": [
    "radii[0]"
   ]
  },
  {
   "cell_type": "code",
   "execution_count": 731,
   "metadata": {
    "collapsed": false
   },
   "outputs": [
    {
     "data": {
      "text/plain": [
       "0    1.256637\n",
       "1    0.628319\n",
       "2    0.000000\n",
       "3   -0.628319\n",
       "4   -1.256637\n",
       "5   -1.884956\n",
       "6   -2.513274\n",
       "7   -3.141593\n",
       "8   -3.769911\n",
       "9   -4.398230\n",
       "dtype: float64"
      ]
     },
     "execution_count": 731,
     "metadata": {},
     "output_type": "execute_result"
    }
   ],
   "source": [
    "angles"
   ]
  },
  {
   "cell_type": "code",
   "execution_count": 693,
   "metadata": {
    "collapsed": false
   },
   "outputs": [
    {
     "data": {
      "text/plain": [
       "array([ 136.7928201 ,  156.17504081,  171.04754184,  183.5856402 ])"
      ]
     },
     "execution_count": 693,
     "metadata": {},
     "output_type": "execute_result"
    }
   ],
   "source": [
    "radii"
   ]
  },
  {
   "cell_type": "markdown",
   "metadata": {},
   "source": [
    "# antibiotics = \"\"\"\n",
    "bacteria,                        penicillin, streptomycin, neomycin, gram\n",
    "Mycobacterium tuberculosis,      800,        5,            2,        negative\n",
    "Salmonella schottmuelleri,       10,         0.8,          0.09,     negative\n",
    "Proteus vulgaris,                3,          0.1,          0.1,      negative\n",
    "Klebsiella pneumoniae,           850,        1.2,          1,        negative\n",
    "Brucella abortus,                1,          2,            0.02,     negative\n",
    "Pseudomonas aeruginosa,          850,        2,            0.4,      negative\n",
    "Escherichia coli,                100,        0.4,          0.1,      negative\n",
    "Salmonella (Eberthella) typhosa, 1,          0.4,          0.008,    negative\n",
    "Aerobacter aerogenes,            870,        1,            1.6,      negative\n",
    "Brucella antracis,               0.001,      0.01,         0.007,    positive\n",
    "Streptococcus fecalis,           1,          1,            0.1,      positive\n",
    "Staphylococcus aureus,           0.03,       0.03,         0.001,    positive\n",
    "Staphylococcus albus,            0.007,      0.1,          0.001,    positive\n",
    "Streptococcus hemolyticus,       0.001,      14,           10,       positive\n",
    "Streptococcus viridans,          0.005,      10,           40,       positive\n",
    "Diplococcus pneumoniae,          0.005,      11,           10,       positive\n",
    "\"\"\""
   ]
  },
  {
   "cell_type": "code",
   "execution_count": 381,
   "metadata": {
    "collapsed": true
   },
   "outputs": [],
   "source": [
    "from six.moves import cStringIO as StringIO"
   ]
  },
  {
   "cell_type": "code",
   "execution_count": 382,
   "metadata": {
    "collapsed": true
   },
   "outputs": [],
   "source": [
    "df = pd.read_csv(StringIO(antibiotics),\n",
    "                 skiprows=1,\n",
    "                 skipinitialspace=True,\n",
    "                 engine='python')"
   ]
  },
  {
   "cell_type": "code",
   "execution_count": 386,
   "metadata": {
    "collapsed": false
   },
   "outputs": [
    {
     "data": {
      "text/plain": [
       "numpy.float64"
      ]
     },
     "execution_count": 386,
     "metadata": {},
     "output_type": "execute_result"
    }
   ],
   "source": [
    "type(df.penicillin[0])"
   ]
  },
  {
   "cell_type": "code",
   "execution_count": 395,
   "metadata": {
    "collapsed": false
   },
   "outputs": [
    {
     "data": {
      "text/plain": [
       "0      0\n",
       "1      1\n",
       "2      2\n",
       "3      3\n",
       "4      4\n",
       "5      5\n",
       "6      6\n",
       "7      7\n",
       "8      8\n",
       "9      9\n",
       "10    10\n",
       "11    11\n",
       "12    12\n",
       "13    13\n",
       "14    14\n",
       "15    15\n",
       "dtype: int64"
      ]
     },
     "execution_count": 395,
     "metadata": {},
     "output_type": "execute_result"
    }
   ],
   "source": [
    "df.index.to_series()"
   ]
  },
  {
   "cell_type": "code",
   "execution_count": 396,
   "metadata": {
    "collapsed": false
   },
   "outputs": [
    {
     "data": {
      "text/html": [
       "<div>\n",
       "<style>\n",
       "    .dataframe thead tr:only-child th {\n",
       "        text-align: right;\n",
       "    }\n",
       "\n",
       "    .dataframe thead th {\n",
       "        text-align: left;\n",
       "    }\n",
       "\n",
       "    .dataframe tbody tr th {\n",
       "        vertical-align: top;\n",
       "    }\n",
       "</style>\n",
       "<table border=\"1\" class=\"dataframe\">\n",
       "  <thead>\n",
       "    <tr style=\"text-align: right;\">\n",
       "      <th></th>\n",
       "      <th>bacteria</th>\n",
       "      <th>penicillin</th>\n",
       "      <th>streptomycin</th>\n",
       "      <th>neomycin</th>\n",
       "      <th>gram</th>\n",
       "    </tr>\n",
       "  </thead>\n",
       "  <tbody>\n",
       "    <tr>\n",
       "      <th>0</th>\n",
       "      <td>Mycobacterium tuberculosis</td>\n",
       "      <td>800.000</td>\n",
       "      <td>5.00</td>\n",
       "      <td>2.000</td>\n",
       "      <td>negative</td>\n",
       "    </tr>\n",
       "    <tr>\n",
       "      <th>1</th>\n",
       "      <td>Salmonella schottmuelleri</td>\n",
       "      <td>10.000</td>\n",
       "      <td>0.80</td>\n",
       "      <td>0.090</td>\n",
       "      <td>negative</td>\n",
       "    </tr>\n",
       "    <tr>\n",
       "      <th>2</th>\n",
       "      <td>Proteus vulgaris</td>\n",
       "      <td>3.000</td>\n",
       "      <td>0.10</td>\n",
       "      <td>0.100</td>\n",
       "      <td>negative</td>\n",
       "    </tr>\n",
       "    <tr>\n",
       "      <th>3</th>\n",
       "      <td>Klebsiella pneumoniae</td>\n",
       "      <td>850.000</td>\n",
       "      <td>1.20</td>\n",
       "      <td>1.000</td>\n",
       "      <td>negative</td>\n",
       "    </tr>\n",
       "    <tr>\n",
       "      <th>4</th>\n",
       "      <td>Brucella abortus</td>\n",
       "      <td>1.000</td>\n",
       "      <td>2.00</td>\n",
       "      <td>0.020</td>\n",
       "      <td>negative</td>\n",
       "    </tr>\n",
       "    <tr>\n",
       "      <th>5</th>\n",
       "      <td>Pseudomonas aeruginosa</td>\n",
       "      <td>850.000</td>\n",
       "      <td>2.00</td>\n",
       "      <td>0.400</td>\n",
       "      <td>negative</td>\n",
       "    </tr>\n",
       "    <tr>\n",
       "      <th>6</th>\n",
       "      <td>Escherichia coli</td>\n",
       "      <td>100.000</td>\n",
       "      <td>0.40</td>\n",
       "      <td>0.100</td>\n",
       "      <td>negative</td>\n",
       "    </tr>\n",
       "    <tr>\n",
       "      <th>7</th>\n",
       "      <td>Salmonella (Eberthella) typhosa</td>\n",
       "      <td>1.000</td>\n",
       "      <td>0.40</td>\n",
       "      <td>0.008</td>\n",
       "      <td>negative</td>\n",
       "    </tr>\n",
       "    <tr>\n",
       "      <th>8</th>\n",
       "      <td>Aerobacter aerogenes</td>\n",
       "      <td>870.000</td>\n",
       "      <td>1.00</td>\n",
       "      <td>1.600</td>\n",
       "      <td>negative</td>\n",
       "    </tr>\n",
       "    <tr>\n",
       "      <th>9</th>\n",
       "      <td>Brucella antracis</td>\n",
       "      <td>0.001</td>\n",
       "      <td>0.01</td>\n",
       "      <td>0.007</td>\n",
       "      <td>positive</td>\n",
       "    </tr>\n",
       "    <tr>\n",
       "      <th>10</th>\n",
       "      <td>Streptococcus fecalis</td>\n",
       "      <td>1.000</td>\n",
       "      <td>1.00</td>\n",
       "      <td>0.100</td>\n",
       "      <td>positive</td>\n",
       "    </tr>\n",
       "    <tr>\n",
       "      <th>11</th>\n",
       "      <td>Staphylococcus aureus</td>\n",
       "      <td>0.030</td>\n",
       "      <td>0.03</td>\n",
       "      <td>0.001</td>\n",
       "      <td>positive</td>\n",
       "    </tr>\n",
       "    <tr>\n",
       "      <th>12</th>\n",
       "      <td>Staphylococcus albus</td>\n",
       "      <td>0.007</td>\n",
       "      <td>0.10</td>\n",
       "      <td>0.001</td>\n",
       "      <td>positive</td>\n",
       "    </tr>\n",
       "    <tr>\n",
       "      <th>13</th>\n",
       "      <td>Streptococcus hemolyticus</td>\n",
       "      <td>0.001</td>\n",
       "      <td>14.00</td>\n",
       "      <td>10.000</td>\n",
       "      <td>positive</td>\n",
       "    </tr>\n",
       "    <tr>\n",
       "      <th>14</th>\n",
       "      <td>Streptococcus viridans</td>\n",
       "      <td>0.005</td>\n",
       "      <td>10.00</td>\n",
       "      <td>40.000</td>\n",
       "      <td>positive</td>\n",
       "    </tr>\n",
       "    <tr>\n",
       "      <th>15</th>\n",
       "      <td>Diplococcus pneumoniae</td>\n",
       "      <td>0.005</td>\n",
       "      <td>11.00</td>\n",
       "      <td>10.000</td>\n",
       "      <td>positive</td>\n",
       "    </tr>\n",
       "  </tbody>\n",
       "</table>\n",
       "</div>"
      ],
      "text/plain": [
       "                           bacteria  penicillin  streptomycin  neomycin  \\\n",
       "0        Mycobacterium tuberculosis     800.000          5.00     2.000   \n",
       "1         Salmonella schottmuelleri      10.000          0.80     0.090   \n",
       "2                  Proteus vulgaris       3.000          0.10     0.100   \n",
       "3             Klebsiella pneumoniae     850.000          1.20     1.000   \n",
       "4                  Brucella abortus       1.000          2.00     0.020   \n",
       "5            Pseudomonas aeruginosa     850.000          2.00     0.400   \n",
       "6                  Escherichia coli     100.000          0.40     0.100   \n",
       "7   Salmonella (Eberthella) typhosa       1.000          0.40     0.008   \n",
       "8              Aerobacter aerogenes     870.000          1.00     1.600   \n",
       "9                 Brucella antracis       0.001          0.01     0.007   \n",
       "10            Streptococcus fecalis       1.000          1.00     0.100   \n",
       "11            Staphylococcus aureus       0.030          0.03     0.001   \n",
       "12             Staphylococcus albus       0.007          0.10     0.001   \n",
       "13        Streptococcus hemolyticus       0.001         14.00    10.000   \n",
       "14           Streptococcus viridans       0.005         10.00    40.000   \n",
       "15           Diplococcus pneumoniae       0.005         11.00    10.000   \n",
       "\n",
       "        gram  \n",
       "0   negative  \n",
       "1   negative  \n",
       "2   negative  \n",
       "3   negative  \n",
       "4   negative  \n",
       "5   negative  \n",
       "6   negative  \n",
       "7   negative  \n",
       "8   negative  \n",
       "9   positive  \n",
       "10  positive  \n",
       "11  positive  \n",
       "12  positive  \n",
       "13  positive  \n",
       "14  positive  \n",
       "15  positive  "
      ]
     },
     "execution_count": 396,
     "metadata": {},
     "output_type": "execute_result"
    }
   ],
   "source": [
    "df"
   ]
  },
  {
   "cell_type": "code",
   "execution_count": null,
   "metadata": {
    "collapsed": true
   },
   "outputs": [],
   "source": []
  }
 ],
 "metadata": {
  "anaconda-cloud": {},
  "kernelspec": {
   "display_name": "Python [conda env:ada]",
   "language": "python",
   "name": "conda-env-ada-py"
  },
  "language_info": {
   "codemirror_mode": {
    "name": "ipython",
    "version": 3
   },
   "file_extension": ".py",
   "mimetype": "text/x-python",
   "name": "python",
   "nbconvert_exporter": "python",
   "pygments_lexer": "ipython3",
   "version": "3.5.2"
  }
 },
 "nbformat": 4,
 "nbformat_minor": 2
}
