{
 "cells": [
  {
   "cell_type": "code",
   "execution_count": 1,
   "metadata": {
    "collapsed": true
   },
   "outputs": [],
   "source": [
    "import pandas as pd\n",
    "import numpy as np\n",
    "import matplotlib.pyplot as plt\n",
    "%matplotlib inline\n",
    "import seaborn as sns\n",
    "\n",
    "import re\n",
    "import unicodedata\n",
    "\n",
    "from bs4 import BeautifulSoup\n",
    "import requests\n",
    "import time\n",
    "from IPython.core.display import display, HTML\n",
    "\n",
    "from os import listdir\n",
    "from os.path import isfile, join\n",
    "from tqdm import tqdm, tqdm_notebook"
   ]
  },
  {
   "cell_type": "markdown",
   "metadata": {},
   "source": [
    "# Import Review DB"
   ]
  },
  {
   "cell_type": "code",
   "execution_count": 90,
   "metadata": {
    "collapsed": false
   },
   "outputs": [
    {
     "data": {
      "text/html": [
       "<div>\n",
       "<style>\n",
       "    .dataframe thead tr:only-child th {\n",
       "        text-align: right;\n",
       "    }\n",
       "\n",
       "    .dataframe thead th {\n",
       "        text-align: left;\n",
       "    }\n",
       "\n",
       "    .dataframe tbody tr th {\n",
       "        vertical-align: top;\n",
       "    }\n",
       "</style>\n",
       "<table border=\"1\" class=\"dataframe\">\n",
       "  <thead>\n",
       "    <tr style=\"text-align: right;\">\n",
       "      <th></th>\n",
       "      <th>ids</th>\n",
       "      <th>name</th>\n",
       "      <th>review</th>\n",
       "    </tr>\n",
       "  </thead>\n",
       "  <tbody>\n",
       "    <tr>\n",
       "      <th>0</th>\n",
       "      <td>1</td>\n",
       "      <td>Beamish Irish Stout</td>\n",
       "      <td>The nitro really does disservice to the beer. ...</td>\n",
       "    </tr>\n",
       "    <tr>\n",
       "      <th>1</th>\n",
       "      <td>100</td>\n",
       "      <td>Nutfield Auburn Ale</td>\n",
       "      <td>I thought this was a nice well balanced beer. ...</td>\n",
       "    </tr>\n",
       "  </tbody>\n",
       "</table>\n",
       "</div>"
      ],
      "text/plain": [
       "   ids                 name                                             review\n",
       "0    1  Beamish Irish Stout  The nitro really does disservice to the beer. ...\n",
       "1  100  Nutfield Auburn Ale  I thought this was a nice well balanced beer. ..."
      ]
     },
     "execution_count": 90,
     "metadata": {},
     "output_type": "execute_result"
    }
   ],
   "source": [
    "df_review = pd.read_csv(\"./ratebeer2.csv\", encoding = \"latin-1\", names=[\"ids\", \"name\",\"review\"])\n",
    "df_review.head(2)"
   ]
  },
  {
   "cell_type": "code",
   "execution_count": 91,
   "metadata": {
    "collapsed": false
   },
   "outputs": [],
   "source": [
    "df_review['name'] = [i.replace('&#40;', \"\") if '&#40;' in i else i for i in df_review.name  ]\n",
    "df_review['name'] = [i.replace('&#41;', \"\") if '&#41;'in i else i for i in df_review.name  ]"
   ]
  },
  {
   "cell_type": "code",
   "execution_count": 92,
   "metadata": {
    "collapsed": true
   },
   "outputs": [],
   "source": [
    "def normalize_name(name): \n",
    "    uni = re.sub('[()]', '', str(name)) #remove parenthesis\n",
    "    uni = re.sub('[^a-zA-Z0-9áéíóúÁÉÜÍÓÚüâäèêîôÂÊÎÔãõñÃÕçÇ: ]', ' ', uni) #remove special characters except accents\n",
    "    uni = uni.lower().strip()\n",
    "    nfkd_form = unicodedata.normalize('NFKD', uni)\n",
    "    only_ascii = nfkd_form.encode('ASCII', 'ignore')\n",
    "    name_norm = only_ascii.decode('utf-8')\n",
    "    return name_norm"
   ]
  },
  {
   "cell_type": "code",
   "execution_count": 93,
   "metadata": {
    "collapsed": false
   },
   "outputs": [],
   "source": [
    "def build_link(df):\n",
    "    lst_link = []\n",
    "    for index, row in df.iterrows():\n",
    "        join_name = \"+\".join(row['name'].split(' '))\n",
    "        link = \"/beer/\"+join_name+\"/\"+str(row['ids'])+\"/\"\n",
    "        lst_link.append(link)\n",
    "    return lst_link"
   ]
  },
  {
   "cell_type": "code",
   "execution_count": 94,
   "metadata": {
    "collapsed": false
   },
   "outputs": [],
   "source": [
    "df_review.name = df_review.name.apply(normalize_name)\n",
    "df_review.review = df_review.review.apply(normalize_name)"
   ]
  },
  {
   "cell_type": "code",
   "execution_count": 95,
   "metadata": {
    "collapsed": false
   },
   "outputs": [],
   "source": [
    "df_review['link'] = build_link(df_review)"
   ]
  },
  {
   "cell_type": "code",
   "execution_count": 96,
   "metadata": {
    "collapsed": true
   },
   "outputs": [],
   "source": [
    "df_review.ids = pd.to_numeric(df_review['ids'], errors='coerce', downcast='integer')"
   ]
  },
  {
   "cell_type": "code",
   "execution_count": 109,
   "metadata": {
    "collapsed": false
   },
   "outputs": [],
   "source": [
    "df_review = df_review.dropna(axis=0, how='any')"
   ]
  },
  {
   "cell_type": "code",
   "execution_count": 113,
   "metadata": {
    "collapsed": false
   },
   "outputs": [],
   "source": [
    "df_review.ids = df_review.ids.astype(int)"
   ]
  },
  {
   "cell_type": "code",
   "execution_count": 114,
   "metadata": {
    "collapsed": false
   },
   "outputs": [
    {
     "data": {
      "text/html": [
       "<div>\n",
       "<style>\n",
       "    .dataframe thead tr:only-child th {\n",
       "        text-align: right;\n",
       "    }\n",
       "\n",
       "    .dataframe thead th {\n",
       "        text-align: left;\n",
       "    }\n",
       "\n",
       "    .dataframe tbody tr th {\n",
       "        vertical-align: top;\n",
       "    }\n",
       "</style>\n",
       "<table border=\"1\" class=\"dataframe\">\n",
       "  <thead>\n",
       "    <tr style=\"text-align: right;\">\n",
       "      <th></th>\n",
       "      <th>ids</th>\n",
       "      <th>name</th>\n",
       "      <th>review</th>\n",
       "      <th>link</th>\n",
       "    </tr>\n",
       "  </thead>\n",
       "  <tbody>\n",
       "    <tr>\n",
       "      <th>0</th>\n",
       "      <td>1</td>\n",
       "      <td>beamish irish stout</td>\n",
       "      <td>the nitro really does disservice to the beer  ...</td>\n",
       "      <td>/beer/beamish+irish+stout/1/</td>\n",
       "    </tr>\n",
       "    <tr>\n",
       "      <th>1</th>\n",
       "      <td>100</td>\n",
       "      <td>nutfield auburn ale</td>\n",
       "      <td>i thought this was a nice well balanced beer  ...</td>\n",
       "      <td>/beer/nutfield+auburn+ale/100/</td>\n",
       "    </tr>\n",
       "    <tr>\n",
       "      <th>2</th>\n",
       "      <td>10000</td>\n",
       "      <td>dithmarscher pilsener</td>\n",
       "      <td>its a typical north german pilsner  but has a ...</td>\n",
       "      <td>/beer/dithmarscher+pilsener/10000/</td>\n",
       "    </tr>\n",
       "    <tr>\n",
       "      <th>3</th>\n",
       "      <td>100001</td>\n",
       "      <td>partners anglo dutch aspistus</td>\n",
       "      <td>cask at cloisters edinburgh     light golden a...</td>\n",
       "      <td>/beer/partners+anglo+dutch+aspistus/100001/</td>\n",
       "    </tr>\n",
       "    <tr>\n",
       "      <th>4</th>\n",
       "      <td>100009</td>\n",
       "      <td>golden city javapeno imperial stout</td>\n",
       "      <td>on tap at boulder strong ale fest poured an op...</td>\n",
       "      <td>/beer/golden+city+javapeno+imperial+stout/100009/</td>\n",
       "    </tr>\n",
       "  </tbody>\n",
       "</table>\n",
       "</div>"
      ],
      "text/plain": [
       "      ids                                 name  \\\n",
       "0       1                  beamish irish stout   \n",
       "1     100                  nutfield auburn ale   \n",
       "2   10000                dithmarscher pilsener   \n",
       "3  100001        partners anglo dutch aspistus   \n",
       "4  100009  golden city javapeno imperial stout   \n",
       "\n",
       "                                              review  \\\n",
       "0  the nitro really does disservice to the beer  ...   \n",
       "1  i thought this was a nice well balanced beer  ...   \n",
       "2  its a typical north german pilsner  but has a ...   \n",
       "3  cask at cloisters edinburgh     light golden a...   \n",
       "4  on tap at boulder strong ale fest poured an op...   \n",
       "\n",
       "                                                link  \n",
       "0                       /beer/beamish+irish+stout/1/  \n",
       "1                     /beer/nutfield+auburn+ale/100/  \n",
       "2                 /beer/dithmarscher+pilsener/10000/  \n",
       "3        /beer/partners+anglo+dutch+aspistus/100001/  \n",
       "4  /beer/golden+city+javapeno+imperial+stout/100009/  "
      ]
     },
     "execution_count": 114,
     "metadata": {},
     "output_type": "execute_result"
    }
   ],
   "source": [
    "df_review.head()"
   ]
  },
  {
   "cell_type": "code",
   "execution_count": 115,
   "metadata": {
    "collapsed": false
   },
   "outputs": [
    {
     "data": {
      "text/plain": [
       "(87244, 4)"
      ]
     },
     "execution_count": 115,
     "metadata": {},
     "output_type": "execute_result"
    }
   ],
   "source": [
    "df_review.shape"
   ]
  },
  {
   "cell_type": "markdown",
   "metadata": {},
   "source": [
    "# Import Original DB"
   ]
  },
  {
   "cell_type": "code",
   "execution_count": 116,
   "metadata": {
    "collapsed": false
   },
   "outputs": [
    {
     "data": {
      "text/html": [
       "<div>\n",
       "<style>\n",
       "    .dataframe thead tr:only-child th {\n",
       "        text-align: right;\n",
       "    }\n",
       "\n",
       "    .dataframe thead th {\n",
       "        text-align: left;\n",
       "    }\n",
       "\n",
       "    .dataframe tbody tr th {\n",
       "        vertical-align: top;\n",
       "    }\n",
       "</style>\n",
       "<table border=\"1\" class=\"dataframe\">\n",
       "  <thead>\n",
       "    <tr style=\"text-align: right;\">\n",
       "      <th></th>\n",
       "      <th>name</th>\n",
       "      <th>score</th>\n",
       "      <th>beer style</th>\n",
       "      <th>abv</th>\n",
       "      <th>cal</th>\n",
       "      <th>city</th>\n",
       "      <th>country</th>\n",
       "      <th>link</th>\n",
       "      <th>ids</th>\n",
       "    </tr>\n",
       "  </thead>\n",
       "  <tbody>\n",
       "    <tr>\n",
       "      <th>0</th>\n",
       "      <td>Ivanych Zhivoe Svetloe</td>\n",
       "      <td>2.84</td>\n",
       "      <td>Zwickel/Keller/Landbier</td>\n",
       "      <td>4.5</td>\n",
       "      <td>135.0</td>\n",
       "      <td>Sukhum</td>\n",
       "      <td>Abkhazia</td>\n",
       "      <td>/beer/ivanych-zhivoe-svetloe/301247/</td>\n",
       "      <td>301247</td>\n",
       "    </tr>\n",
       "    <tr>\n",
       "      <th>1</th>\n",
       "      <td>Stara Praha Oldenburg Tiemnoye</td>\n",
       "      <td>2.52</td>\n",
       "      <td>Dunkel/Tmavý</td>\n",
       "      <td>4.7</td>\n",
       "      <td>141.0</td>\n",
       "      <td>Stara Gagra</td>\n",
       "      <td>Abkhazia</td>\n",
       "      <td>/beer/stara-praha-oldenburg-tiemnoye/334787/</td>\n",
       "      <td>334787</td>\n",
       "    </tr>\n",
       "  </tbody>\n",
       "</table>\n",
       "</div>"
      ],
      "text/plain": [
       "                             name  score               beer style  abv    cal  \\\n",
       "0          Ivanych Zhivoe Svetloe   2.84  Zwickel/Keller/Landbier  4.5  135.0   \n",
       "1  Stara Praha Oldenburg Tiemnoye   2.52             Dunkel/Tmavý  4.7  141.0   \n",
       "\n",
       "          city   country                                          link     ids  \n",
       "0       Sukhum  Abkhazia          /beer/ivanych-zhivoe-svetloe/301247/  301247  \n",
       "1  Stara Gagra  Abkhazia  /beer/stara-praha-oldenburg-tiemnoye/334787/  334787  "
      ]
     },
     "execution_count": 116,
     "metadata": {},
     "output_type": "execute_result"
    }
   ],
   "source": [
    "df_rb = pd.read_csv('./ratebeer_dataset_2.csv')\n",
    "df_rb=df_rb.rename(columns = {'id':'ids'})\n",
    "df_rb.head(2)"
   ]
  },
  {
   "cell_type": "code",
   "execution_count": 117,
   "metadata": {
    "collapsed": true
   },
   "outputs": [],
   "source": [
    "df_rb.name = df_rb.name.apply(normalize_name)"
   ]
  },
  {
   "cell_type": "code",
   "execution_count": 118,
   "metadata": {
    "collapsed": false
   },
   "outputs": [
    {
     "data": {
      "text/html": [
       "<div>\n",
       "<style>\n",
       "    .dataframe thead tr:only-child th {\n",
       "        text-align: right;\n",
       "    }\n",
       "\n",
       "    .dataframe thead th {\n",
       "        text-align: left;\n",
       "    }\n",
       "\n",
       "    .dataframe tbody tr th {\n",
       "        vertical-align: top;\n",
       "    }\n",
       "</style>\n",
       "<table border=\"1\" class=\"dataframe\">\n",
       "  <thead>\n",
       "    <tr style=\"text-align: right;\">\n",
       "      <th></th>\n",
       "      <th>name</th>\n",
       "      <th>score</th>\n",
       "      <th>beer style</th>\n",
       "      <th>abv</th>\n",
       "      <th>cal</th>\n",
       "      <th>city</th>\n",
       "      <th>country</th>\n",
       "      <th>link</th>\n",
       "      <th>ids</th>\n",
       "    </tr>\n",
       "  </thead>\n",
       "  <tbody>\n",
       "    <tr>\n",
       "      <th>0</th>\n",
       "      <td>ivanych zhivoe svetloe</td>\n",
       "      <td>2.84</td>\n",
       "      <td>Zwickel/Keller/Landbier</td>\n",
       "      <td>4.5</td>\n",
       "      <td>135.0</td>\n",
       "      <td>Sukhum</td>\n",
       "      <td>Abkhazia</td>\n",
       "      <td>/beer/ivanych-zhivoe-svetloe/301247/</td>\n",
       "      <td>301247</td>\n",
       "    </tr>\n",
       "    <tr>\n",
       "      <th>1</th>\n",
       "      <td>stara praha oldenburg tiemnoye</td>\n",
       "      <td>2.52</td>\n",
       "      <td>Dunkel/Tmavý</td>\n",
       "      <td>4.7</td>\n",
       "      <td>141.0</td>\n",
       "      <td>Stara Gagra</td>\n",
       "      <td>Abkhazia</td>\n",
       "      <td>/beer/stara-praha-oldenburg-tiemnoye/334787/</td>\n",
       "      <td>334787</td>\n",
       "    </tr>\n",
       "    <tr>\n",
       "      <th>2</th>\n",
       "      <td>stara praha oldenburg svetloe</td>\n",
       "      <td>2.51</td>\n",
       "      <td>Pale Lager</td>\n",
       "      <td>4.7</td>\n",
       "      <td>141.0</td>\n",
       "      <td>Stara Gagra</td>\n",
       "      <td>Abkhazia</td>\n",
       "      <td>/beer/stara-praha-oldenburg-svetloe/334785/</td>\n",
       "      <td>334785</td>\n",
       "    </tr>\n",
       "    <tr>\n",
       "      <th>3</th>\n",
       "      <td>stara praha oldenburg jantarnoye</td>\n",
       "      <td>2.49</td>\n",
       "      <td>Amber Lager/Vienna</td>\n",
       "      <td>4.5</td>\n",
       "      <td>135.0</td>\n",
       "      <td>Stara Gagra</td>\n",
       "      <td>Abkhazia</td>\n",
       "      <td>/beer/stara-praha-oldenburg-jantarnoye/334786/</td>\n",
       "      <td>334786</td>\n",
       "    </tr>\n",
       "    <tr>\n",
       "      <th>4</th>\n",
       "      <td>assir lager svetloe</td>\n",
       "      <td>2.37</td>\n",
       "      <td>Pale Lager</td>\n",
       "      <td>5.0</td>\n",
       "      <td>150.0</td>\n",
       "      <td>Alakhadzykh Village Gagra Region</td>\n",
       "      <td>Abkhazia</td>\n",
       "      <td>/beer/assir-lager-svetloe/191169/</td>\n",
       "      <td>191169</td>\n",
       "    </tr>\n",
       "  </tbody>\n",
       "</table>\n",
       "</div>"
      ],
      "text/plain": [
       "                               name  score               beer style  abv  \\\n",
       "0            ivanych zhivoe svetloe   2.84  Zwickel/Keller/Landbier  4.5   \n",
       "1    stara praha oldenburg tiemnoye   2.52             Dunkel/Tmavý  4.7   \n",
       "2     stara praha oldenburg svetloe   2.51               Pale Lager  4.7   \n",
       "3  stara praha oldenburg jantarnoye   2.49       Amber Lager/Vienna  4.5   \n",
       "4               assir lager svetloe   2.37               Pale Lager  5.0   \n",
       "\n",
       "     cal                              city   country  \\\n",
       "0  135.0                            Sukhum  Abkhazia   \n",
       "1  141.0                       Stara Gagra  Abkhazia   \n",
       "2  141.0                       Stara Gagra  Abkhazia   \n",
       "3  135.0                       Stara Gagra  Abkhazia   \n",
       "4  150.0  Alakhadzykh Village Gagra Region  Abkhazia   \n",
       "\n",
       "                                             link     ids  \n",
       "0            /beer/ivanych-zhivoe-svetloe/301247/  301247  \n",
       "1    /beer/stara-praha-oldenburg-tiemnoye/334787/  334787  \n",
       "2     /beer/stara-praha-oldenburg-svetloe/334785/  334785  \n",
       "3  /beer/stara-praha-oldenburg-jantarnoye/334786/  334786  \n",
       "4               /beer/assir-lager-svetloe/191169/  191169  "
      ]
     },
     "execution_count": 118,
     "metadata": {},
     "output_type": "execute_result"
    }
   ],
   "source": [
    "df_rb.head()"
   ]
  },
  {
   "cell_type": "code",
   "execution_count": 119,
   "metadata": {
    "collapsed": false
   },
   "outputs": [
    {
     "data": {
      "text/plain": [
       "(5006, 9)"
      ]
     },
     "execution_count": 119,
     "metadata": {},
     "output_type": "execute_result"
    }
   ],
   "source": [
    "df_rb.shape"
   ]
  },
  {
   "cell_type": "markdown",
   "metadata": {},
   "source": [
    "# Merge data"
   ]
  },
  {
   "cell_type": "code",
   "execution_count": 120,
   "metadata": {
    "collapsed": false
   },
   "outputs": [
    {
     "data": {
      "text/html": [
       "<div>\n",
       "<style>\n",
       "    .dataframe thead tr:only-child th {\n",
       "        text-align: right;\n",
       "    }\n",
       "\n",
       "    .dataframe thead th {\n",
       "        text-align: left;\n",
       "    }\n",
       "\n",
       "    .dataframe tbody tr th {\n",
       "        vertical-align: top;\n",
       "    }\n",
       "</style>\n",
       "<table border=\"1\" class=\"dataframe\">\n",
       "  <thead>\n",
       "    <tr style=\"text-align: right;\">\n",
       "      <th></th>\n",
       "      <th>name</th>\n",
       "      <th>score</th>\n",
       "      <th>beer style</th>\n",
       "      <th>abv</th>\n",
       "      <th>cal</th>\n",
       "      <th>city</th>\n",
       "      <th>country</th>\n",
       "      <th>link</th>\n",
       "    </tr>\n",
       "    <tr>\n",
       "      <th>ids</th>\n",
       "      <th></th>\n",
       "      <th></th>\n",
       "      <th></th>\n",
       "      <th></th>\n",
       "      <th></th>\n",
       "      <th></th>\n",
       "      <th></th>\n",
       "      <th></th>\n",
       "    </tr>\n",
       "  </thead>\n",
       "  <tbody>\n",
       "    <tr>\n",
       "      <th>301247</th>\n",
       "      <td>ivanych zhivoe svetloe</td>\n",
       "      <td>2.84</td>\n",
       "      <td>Zwickel/Keller/Landbier</td>\n",
       "      <td>4.5</td>\n",
       "      <td>135.0</td>\n",
       "      <td>Sukhum</td>\n",
       "      <td>Abkhazia</td>\n",
       "      <td>/beer/ivanych-zhivoe-svetloe/301247/</td>\n",
       "    </tr>\n",
       "    <tr>\n",
       "      <th>334787</th>\n",
       "      <td>stara praha oldenburg tiemnoye</td>\n",
       "      <td>2.52</td>\n",
       "      <td>Dunkel/Tmavý</td>\n",
       "      <td>4.7</td>\n",
       "      <td>141.0</td>\n",
       "      <td>Stara Gagra</td>\n",
       "      <td>Abkhazia</td>\n",
       "      <td>/beer/stara-praha-oldenburg-tiemnoye/334787/</td>\n",
       "    </tr>\n",
       "  </tbody>\n",
       "</table>\n",
       "</div>"
      ],
      "text/plain": [
       "                                  name  score               beer style  abv  \\\n",
       "ids                                                                           \n",
       "301247          ivanych zhivoe svetloe   2.84  Zwickel/Keller/Landbier  4.5   \n",
       "334787  stara praha oldenburg tiemnoye   2.52             Dunkel/Tmavý  4.7   \n",
       "\n",
       "          cal         city   country  \\\n",
       "ids                                    \n",
       "301247  135.0       Sukhum  Abkhazia   \n",
       "334787  141.0  Stara Gagra  Abkhazia   \n",
       "\n",
       "                                                link  \n",
       "ids                                                   \n",
       "301247          /beer/ivanych-zhivoe-svetloe/301247/  \n",
       "334787  /beer/stara-praha-oldenburg-tiemnoye/334787/  "
      ]
     },
     "execution_count": 120,
     "metadata": {},
     "output_type": "execute_result"
    }
   ],
   "source": [
    "df_rb_id = df_rb.set_index('ids')\n",
    "df_rb_id.head(2)"
   ]
  },
  {
   "cell_type": "code",
   "execution_count": 121,
   "metadata": {
    "collapsed": false
   },
   "outputs": [
    {
     "data": {
      "text/html": [
       "<div>\n",
       "<style>\n",
       "    .dataframe thead tr:only-child th {\n",
       "        text-align: right;\n",
       "    }\n",
       "\n",
       "    .dataframe thead th {\n",
       "        text-align: left;\n",
       "    }\n",
       "\n",
       "    .dataframe tbody tr th {\n",
       "        vertical-align: top;\n",
       "    }\n",
       "</style>\n",
       "<table border=\"1\" class=\"dataframe\">\n",
       "  <thead>\n",
       "    <tr style=\"text-align: right;\">\n",
       "      <th></th>\n",
       "      <th>name</th>\n",
       "      <th>review</th>\n",
       "      <th>link</th>\n",
       "    </tr>\n",
       "    <tr>\n",
       "      <th>ids</th>\n",
       "      <th></th>\n",
       "      <th></th>\n",
       "      <th></th>\n",
       "    </tr>\n",
       "  </thead>\n",
       "  <tbody>\n",
       "    <tr>\n",
       "      <th>1</th>\n",
       "      <td>beamish irish stout</td>\n",
       "      <td>the nitro really does disservice to the beer  ...</td>\n",
       "      <td>/beer/beamish+irish+stout/1/</td>\n",
       "    </tr>\n",
       "    <tr>\n",
       "      <th>100</th>\n",
       "      <td>nutfield auburn ale</td>\n",
       "      <td>i thought this was a nice well balanced beer  ...</td>\n",
       "      <td>/beer/nutfield+auburn+ale/100/</td>\n",
       "    </tr>\n",
       "  </tbody>\n",
       "</table>\n",
       "</div>"
      ],
      "text/plain": [
       "                    name                                             review  \\\n",
       "ids                                                                           \n",
       "1    beamish irish stout  the nitro really does disservice to the beer  ...   \n",
       "100  nutfield auburn ale  i thought this was a nice well balanced beer  ...   \n",
       "\n",
       "                               link  \n",
       "ids                                  \n",
       "1      /beer/beamish+irish+stout/1/  \n",
       "100  /beer/nutfield+auburn+ale/100/  "
      ]
     },
     "execution_count": 121,
     "metadata": {},
     "output_type": "execute_result"
    }
   ],
   "source": [
    "df_rev_id = df_review.set_index('ids')\n",
    "df_rev_id.head(2)"
   ]
  },
  {
   "cell_type": "code",
   "execution_count": 122,
   "metadata": {
    "collapsed": false
   },
   "outputs": [],
   "source": [
    "df_id = pd.concat([df_rb_id, df_rev_id], axis=1, join='inner')"
   ]
  },
  {
   "cell_type": "code",
   "execution_count": 123,
   "metadata": {
    "collapsed": false
   },
   "outputs": [
    {
     "data": {
      "text/plain": [
       "(681, 11)"
      ]
     },
     "execution_count": 123,
     "metadata": {},
     "output_type": "execute_result"
    }
   ],
   "source": [
    "df_id.shape"
   ]
  },
  {
   "cell_type": "code",
   "execution_count": 124,
   "metadata": {
    "collapsed": false
   },
   "outputs": [
    {
     "data": {
      "text/html": [
       "<div>\n",
       "<style>\n",
       "    .dataframe thead tr:only-child th {\n",
       "        text-align: right;\n",
       "    }\n",
       "\n",
       "    .dataframe thead th {\n",
       "        text-align: left;\n",
       "    }\n",
       "\n",
       "    .dataframe tbody tr th {\n",
       "        vertical-align: top;\n",
       "    }\n",
       "</style>\n",
       "<table border=\"1\" class=\"dataframe\">\n",
       "  <thead>\n",
       "    <tr style=\"text-align: right;\">\n",
       "      <th></th>\n",
       "      <th>score</th>\n",
       "      <th>beer style</th>\n",
       "      <th>abv</th>\n",
       "      <th>cal</th>\n",
       "      <th>city</th>\n",
       "      <th>country</th>\n",
       "      <th>link</th>\n",
       "      <th>ids</th>\n",
       "    </tr>\n",
       "    <tr>\n",
       "      <th>name</th>\n",
       "      <th></th>\n",
       "      <th></th>\n",
       "      <th></th>\n",
       "      <th></th>\n",
       "      <th></th>\n",
       "      <th></th>\n",
       "      <th></th>\n",
       "      <th></th>\n",
       "    </tr>\n",
       "  </thead>\n",
       "  <tbody>\n",
       "    <tr>\n",
       "      <th>ivanych zhivoe svetloe</th>\n",
       "      <td>2.84</td>\n",
       "      <td>Zwickel/Keller/Landbier</td>\n",
       "      <td>4.5</td>\n",
       "      <td>135.0</td>\n",
       "      <td>Sukhum</td>\n",
       "      <td>Abkhazia</td>\n",
       "      <td>/beer/ivanych-zhivoe-svetloe/301247/</td>\n",
       "      <td>301247</td>\n",
       "    </tr>\n",
       "    <tr>\n",
       "      <th>stara praha oldenburg tiemnoye</th>\n",
       "      <td>2.52</td>\n",
       "      <td>Dunkel/Tmavý</td>\n",
       "      <td>4.7</td>\n",
       "      <td>141.0</td>\n",
       "      <td>Stara Gagra</td>\n",
       "      <td>Abkhazia</td>\n",
       "      <td>/beer/stara-praha-oldenburg-tiemnoye/334787/</td>\n",
       "      <td>334787</td>\n",
       "    </tr>\n",
       "  </tbody>\n",
       "</table>\n",
       "</div>"
      ],
      "text/plain": [
       "                                score               beer style  abv    cal  \\\n",
       "name                                                                         \n",
       "ivanych zhivoe svetloe           2.84  Zwickel/Keller/Landbier  4.5  135.0   \n",
       "stara praha oldenburg tiemnoye   2.52             Dunkel/Tmavý  4.7  141.0   \n",
       "\n",
       "                                       city   country  \\\n",
       "name                                                    \n",
       "ivanych zhivoe svetloe               Sukhum  Abkhazia   \n",
       "stara praha oldenburg tiemnoye  Stara Gagra  Abkhazia   \n",
       "\n",
       "                                                                        link  \\\n",
       "name                                                                           \n",
       "ivanych zhivoe svetloe                  /beer/ivanych-zhivoe-svetloe/301247/   \n",
       "stara praha oldenburg tiemnoye  /beer/stara-praha-oldenburg-tiemnoye/334787/   \n",
       "\n",
       "                                   ids  \n",
       "name                                    \n",
       "ivanych zhivoe svetloe          301247  \n",
       "stara praha oldenburg tiemnoye  334787  "
      ]
     },
     "execution_count": 124,
     "metadata": {},
     "output_type": "execute_result"
    }
   ],
   "source": [
    "df_rb_name = df_rb.set_index('name')\n",
    "df_rb_name.head(2)"
   ]
  },
  {
   "cell_type": "code",
   "execution_count": 125,
   "metadata": {
    "collapsed": false
   },
   "outputs": [
    {
     "data": {
      "text/html": [
       "<div>\n",
       "<style>\n",
       "    .dataframe thead tr:only-child th {\n",
       "        text-align: right;\n",
       "    }\n",
       "\n",
       "    .dataframe thead th {\n",
       "        text-align: left;\n",
       "    }\n",
       "\n",
       "    .dataframe tbody tr th {\n",
       "        vertical-align: top;\n",
       "    }\n",
       "</style>\n",
       "<table border=\"1\" class=\"dataframe\">\n",
       "  <thead>\n",
       "    <tr style=\"text-align: right;\">\n",
       "      <th></th>\n",
       "      <th>ids</th>\n",
       "      <th>review</th>\n",
       "      <th>link</th>\n",
       "    </tr>\n",
       "    <tr>\n",
       "      <th>name</th>\n",
       "      <th></th>\n",
       "      <th></th>\n",
       "      <th></th>\n",
       "    </tr>\n",
       "  </thead>\n",
       "  <tbody>\n",
       "    <tr>\n",
       "      <th>beamish irish stout</th>\n",
       "      <td>1</td>\n",
       "      <td>the nitro really does disservice to the beer  ...</td>\n",
       "      <td>/beer/beamish+irish+stout/1/</td>\n",
       "    </tr>\n",
       "    <tr>\n",
       "      <th>nutfield auburn ale</th>\n",
       "      <td>100</td>\n",
       "      <td>i thought this was a nice well balanced beer  ...</td>\n",
       "      <td>/beer/nutfield+auburn+ale/100/</td>\n",
       "    </tr>\n",
       "  </tbody>\n",
       "</table>\n",
       "</div>"
      ],
      "text/plain": [
       "                     ids                                             review  \\\n",
       "name                                                                          \n",
       "beamish irish stout    1  the nitro really does disservice to the beer  ...   \n",
       "nutfield auburn ale  100  i thought this was a nice well balanced beer  ...   \n",
       "\n",
       "                                               link  \n",
       "name                                                 \n",
       "beamish irish stout    /beer/beamish+irish+stout/1/  \n",
       "nutfield auburn ale  /beer/nutfield+auburn+ale/100/  "
      ]
     },
     "execution_count": 125,
     "metadata": {},
     "output_type": "execute_result"
    }
   ],
   "source": [
    "df_rev_name = df_review.set_index('name')\n",
    "df_rev_name.head(2)"
   ]
  },
  {
   "cell_type": "code",
   "execution_count": 127,
   "metadata": {
    "collapsed": false
   },
   "outputs": [
    {
     "data": {
      "text/plain": [
       "<matplotlib.axes._subplots.AxesSubplot at 0x18b261f60>"
      ]
     },
     "execution_count": 127,
     "metadata": {},
     "output_type": "execute_result"
    },
    {
     "data": {
      "image/png": "[encoded data removed]",
      "text/plain": [
       "<matplotlib.figure.Figure at 0x18b54eba8>"
      ]
     },
     "metadata": {},
     "output_type": "display_data"
    }
   ],
   "source": [
    "df_id.country.value_counts()[:50].plot(kind='bar', figsize=(14,4))"
   ]
  }
 ],
 "metadata": {
  "anaconda-cloud": {},
  "kernelspec": {
   "display_name": "Python [conda env:ada]",
   "language": "python",
   "name": "conda-env-ada-py"
  },
  "language_info": {
   "codemirror_mode": {
    "name": "ipython",
    "version": 3
   },
   "file_extension": ".py",
   "mimetype": "text/x-python",
   "name": "python",
   "nbconvert_exporter": "python",
   "pygments_lexer": "ipython3",
   "version": "3.5.2"
  }
 },
 "nbformat": 4,
 "nbformat_minor": 2
}
